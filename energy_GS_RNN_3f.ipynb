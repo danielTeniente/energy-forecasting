{
  "cells": [
    {
      "cell_type": "markdown",
      "metadata": {
        "id": "ud1O2XCGNR_7"
      },
      "source": [
        "# RNN"
      ]
    },
    {
      "cell_type": "code",
      "execution_count": null,
      "metadata": {
        "id": "mPgtP8wT6p7W"
      },
      "outputs": [],
      "source": [
        "import numpy as np\n",
        "from sklearn.model_selection import train_test_split\n",
        "from sklearn.ensemble import ExtraTreesRegressor\n",
        "from sklearn.preprocessing import MinMaxScaler\n",
        "import pandas as pd\n",
        "from sklearn.metrics import mean_squared_error, r2_score, mean_absolute_error\n",
        "import json\n",
        "import matplotlib.pyplot as plt\n",
        "\n",
        "import os"
      ]
    },
    {
      "cell_type": "code",
      "execution_count": null,
      "metadata": {
        "colab": {
          "base_uri": "https://localhost:8080/"
        },
        "id": "wX5zyKDVAXdn",
        "outputId": "bdb6c46f-03c3-4ff4-bf99-933d5b981ed4"
      },
      "outputs": [
        {
          "output_type": "stream",
          "name": "stdout",
          "text": [
            "2.15.0\n"
          ]
        }
      ],
      "source": [
        "import tensorflow as tf\n",
        "from tensorflow import keras\n",
        "\n",
        "print(tf.version.VERSION)"
      ]
    },
    {
      "cell_type": "code",
      "execution_count": null,
      "metadata": {
        "id": "yuxaN8xD8t5Y"
      },
      "outputs": [],
      "source": [
        "# Replace 'your_folder_path' with the actual path to your folder containing text files\n",
        "folder_path = './drive/MyDrive/DatosInvestigacion/resultados/energy/data-continua/'"
      ]
    },
    {
      "cell_type": "code",
      "execution_count": null,
      "metadata": {
        "id": "2Th85YbK8vzm"
      },
      "outputs": [],
      "source": [
        "file_path = os.path.join(folder_path, 'df_clean_all_2_22.csv')\n",
        "df = pd.read_csv(file_path, index_col=0, parse_dates=True)"
      ]
    },
    {
      "cell_type": "code",
      "execution_count": null,
      "metadata": {
        "id": "gxIp-fll805u"
      },
      "outputs": [],
      "source": [
        "df_compare = df.resample('2T').asfreq()"
      ]
    },
    {
      "cell_type": "code",
      "execution_count": null,
      "metadata": {
        "colab": {
          "base_uri": "https://localhost:8080/"
        },
        "id": "XvxF51vX9Oiu",
        "outputId": "d6c922ae-a0d3-4cbe-a51d-b6472fbf441a"
      },
      "outputs": [
        {
          "output_type": "execute_result",
          "data": {
            "text/plain": [
              "Potencia_3F_[W]           0\n",
              "Potencia_3F_[VA]          0\n",
              "Factor de Potencia        0\n",
              "Voltaje_(R)_[V]           0\n",
              "Voltaje_(S)_[V]           0\n",
              "Voltaje_(T)_[V]           0\n",
              "Voltaje_(RS)_[V]          0\n",
              "Voltaje_(ST)_[V]          0\n",
              "Voltaje_(TR)_[V]          0\n",
              "Corriente_R_[A]           0\n",
              "Corriente_S_[A]           0\n",
              "Corriente_T_[A]           0\n",
              "Potencia_R_[VA]           0\n",
              "Potencia_S_[VA]           0\n",
              "Potencia_T_[VA]           0\n",
              "Potencia_R_[W]            0\n",
              "Potencia_S_[W]            0\n",
              "Potencia_T_[W]            0\n",
              "Potencia_R_[VAR]          0\n",
              "Potencia_S_[VAR]          0\n",
              "Potencia_T_[VAR]          0\n",
              "Corriente_N_[A]           0\n",
              "Frecuencia_[Hz]           0\n",
              "Potencia_3F_[VAR]         0\n",
              "suma_potencias_W          0\n",
              "suma_potencias_VA         0\n",
              "factor_total_calculado    0\n",
              "anomaly                   0\n",
              "dtype: int64"
            ]
          },
          "metadata": {},
          "execution_count": 7
        }
      ],
      "source": [
        "df.isna().sum()"
      ]
    },
    {
      "cell_type": "code",
      "execution_count": null,
      "metadata": {
        "colab": {
          "base_uri": "https://localhost:8080/"
        },
        "id": "KQOD0LkF4RN9",
        "outputId": "a31d86f6-7047-41e5-ad9e-0138d4127591"
      },
      "outputs": [
        {
          "output_type": "execute_result",
          "data": {
            "text/plain": [
              "Potencia_3F_[W]           50\n",
              "Potencia_3F_[VA]          50\n",
              "Factor de Potencia        50\n",
              "Voltaje_(R)_[V]           50\n",
              "Voltaje_(S)_[V]           50\n",
              "Voltaje_(T)_[V]           50\n",
              "Voltaje_(RS)_[V]          50\n",
              "Voltaje_(ST)_[V]          50\n",
              "Voltaje_(TR)_[V]          50\n",
              "Corriente_R_[A]           50\n",
              "Corriente_S_[A]           50\n",
              "Corriente_T_[A]           50\n",
              "Potencia_R_[VA]           50\n",
              "Potencia_S_[VA]           50\n",
              "Potencia_T_[VA]           50\n",
              "Potencia_R_[W]            50\n",
              "Potencia_S_[W]            50\n",
              "Potencia_T_[W]            50\n",
              "Potencia_R_[VAR]          50\n",
              "Potencia_S_[VAR]          50\n",
              "Potencia_T_[VAR]          50\n",
              "Corriente_N_[A]           50\n",
              "Frecuencia_[Hz]           50\n",
              "Potencia_3F_[VAR]         50\n",
              "suma_potencias_W          50\n",
              "suma_potencias_VA         50\n",
              "factor_total_calculado    50\n",
              "anomaly                   50\n",
              "dtype: int64"
            ]
          },
          "metadata": {},
          "execution_count": 8
        }
      ],
      "source": [
        "df_compare.isna().sum()"
      ]
    },
    {
      "cell_type": "code",
      "execution_count": null,
      "metadata": {
        "id": "BV02j3pA87ce"
      },
      "outputs": [],
      "source": [
        "df.sort_index(ascending=True, inplace=True)"
      ]
    },
    {
      "cell_type": "code",
      "execution_count": null,
      "metadata": {
        "colab": {
          "base_uri": "https://localhost:8080/"
        },
        "id": "DZEhWSrU89O-",
        "outputId": "9fce45c9-2c33-4743-8406-fdb1db86b492"
      },
      "outputs": [
        {
          "output_type": "execute_result",
          "data": {
            "text/plain": [
              "7332"
            ]
          },
          "metadata": {},
          "execution_count": 10
        }
      ],
      "source": [
        "train_size = int(len(df)*0.7)\n",
        "train_size"
      ]
    },
    {
      "cell_type": "code",
      "execution_count": null,
      "metadata": {
        "colab": {
          "base_uri": "https://localhost:8080/"
        },
        "id": "52llUtivLngf",
        "outputId": "4d1e506b-8be7-49a4-d249-b73b856bdead"
      },
      "outputs": [
        {
          "output_type": "execute_result",
          "data": {
            "text/plain": [
              "1047"
            ]
          },
          "metadata": {},
          "execution_count": 11
        }
      ],
      "source": [
        "val_size = int(len(df)*0.1)\n",
        "val_size"
      ]
    },
    {
      "cell_type": "code",
      "execution_count": null,
      "metadata": {
        "id": "YZlZy93F8-vP"
      },
      "outputs": [],
      "source": [
        "df_train = df.iloc[:train_size]"
      ]
    },
    {
      "cell_type": "code",
      "execution_count": null,
      "metadata": {
        "id": "uAPzVCi4L3FK"
      },
      "outputs": [],
      "source": [
        "df_val = df.iloc[train_size:train_size+val_size]"
      ]
    },
    {
      "cell_type": "code",
      "execution_count": null,
      "metadata": {
        "colab": {
          "base_uri": "https://localhost:8080/"
        },
        "id": "xitIY3YCL78n",
        "outputId": "875f2fa4-c780-4f26-cf48-a6080d146a4c"
      },
      "outputs": [
        {
          "output_type": "execute_result",
          "data": {
            "text/plain": [
              "1047"
            ]
          },
          "metadata": {},
          "execution_count": 14
        }
      ],
      "source": [
        "len(df_val)"
      ]
    },
    {
      "cell_type": "code",
      "execution_count": null,
      "metadata": {
        "id": "r-_heiBZ8_03"
      },
      "outputs": [],
      "source": [
        "df_test = df.iloc[train_size+val_size:]"
      ]
    },
    {
      "cell_type": "code",
      "execution_count": null,
      "metadata": {
        "colab": {
          "base_uri": "https://localhost:8080/",
          "height": 199
        },
        "id": "L2iZUHDxMHij",
        "outputId": "5753b73c-d2ff-465a-e9c2-efa11914a4b1"
      },
      "outputs": [
        {
          "output_type": "execute_result",
          "data": {
            "text/plain": [
              "                     Potencia_3F_[W]  Potencia_3F_[VA]  Factor de Potencia  \\\n",
              "2020-12-17 09:10:00          764.273           870.925               0.877   \n",
              "\n",
              "                     Voltaje_(R)_[V]  Voltaje_(S)_[V]  Voltaje_(T)_[V]  \\\n",
              "2020-12-17 09:10:00          126.198          125.841          126.782   \n",
              "\n",
              "                     Voltaje_(RS)_[V]  Voltaje_(ST)_[V]  Voltaje_(TR)_[V]  \\\n",
              "2020-12-17 09:10:00           217.997           219.529           218.545   \n",
              "\n",
              "                     Corriente_R_[A]  ...  Potencia_R_[VAR]  Potencia_S_[VAR]  \\\n",
              "2020-12-17 09:10:00            1.436  ...            -3.085            88.859   \n",
              "\n",
              "                     Potencia_T_[VAR]  Corriente_N_[A]  Frecuencia_[Hz]  \\\n",
              "2020-12-17 09:10:00           -68.702            2.926           59.983   \n",
              "\n",
              "                     Potencia_3F_[VAR]  suma_potencias_W  suma_potencias_VA  \\\n",
              "2020-12-17 09:10:00             17.073           764.273            870.925   \n",
              "\n",
              "                     factor_total_calculado  anomaly  \n",
              "2020-12-17 09:10:00                0.877542        1  \n",
              "\n",
              "[1 rows x 28 columns]"
            ],
            "text/html": [
              "\n",
              "  <div id=\"df-be1ed143-735a-4de4-98d2-d45cba86adc7\" class=\"colab-df-container\">\n",
              "    <div>\n",
              "<style scoped>\n",
              "    .dataframe tbody tr th:only-of-type {\n",
              "        vertical-align: middle;\n",
              "    }\n",
              "\n",
              "    .dataframe tbody tr th {\n",
              "        vertical-align: top;\n",
              "    }\n",
              "\n",
              "    .dataframe thead th {\n",
              "        text-align: right;\n",
              "    }\n",
              "</style>\n",
              "<table border=\"1\" class=\"dataframe\">\n",
              "  <thead>\n",
              "    <tr style=\"text-align: right;\">\n",
              "      <th></th>\n",
              "      <th>Potencia_3F_[W]</th>\n",
              "      <th>Potencia_3F_[VA]</th>\n",
              "      <th>Factor de Potencia</th>\n",
              "      <th>Voltaje_(R)_[V]</th>\n",
              "      <th>Voltaje_(S)_[V]</th>\n",
              "      <th>Voltaje_(T)_[V]</th>\n",
              "      <th>Voltaje_(RS)_[V]</th>\n",
              "      <th>Voltaje_(ST)_[V]</th>\n",
              "      <th>Voltaje_(TR)_[V]</th>\n",
              "      <th>Corriente_R_[A]</th>\n",
              "      <th>...</th>\n",
              "      <th>Potencia_R_[VAR]</th>\n",
              "      <th>Potencia_S_[VAR]</th>\n",
              "      <th>Potencia_T_[VAR]</th>\n",
              "      <th>Corriente_N_[A]</th>\n",
              "      <th>Frecuencia_[Hz]</th>\n",
              "      <th>Potencia_3F_[VAR]</th>\n",
              "      <th>suma_potencias_W</th>\n",
              "      <th>suma_potencias_VA</th>\n",
              "      <th>factor_total_calculado</th>\n",
              "      <th>anomaly</th>\n",
              "    </tr>\n",
              "  </thead>\n",
              "  <tbody>\n",
              "    <tr>\n",
              "      <th>2020-12-17 09:10:00</th>\n",
              "      <td>764.273</td>\n",
              "      <td>870.925</td>\n",
              "      <td>0.877</td>\n",
              "      <td>126.198</td>\n",
              "      <td>125.841</td>\n",
              "      <td>126.782</td>\n",
              "      <td>217.997</td>\n",
              "      <td>219.529</td>\n",
              "      <td>218.545</td>\n",
              "      <td>1.436</td>\n",
              "      <td>...</td>\n",
              "      <td>-3.085</td>\n",
              "      <td>88.859</td>\n",
              "      <td>-68.702</td>\n",
              "      <td>2.926</td>\n",
              "      <td>59.983</td>\n",
              "      <td>17.073</td>\n",
              "      <td>764.273</td>\n",
              "      <td>870.925</td>\n",
              "      <td>0.877542</td>\n",
              "      <td>1</td>\n",
              "    </tr>\n",
              "  </tbody>\n",
              "</table>\n",
              "<p>1 rows × 28 columns</p>\n",
              "</div>\n",
              "    <div class=\"colab-df-buttons\">\n",
              "\n",
              "  <div class=\"colab-df-container\">\n",
              "    <button class=\"colab-df-convert\" onclick=\"convertToInteractive('df-be1ed143-735a-4de4-98d2-d45cba86adc7')\"\n",
              "            title=\"Convert this dataframe to an interactive table.\"\n",
              "            style=\"display:none;\">\n",
              "\n",
              "  <svg xmlns=\"http://www.w3.org/2000/svg\" height=\"24px\" viewBox=\"0 -960 960 960\">\n",
              "    <path d=\"M120-120v-720h720v720H120Zm60-500h600v-160H180v160Zm220 220h160v-160H400v160Zm0 220h160v-160H400v160ZM180-400h160v-160H180v160Zm440 0h160v-160H620v160ZM180-180h160v-160H180v160Zm440 0h160v-160H620v160Z\"/>\n",
              "  </svg>\n",
              "    </button>\n",
              "\n",
              "  <style>\n",
              "    .colab-df-container {\n",
              "      display:flex;\n",
              "      gap: 12px;\n",
              "    }\n",
              "\n",
              "    .colab-df-convert {\n",
              "      background-color: #E8F0FE;\n",
              "      border: none;\n",
              "      border-radius: 50%;\n",
              "      cursor: pointer;\n",
              "      display: none;\n",
              "      fill: #1967D2;\n",
              "      height: 32px;\n",
              "      padding: 0 0 0 0;\n",
              "      width: 32px;\n",
              "    }\n",
              "\n",
              "    .colab-df-convert:hover {\n",
              "      background-color: #E2EBFA;\n",
              "      box-shadow: 0px 1px 2px rgba(60, 64, 67, 0.3), 0px 1px 3px 1px rgba(60, 64, 67, 0.15);\n",
              "      fill: #174EA6;\n",
              "    }\n",
              "\n",
              "    .colab-df-buttons div {\n",
              "      margin-bottom: 4px;\n",
              "    }\n",
              "\n",
              "    [theme=dark] .colab-df-convert {\n",
              "      background-color: #3B4455;\n",
              "      fill: #D2E3FC;\n",
              "    }\n",
              "\n",
              "    [theme=dark] .colab-df-convert:hover {\n",
              "      background-color: #434B5C;\n",
              "      box-shadow: 0px 1px 3px 1px rgba(0, 0, 0, 0.15);\n",
              "      filter: drop-shadow(0px 1px 2px rgba(0, 0, 0, 0.3));\n",
              "      fill: #FFFFFF;\n",
              "    }\n",
              "  </style>\n",
              "\n",
              "    <script>\n",
              "      const buttonEl =\n",
              "        document.querySelector('#df-be1ed143-735a-4de4-98d2-d45cba86adc7 button.colab-df-convert');\n",
              "      buttonEl.style.display =\n",
              "        google.colab.kernel.accessAllowed ? 'block' : 'none';\n",
              "\n",
              "      async function convertToInteractive(key) {\n",
              "        const element = document.querySelector('#df-be1ed143-735a-4de4-98d2-d45cba86adc7');\n",
              "        const dataTable =\n",
              "          await google.colab.kernel.invokeFunction('convertToInteractive',\n",
              "                                                    [key], {});\n",
              "        if (!dataTable) return;\n",
              "\n",
              "        const docLinkHtml = 'Like what you see? Visit the ' +\n",
              "          '<a target=\"_blank\" href=https://colab.research.google.com/notebooks/data_table.ipynb>data table notebook</a>'\n",
              "          + ' to learn more about interactive tables.';\n",
              "        element.innerHTML = '';\n",
              "        dataTable['output_type'] = 'display_data';\n",
              "        await google.colab.output.renderOutput(dataTable, element);\n",
              "        const docLink = document.createElement('div');\n",
              "        docLink.innerHTML = docLinkHtml;\n",
              "        element.appendChild(docLink);\n",
              "      }\n",
              "    </script>\n",
              "  </div>\n",
              "\n",
              "\n",
              "    </div>\n",
              "  </div>\n"
            ],
            "application/vnd.google.colaboratory.intrinsic+json": {
              "type": "dataframe",
              "variable_name": "df_train"
            }
          },
          "metadata": {},
          "execution_count": 16
        }
      ],
      "source": [
        "df_train.head(1)"
      ]
    },
    {
      "cell_type": "code",
      "execution_count": null,
      "metadata": {
        "colab": {
          "base_uri": "https://localhost:8080/",
          "height": 199
        },
        "id": "m1RtZXI4MJI4",
        "outputId": "807b9b3f-bea8-45d6-dcdf-935658cf7cf4"
      },
      "outputs": [
        {
          "output_type": "execute_result",
          "data": {
            "text/plain": [
              "                     Potencia_3F_[W]  Potencia_3F_[VA]  Factor de Potencia  \\\n",
              "2020-12-27 14:44:00          453.005           532.047               0.826   \n",
              "\n",
              "                     Voltaje_(R)_[V]  Voltaje_(S)_[V]  Voltaje_(T)_[V]  \\\n",
              "2020-12-27 14:44:00          126.302           127.01          128.644   \n",
              "\n",
              "                     Voltaje_(RS)_[V]  Voltaje_(ST)_[V]  Voltaje_(TR)_[V]  \\\n",
              "2020-12-27 14:44:00           218.619           222.142           220.757   \n",
              "\n",
              "                     Corriente_R_[A]  ...  Potencia_R_[VAR]  Potencia_S_[VAR]  \\\n",
              "2020-12-27 14:44:00            1.278  ...            -5.111            61.525   \n",
              "\n",
              "                     Potencia_T_[VAR]  Corriente_N_[A]  Frecuencia_[Hz]  \\\n",
              "2020-12-27 14:44:00           -37.721            1.941           58.233   \n",
              "\n",
              "                     Potencia_3F_[VAR]  suma_potencias_W  suma_potencias_VA  \\\n",
              "2020-12-27 14:44:00             18.693           464.086            548.099   \n",
              "\n",
              "                     factor_total_calculado  anomaly  \n",
              "2020-12-27 14:44:00                0.846719        1  \n",
              "\n",
              "[1 rows x 28 columns]"
            ],
            "text/html": [
              "\n",
              "  <div id=\"df-cb173a7f-d767-4e75-a939-3d71a2a362d1\" class=\"colab-df-container\">\n",
              "    <div>\n",
              "<style scoped>\n",
              "    .dataframe tbody tr th:only-of-type {\n",
              "        vertical-align: middle;\n",
              "    }\n",
              "\n",
              "    .dataframe tbody tr th {\n",
              "        vertical-align: top;\n",
              "    }\n",
              "\n",
              "    .dataframe thead th {\n",
              "        text-align: right;\n",
              "    }\n",
              "</style>\n",
              "<table border=\"1\" class=\"dataframe\">\n",
              "  <thead>\n",
              "    <tr style=\"text-align: right;\">\n",
              "      <th></th>\n",
              "      <th>Potencia_3F_[W]</th>\n",
              "      <th>Potencia_3F_[VA]</th>\n",
              "      <th>Factor de Potencia</th>\n",
              "      <th>Voltaje_(R)_[V]</th>\n",
              "      <th>Voltaje_(S)_[V]</th>\n",
              "      <th>Voltaje_(T)_[V]</th>\n",
              "      <th>Voltaje_(RS)_[V]</th>\n",
              "      <th>Voltaje_(ST)_[V]</th>\n",
              "      <th>Voltaje_(TR)_[V]</th>\n",
              "      <th>Corriente_R_[A]</th>\n",
              "      <th>...</th>\n",
              "      <th>Potencia_R_[VAR]</th>\n",
              "      <th>Potencia_S_[VAR]</th>\n",
              "      <th>Potencia_T_[VAR]</th>\n",
              "      <th>Corriente_N_[A]</th>\n",
              "      <th>Frecuencia_[Hz]</th>\n",
              "      <th>Potencia_3F_[VAR]</th>\n",
              "      <th>suma_potencias_W</th>\n",
              "      <th>suma_potencias_VA</th>\n",
              "      <th>factor_total_calculado</th>\n",
              "      <th>anomaly</th>\n",
              "    </tr>\n",
              "  </thead>\n",
              "  <tbody>\n",
              "    <tr>\n",
              "      <th>2020-12-27 14:44:00</th>\n",
              "      <td>453.005</td>\n",
              "      <td>532.047</td>\n",
              "      <td>0.826</td>\n",
              "      <td>126.302</td>\n",
              "      <td>127.01</td>\n",
              "      <td>128.644</td>\n",
              "      <td>218.619</td>\n",
              "      <td>222.142</td>\n",
              "      <td>220.757</td>\n",
              "      <td>1.278</td>\n",
              "      <td>...</td>\n",
              "      <td>-5.111</td>\n",
              "      <td>61.525</td>\n",
              "      <td>-37.721</td>\n",
              "      <td>1.941</td>\n",
              "      <td>58.233</td>\n",
              "      <td>18.693</td>\n",
              "      <td>464.086</td>\n",
              "      <td>548.099</td>\n",
              "      <td>0.846719</td>\n",
              "      <td>1</td>\n",
              "    </tr>\n",
              "  </tbody>\n",
              "</table>\n",
              "<p>1 rows × 28 columns</p>\n",
              "</div>\n",
              "    <div class=\"colab-df-buttons\">\n",
              "\n",
              "  <div class=\"colab-df-container\">\n",
              "    <button class=\"colab-df-convert\" onclick=\"convertToInteractive('df-cb173a7f-d767-4e75-a939-3d71a2a362d1')\"\n",
              "            title=\"Convert this dataframe to an interactive table.\"\n",
              "            style=\"display:none;\">\n",
              "\n",
              "  <svg xmlns=\"http://www.w3.org/2000/svg\" height=\"24px\" viewBox=\"0 -960 960 960\">\n",
              "    <path d=\"M120-120v-720h720v720H120Zm60-500h600v-160H180v160Zm220 220h160v-160H400v160Zm0 220h160v-160H400v160ZM180-400h160v-160H180v160Zm440 0h160v-160H620v160ZM180-180h160v-160H180v160Zm440 0h160v-160H620v160Z\"/>\n",
              "  </svg>\n",
              "    </button>\n",
              "\n",
              "  <style>\n",
              "    .colab-df-container {\n",
              "      display:flex;\n",
              "      gap: 12px;\n",
              "    }\n",
              "\n",
              "    .colab-df-convert {\n",
              "      background-color: #E8F0FE;\n",
              "      border: none;\n",
              "      border-radius: 50%;\n",
              "      cursor: pointer;\n",
              "      display: none;\n",
              "      fill: #1967D2;\n",
              "      height: 32px;\n",
              "      padding: 0 0 0 0;\n",
              "      width: 32px;\n",
              "    }\n",
              "\n",
              "    .colab-df-convert:hover {\n",
              "      background-color: #E2EBFA;\n",
              "      box-shadow: 0px 1px 2px rgba(60, 64, 67, 0.3), 0px 1px 3px 1px rgba(60, 64, 67, 0.15);\n",
              "      fill: #174EA6;\n",
              "    }\n",
              "\n",
              "    .colab-df-buttons div {\n",
              "      margin-bottom: 4px;\n",
              "    }\n",
              "\n",
              "    [theme=dark] .colab-df-convert {\n",
              "      background-color: #3B4455;\n",
              "      fill: #D2E3FC;\n",
              "    }\n",
              "\n",
              "    [theme=dark] .colab-df-convert:hover {\n",
              "      background-color: #434B5C;\n",
              "      box-shadow: 0px 1px 3px 1px rgba(0, 0, 0, 0.15);\n",
              "      filter: drop-shadow(0px 1px 2px rgba(0, 0, 0, 0.3));\n",
              "      fill: #FFFFFF;\n",
              "    }\n",
              "  </style>\n",
              "\n",
              "    <script>\n",
              "      const buttonEl =\n",
              "        document.querySelector('#df-cb173a7f-d767-4e75-a939-3d71a2a362d1 button.colab-df-convert');\n",
              "      buttonEl.style.display =\n",
              "        google.colab.kernel.accessAllowed ? 'block' : 'none';\n",
              "\n",
              "      async function convertToInteractive(key) {\n",
              "        const element = document.querySelector('#df-cb173a7f-d767-4e75-a939-3d71a2a362d1');\n",
              "        const dataTable =\n",
              "          await google.colab.kernel.invokeFunction('convertToInteractive',\n",
              "                                                    [key], {});\n",
              "        if (!dataTable) return;\n",
              "\n",
              "        const docLinkHtml = 'Like what you see? Visit the ' +\n",
              "          '<a target=\"_blank\" href=https://colab.research.google.com/notebooks/data_table.ipynb>data table notebook</a>'\n",
              "          + ' to learn more about interactive tables.';\n",
              "        element.innerHTML = '';\n",
              "        dataTable['output_type'] = 'display_data';\n",
              "        await google.colab.output.renderOutput(dataTable, element);\n",
              "        const docLink = document.createElement('div');\n",
              "        docLink.innerHTML = docLinkHtml;\n",
              "        element.appendChild(docLink);\n",
              "      }\n",
              "    </script>\n",
              "  </div>\n",
              "\n",
              "\n",
              "    </div>\n",
              "  </div>\n"
            ],
            "application/vnd.google.colaboratory.intrinsic+json": {
              "type": "dataframe"
            }
          },
          "metadata": {},
          "execution_count": 17
        }
      ],
      "source": [
        "df_train.tail(1)"
      ]
    },
    {
      "cell_type": "code",
      "execution_count": null,
      "metadata": {
        "colab": {
          "base_uri": "https://localhost:8080/",
          "height": 199
        },
        "id": "MskVWv0CMM_b",
        "outputId": "5dd4a356-e561-4f83-b753-8f99b0088fe6"
      },
      "outputs": [
        {
          "output_type": "execute_result",
          "data": {
            "text/plain": [
              "                     Potencia_3F_[W]  Potencia_3F_[VA]  Factor de Potencia  \\\n",
              "2020-12-27 14:46:00          466.538           548.037               0.851   \n",
              "\n",
              "                     Voltaje_(R)_[V]  Voltaje_(S)_[V]  Voltaje_(T)_[V]  \\\n",
              "2020-12-27 14:46:00          126.326          127.026          128.542   \n",
              "\n",
              "                     Voltaje_(RS)_[V]  Voltaje_(ST)_[V]  Voltaje_(TR)_[V]  \\\n",
              "2020-12-27 14:46:00           218.641           222.136            220.63   \n",
              "\n",
              "                     Corriente_R_[A]  ...  Potencia_R_[VAR]  Potencia_S_[VAR]  \\\n",
              "2020-12-27 14:46:00            1.276  ...            -5.289             63.24   \n",
              "\n",
              "                     Potencia_T_[VAR]  Corriente_N_[A]  Frecuencia_[Hz]  \\\n",
              "2020-12-27 14:46:00           -38.924            2.007           60.006   \n",
              "\n",
              "                     Potencia_3F_[VAR]  suma_potencias_W  suma_potencias_VA  \\\n",
              "2020-12-27 14:46:00             19.027           466.537            548.038   \n",
              "\n",
              "                     factor_total_calculado  anomaly  \n",
              "2020-12-27 14:46:00                0.851286        1  \n",
              "\n",
              "[1 rows x 28 columns]"
            ],
            "text/html": [
              "\n",
              "  <div id=\"df-aa672cc0-51d6-4d7c-9df4-aea30410b977\" class=\"colab-df-container\">\n",
              "    <div>\n",
              "<style scoped>\n",
              "    .dataframe tbody tr th:only-of-type {\n",
              "        vertical-align: middle;\n",
              "    }\n",
              "\n",
              "    .dataframe tbody tr th {\n",
              "        vertical-align: top;\n",
              "    }\n",
              "\n",
              "    .dataframe thead th {\n",
              "        text-align: right;\n",
              "    }\n",
              "</style>\n",
              "<table border=\"1\" class=\"dataframe\">\n",
              "  <thead>\n",
              "    <tr style=\"text-align: right;\">\n",
              "      <th></th>\n",
              "      <th>Potencia_3F_[W]</th>\n",
              "      <th>Potencia_3F_[VA]</th>\n",
              "      <th>Factor de Potencia</th>\n",
              "      <th>Voltaje_(R)_[V]</th>\n",
              "      <th>Voltaje_(S)_[V]</th>\n",
              "      <th>Voltaje_(T)_[V]</th>\n",
              "      <th>Voltaje_(RS)_[V]</th>\n",
              "      <th>Voltaje_(ST)_[V]</th>\n",
              "      <th>Voltaje_(TR)_[V]</th>\n",
              "      <th>Corriente_R_[A]</th>\n",
              "      <th>...</th>\n",
              "      <th>Potencia_R_[VAR]</th>\n",
              "      <th>Potencia_S_[VAR]</th>\n",
              "      <th>Potencia_T_[VAR]</th>\n",
              "      <th>Corriente_N_[A]</th>\n",
              "      <th>Frecuencia_[Hz]</th>\n",
              "      <th>Potencia_3F_[VAR]</th>\n",
              "      <th>suma_potencias_W</th>\n",
              "      <th>suma_potencias_VA</th>\n",
              "      <th>factor_total_calculado</th>\n",
              "      <th>anomaly</th>\n",
              "    </tr>\n",
              "  </thead>\n",
              "  <tbody>\n",
              "    <tr>\n",
              "      <th>2020-12-27 14:46:00</th>\n",
              "      <td>466.538</td>\n",
              "      <td>548.037</td>\n",
              "      <td>0.851</td>\n",
              "      <td>126.326</td>\n",
              "      <td>127.026</td>\n",
              "      <td>128.542</td>\n",
              "      <td>218.641</td>\n",
              "      <td>222.136</td>\n",
              "      <td>220.63</td>\n",
              "      <td>1.276</td>\n",
              "      <td>...</td>\n",
              "      <td>-5.289</td>\n",
              "      <td>63.24</td>\n",
              "      <td>-38.924</td>\n",
              "      <td>2.007</td>\n",
              "      <td>60.006</td>\n",
              "      <td>19.027</td>\n",
              "      <td>466.537</td>\n",
              "      <td>548.038</td>\n",
              "      <td>0.851286</td>\n",
              "      <td>1</td>\n",
              "    </tr>\n",
              "  </tbody>\n",
              "</table>\n",
              "<p>1 rows × 28 columns</p>\n",
              "</div>\n",
              "    <div class=\"colab-df-buttons\">\n",
              "\n",
              "  <div class=\"colab-df-container\">\n",
              "    <button class=\"colab-df-convert\" onclick=\"convertToInteractive('df-aa672cc0-51d6-4d7c-9df4-aea30410b977')\"\n",
              "            title=\"Convert this dataframe to an interactive table.\"\n",
              "            style=\"display:none;\">\n",
              "\n",
              "  <svg xmlns=\"http://www.w3.org/2000/svg\" height=\"24px\" viewBox=\"0 -960 960 960\">\n",
              "    <path d=\"M120-120v-720h720v720H120Zm60-500h600v-160H180v160Zm220 220h160v-160H400v160Zm0 220h160v-160H400v160ZM180-400h160v-160H180v160Zm440 0h160v-160H620v160ZM180-180h160v-160H180v160Zm440 0h160v-160H620v160Z\"/>\n",
              "  </svg>\n",
              "    </button>\n",
              "\n",
              "  <style>\n",
              "    .colab-df-container {\n",
              "      display:flex;\n",
              "      gap: 12px;\n",
              "    }\n",
              "\n",
              "    .colab-df-convert {\n",
              "      background-color: #E8F0FE;\n",
              "      border: none;\n",
              "      border-radius: 50%;\n",
              "      cursor: pointer;\n",
              "      display: none;\n",
              "      fill: #1967D2;\n",
              "      height: 32px;\n",
              "      padding: 0 0 0 0;\n",
              "      width: 32px;\n",
              "    }\n",
              "\n",
              "    .colab-df-convert:hover {\n",
              "      background-color: #E2EBFA;\n",
              "      box-shadow: 0px 1px 2px rgba(60, 64, 67, 0.3), 0px 1px 3px 1px rgba(60, 64, 67, 0.15);\n",
              "      fill: #174EA6;\n",
              "    }\n",
              "\n",
              "    .colab-df-buttons div {\n",
              "      margin-bottom: 4px;\n",
              "    }\n",
              "\n",
              "    [theme=dark] .colab-df-convert {\n",
              "      background-color: #3B4455;\n",
              "      fill: #D2E3FC;\n",
              "    }\n",
              "\n",
              "    [theme=dark] .colab-df-convert:hover {\n",
              "      background-color: #434B5C;\n",
              "      box-shadow: 0px 1px 3px 1px rgba(0, 0, 0, 0.15);\n",
              "      filter: drop-shadow(0px 1px 2px rgba(0, 0, 0, 0.3));\n",
              "      fill: #FFFFFF;\n",
              "    }\n",
              "  </style>\n",
              "\n",
              "    <script>\n",
              "      const buttonEl =\n",
              "        document.querySelector('#df-aa672cc0-51d6-4d7c-9df4-aea30410b977 button.colab-df-convert');\n",
              "      buttonEl.style.display =\n",
              "        google.colab.kernel.accessAllowed ? 'block' : 'none';\n",
              "\n",
              "      async function convertToInteractive(key) {\n",
              "        const element = document.querySelector('#df-aa672cc0-51d6-4d7c-9df4-aea30410b977');\n",
              "        const dataTable =\n",
              "          await google.colab.kernel.invokeFunction('convertToInteractive',\n",
              "                                                    [key], {});\n",
              "        if (!dataTable) return;\n",
              "\n",
              "        const docLinkHtml = 'Like what you see? Visit the ' +\n",
              "          '<a target=\"_blank\" href=https://colab.research.google.com/notebooks/data_table.ipynb>data table notebook</a>'\n",
              "          + ' to learn more about interactive tables.';\n",
              "        element.innerHTML = '';\n",
              "        dataTable['output_type'] = 'display_data';\n",
              "        await google.colab.output.renderOutput(dataTable, element);\n",
              "        const docLink = document.createElement('div');\n",
              "        docLink.innerHTML = docLinkHtml;\n",
              "        element.appendChild(docLink);\n",
              "      }\n",
              "    </script>\n",
              "  </div>\n",
              "\n",
              "\n",
              "    </div>\n",
              "  </div>\n"
            ],
            "application/vnd.google.colaboratory.intrinsic+json": {
              "type": "dataframe",
              "variable_name": "df_val"
            }
          },
          "metadata": {},
          "execution_count": 18
        }
      ],
      "source": [
        "df_val.head(1)"
      ]
    },
    {
      "cell_type": "code",
      "execution_count": null,
      "metadata": {
        "colab": {
          "base_uri": "https://localhost:8080/",
          "height": 199
        },
        "id": "HLhC_xxvMOU4",
        "outputId": "3867b5c4-c37d-4a47-b6da-a81382fd18c9"
      },
      "outputs": [
        {
          "output_type": "execute_result",
          "data": {
            "text/plain": [
              "                     Potencia_3F_[W]  Potencia_3F_[VA]  Factor de Potencia  \\\n",
              "2020-12-29 01:58:00          706.209           816.121               0.865   \n",
              "\n",
              "                     Voltaje_(R)_[V]  Voltaje_(S)_[V]  Voltaje_(T)_[V]  \\\n",
              "2020-12-29 01:58:00          128.061          127.643          129.006   \n",
              "\n",
              "                     Voltaje_(RS)_[V]  Voltaje_(ST)_[V]  Voltaje_(TR)_[V]  \\\n",
              "2020-12-29 01:58:00           220.783           222.887           222.623   \n",
              "\n",
              "                     Corriente_R_[A]  ...  Potencia_R_[VAR]  Potencia_S_[VAR]  \\\n",
              "2020-12-29 01:58:00             1.04  ...           -22.272            53.329   \n",
              "\n",
              "                     Potencia_T_[VAR]  Corriente_N_[A]  Frecuencia_[Hz]  \\\n",
              "2020-12-29 01:58:00          -158.103             1.62           59.987   \n",
              "\n",
              "                     Potencia_3F_[VAR]  suma_potencias_W  suma_potencias_VA  \\\n",
              "2020-12-29 01:58:00           -127.046            706.21            816.122   \n",
              "\n",
              "                     factor_total_calculado  anomaly  \n",
              "2020-12-29 01:58:00                0.865324        1  \n",
              "\n",
              "[1 rows x 28 columns]"
            ],
            "text/html": [
              "\n",
              "  <div id=\"df-30f34fe8-0e14-43bb-b8d0-abccb21f213d\" class=\"colab-df-container\">\n",
              "    <div>\n",
              "<style scoped>\n",
              "    .dataframe tbody tr th:only-of-type {\n",
              "        vertical-align: middle;\n",
              "    }\n",
              "\n",
              "    .dataframe tbody tr th {\n",
              "        vertical-align: top;\n",
              "    }\n",
              "\n",
              "    .dataframe thead th {\n",
              "        text-align: right;\n",
              "    }\n",
              "</style>\n",
              "<table border=\"1\" class=\"dataframe\">\n",
              "  <thead>\n",
              "    <tr style=\"text-align: right;\">\n",
              "      <th></th>\n",
              "      <th>Potencia_3F_[W]</th>\n",
              "      <th>Potencia_3F_[VA]</th>\n",
              "      <th>Factor de Potencia</th>\n",
              "      <th>Voltaje_(R)_[V]</th>\n",
              "      <th>Voltaje_(S)_[V]</th>\n",
              "      <th>Voltaje_(T)_[V]</th>\n",
              "      <th>Voltaje_(RS)_[V]</th>\n",
              "      <th>Voltaje_(ST)_[V]</th>\n",
              "      <th>Voltaje_(TR)_[V]</th>\n",
              "      <th>Corriente_R_[A]</th>\n",
              "      <th>...</th>\n",
              "      <th>Potencia_R_[VAR]</th>\n",
              "      <th>Potencia_S_[VAR]</th>\n",
              "      <th>Potencia_T_[VAR]</th>\n",
              "      <th>Corriente_N_[A]</th>\n",
              "      <th>Frecuencia_[Hz]</th>\n",
              "      <th>Potencia_3F_[VAR]</th>\n",
              "      <th>suma_potencias_W</th>\n",
              "      <th>suma_potencias_VA</th>\n",
              "      <th>factor_total_calculado</th>\n",
              "      <th>anomaly</th>\n",
              "    </tr>\n",
              "  </thead>\n",
              "  <tbody>\n",
              "    <tr>\n",
              "      <th>2020-12-29 01:58:00</th>\n",
              "      <td>706.209</td>\n",
              "      <td>816.121</td>\n",
              "      <td>0.865</td>\n",
              "      <td>128.061</td>\n",
              "      <td>127.643</td>\n",
              "      <td>129.006</td>\n",
              "      <td>220.783</td>\n",
              "      <td>222.887</td>\n",
              "      <td>222.623</td>\n",
              "      <td>1.04</td>\n",
              "      <td>...</td>\n",
              "      <td>-22.272</td>\n",
              "      <td>53.329</td>\n",
              "      <td>-158.103</td>\n",
              "      <td>1.62</td>\n",
              "      <td>59.987</td>\n",
              "      <td>-127.046</td>\n",
              "      <td>706.21</td>\n",
              "      <td>816.122</td>\n",
              "      <td>0.865324</td>\n",
              "      <td>1</td>\n",
              "    </tr>\n",
              "  </tbody>\n",
              "</table>\n",
              "<p>1 rows × 28 columns</p>\n",
              "</div>\n",
              "    <div class=\"colab-df-buttons\">\n",
              "\n",
              "  <div class=\"colab-df-container\">\n",
              "    <button class=\"colab-df-convert\" onclick=\"convertToInteractive('df-30f34fe8-0e14-43bb-b8d0-abccb21f213d')\"\n",
              "            title=\"Convert this dataframe to an interactive table.\"\n",
              "            style=\"display:none;\">\n",
              "\n",
              "  <svg xmlns=\"http://www.w3.org/2000/svg\" height=\"24px\" viewBox=\"0 -960 960 960\">\n",
              "    <path d=\"M120-120v-720h720v720H120Zm60-500h600v-160H180v160Zm220 220h160v-160H400v160Zm0 220h160v-160H400v160ZM180-400h160v-160H180v160Zm440 0h160v-160H620v160ZM180-180h160v-160H180v160Zm440 0h160v-160H620v160Z\"/>\n",
              "  </svg>\n",
              "    </button>\n",
              "\n",
              "  <style>\n",
              "    .colab-df-container {\n",
              "      display:flex;\n",
              "      gap: 12px;\n",
              "    }\n",
              "\n",
              "    .colab-df-convert {\n",
              "      background-color: #E8F0FE;\n",
              "      border: none;\n",
              "      border-radius: 50%;\n",
              "      cursor: pointer;\n",
              "      display: none;\n",
              "      fill: #1967D2;\n",
              "      height: 32px;\n",
              "      padding: 0 0 0 0;\n",
              "      width: 32px;\n",
              "    }\n",
              "\n",
              "    .colab-df-convert:hover {\n",
              "      background-color: #E2EBFA;\n",
              "      box-shadow: 0px 1px 2px rgba(60, 64, 67, 0.3), 0px 1px 3px 1px rgba(60, 64, 67, 0.15);\n",
              "      fill: #174EA6;\n",
              "    }\n",
              "\n",
              "    .colab-df-buttons div {\n",
              "      margin-bottom: 4px;\n",
              "    }\n",
              "\n",
              "    [theme=dark] .colab-df-convert {\n",
              "      background-color: #3B4455;\n",
              "      fill: #D2E3FC;\n",
              "    }\n",
              "\n",
              "    [theme=dark] .colab-df-convert:hover {\n",
              "      background-color: #434B5C;\n",
              "      box-shadow: 0px 1px 3px 1px rgba(0, 0, 0, 0.15);\n",
              "      filter: drop-shadow(0px 1px 2px rgba(0, 0, 0, 0.3));\n",
              "      fill: #FFFFFF;\n",
              "    }\n",
              "  </style>\n",
              "\n",
              "    <script>\n",
              "      const buttonEl =\n",
              "        document.querySelector('#df-30f34fe8-0e14-43bb-b8d0-abccb21f213d button.colab-df-convert');\n",
              "      buttonEl.style.display =\n",
              "        google.colab.kernel.accessAllowed ? 'block' : 'none';\n",
              "\n",
              "      async function convertToInteractive(key) {\n",
              "        const element = document.querySelector('#df-30f34fe8-0e14-43bb-b8d0-abccb21f213d');\n",
              "        const dataTable =\n",
              "          await google.colab.kernel.invokeFunction('convertToInteractive',\n",
              "                                                    [key], {});\n",
              "        if (!dataTable) return;\n",
              "\n",
              "        const docLinkHtml = 'Like what you see? Visit the ' +\n",
              "          '<a target=\"_blank\" href=https://colab.research.google.com/notebooks/data_table.ipynb>data table notebook</a>'\n",
              "          + ' to learn more about interactive tables.';\n",
              "        element.innerHTML = '';\n",
              "        dataTable['output_type'] = 'display_data';\n",
              "        await google.colab.output.renderOutput(dataTable, element);\n",
              "        const docLink = document.createElement('div');\n",
              "        docLink.innerHTML = docLinkHtml;\n",
              "        element.appendChild(docLink);\n",
              "      }\n",
              "    </script>\n",
              "  </div>\n",
              "\n",
              "\n",
              "    </div>\n",
              "  </div>\n"
            ],
            "application/vnd.google.colaboratory.intrinsic+json": {
              "type": "dataframe"
            }
          },
          "metadata": {},
          "execution_count": 19
        }
      ],
      "source": [
        "df_val.tail(1)"
      ]
    },
    {
      "cell_type": "code",
      "execution_count": null,
      "metadata": {
        "colab": {
          "base_uri": "https://localhost:8080/",
          "height": 199
        },
        "id": "dz0fTo_XL_iv",
        "outputId": "54ddfe18-f0f1-4721-c9c8-20cd4d297120"
      },
      "outputs": [
        {
          "output_type": "execute_result",
          "data": {
            "text/plain": [
              "                     Potencia_3F_[W]  Potencia_3F_[VA]  Factor de Potencia  \\\n",
              "2020-12-29 02:00:00          656.165           758.895               0.865   \n",
              "\n",
              "                     Voltaje_(R)_[V]  Voltaje_(S)_[V]  Voltaje_(T)_[V]  \\\n",
              "2020-12-29 02:00:00          128.043          127.538          128.959   \n",
              "\n",
              "                     Voltaje_(RS)_[V]  Voltaje_(ST)_[V]  Voltaje_(TR)_[V]  \\\n",
              "2020-12-29 02:00:00           220.663             222.8           222.536   \n",
              "\n",
              "                     Corriente_R_[A]  ...  Potencia_R_[VAR]  Potencia_S_[VAR]  \\\n",
              "2020-12-29 02:00:00            1.043  ...           -22.357            36.646   \n",
              "\n",
              "                     Potencia_T_[VAR]  Corriente_N_[A]  Frecuencia_[Hz]  \\\n",
              "2020-12-29 02:00:00           -147.48              1.6           59.985   \n",
              "\n",
              "                     Potencia_3F_[VAR]  suma_potencias_W  suma_potencias_VA  \\\n",
              "2020-12-29 02:00:00            -133.19           656.164            758.894   \n",
              "\n",
              "                     factor_total_calculado  anomaly  \n",
              "2020-12-29 02:00:00                0.864632        1  \n",
              "\n",
              "[1 rows x 28 columns]"
            ],
            "text/html": [
              "\n",
              "  <div id=\"df-bf97a963-be4c-4ac7-9f8c-6689b1219246\" class=\"colab-df-container\">\n",
              "    <div>\n",
              "<style scoped>\n",
              "    .dataframe tbody tr th:only-of-type {\n",
              "        vertical-align: middle;\n",
              "    }\n",
              "\n",
              "    .dataframe tbody tr th {\n",
              "        vertical-align: top;\n",
              "    }\n",
              "\n",
              "    .dataframe thead th {\n",
              "        text-align: right;\n",
              "    }\n",
              "</style>\n",
              "<table border=\"1\" class=\"dataframe\">\n",
              "  <thead>\n",
              "    <tr style=\"text-align: right;\">\n",
              "      <th></th>\n",
              "      <th>Potencia_3F_[W]</th>\n",
              "      <th>Potencia_3F_[VA]</th>\n",
              "      <th>Factor de Potencia</th>\n",
              "      <th>Voltaje_(R)_[V]</th>\n",
              "      <th>Voltaje_(S)_[V]</th>\n",
              "      <th>Voltaje_(T)_[V]</th>\n",
              "      <th>Voltaje_(RS)_[V]</th>\n",
              "      <th>Voltaje_(ST)_[V]</th>\n",
              "      <th>Voltaje_(TR)_[V]</th>\n",
              "      <th>Corriente_R_[A]</th>\n",
              "      <th>...</th>\n",
              "      <th>Potencia_R_[VAR]</th>\n",
              "      <th>Potencia_S_[VAR]</th>\n",
              "      <th>Potencia_T_[VAR]</th>\n",
              "      <th>Corriente_N_[A]</th>\n",
              "      <th>Frecuencia_[Hz]</th>\n",
              "      <th>Potencia_3F_[VAR]</th>\n",
              "      <th>suma_potencias_W</th>\n",
              "      <th>suma_potencias_VA</th>\n",
              "      <th>factor_total_calculado</th>\n",
              "      <th>anomaly</th>\n",
              "    </tr>\n",
              "  </thead>\n",
              "  <tbody>\n",
              "    <tr>\n",
              "      <th>2020-12-29 02:00:00</th>\n",
              "      <td>656.165</td>\n",
              "      <td>758.895</td>\n",
              "      <td>0.865</td>\n",
              "      <td>128.043</td>\n",
              "      <td>127.538</td>\n",
              "      <td>128.959</td>\n",
              "      <td>220.663</td>\n",
              "      <td>222.8</td>\n",
              "      <td>222.536</td>\n",
              "      <td>1.043</td>\n",
              "      <td>...</td>\n",
              "      <td>-22.357</td>\n",
              "      <td>36.646</td>\n",
              "      <td>-147.48</td>\n",
              "      <td>1.6</td>\n",
              "      <td>59.985</td>\n",
              "      <td>-133.19</td>\n",
              "      <td>656.164</td>\n",
              "      <td>758.894</td>\n",
              "      <td>0.864632</td>\n",
              "      <td>1</td>\n",
              "    </tr>\n",
              "  </tbody>\n",
              "</table>\n",
              "<p>1 rows × 28 columns</p>\n",
              "</div>\n",
              "    <div class=\"colab-df-buttons\">\n",
              "\n",
              "  <div class=\"colab-df-container\">\n",
              "    <button class=\"colab-df-convert\" onclick=\"convertToInteractive('df-bf97a963-be4c-4ac7-9f8c-6689b1219246')\"\n",
              "            title=\"Convert this dataframe to an interactive table.\"\n",
              "            style=\"display:none;\">\n",
              "\n",
              "  <svg xmlns=\"http://www.w3.org/2000/svg\" height=\"24px\" viewBox=\"0 -960 960 960\">\n",
              "    <path d=\"M120-120v-720h720v720H120Zm60-500h600v-160H180v160Zm220 220h160v-160H400v160Zm0 220h160v-160H400v160ZM180-400h160v-160H180v160Zm440 0h160v-160H620v160ZM180-180h160v-160H180v160Zm440 0h160v-160H620v160Z\"/>\n",
              "  </svg>\n",
              "    </button>\n",
              "\n",
              "  <style>\n",
              "    .colab-df-container {\n",
              "      display:flex;\n",
              "      gap: 12px;\n",
              "    }\n",
              "\n",
              "    .colab-df-convert {\n",
              "      background-color: #E8F0FE;\n",
              "      border: none;\n",
              "      border-radius: 50%;\n",
              "      cursor: pointer;\n",
              "      display: none;\n",
              "      fill: #1967D2;\n",
              "      height: 32px;\n",
              "      padding: 0 0 0 0;\n",
              "      width: 32px;\n",
              "    }\n",
              "\n",
              "    .colab-df-convert:hover {\n",
              "      background-color: #E2EBFA;\n",
              "      box-shadow: 0px 1px 2px rgba(60, 64, 67, 0.3), 0px 1px 3px 1px rgba(60, 64, 67, 0.15);\n",
              "      fill: #174EA6;\n",
              "    }\n",
              "\n",
              "    .colab-df-buttons div {\n",
              "      margin-bottom: 4px;\n",
              "    }\n",
              "\n",
              "    [theme=dark] .colab-df-convert {\n",
              "      background-color: #3B4455;\n",
              "      fill: #D2E3FC;\n",
              "    }\n",
              "\n",
              "    [theme=dark] .colab-df-convert:hover {\n",
              "      background-color: #434B5C;\n",
              "      box-shadow: 0px 1px 3px 1px rgba(0, 0, 0, 0.15);\n",
              "      filter: drop-shadow(0px 1px 2px rgba(0, 0, 0, 0.3));\n",
              "      fill: #FFFFFF;\n",
              "    }\n",
              "  </style>\n",
              "\n",
              "    <script>\n",
              "      const buttonEl =\n",
              "        document.querySelector('#df-bf97a963-be4c-4ac7-9f8c-6689b1219246 button.colab-df-convert');\n",
              "      buttonEl.style.display =\n",
              "        google.colab.kernel.accessAllowed ? 'block' : 'none';\n",
              "\n",
              "      async function convertToInteractive(key) {\n",
              "        const element = document.querySelector('#df-bf97a963-be4c-4ac7-9f8c-6689b1219246');\n",
              "        const dataTable =\n",
              "          await google.colab.kernel.invokeFunction('convertToInteractive',\n",
              "                                                    [key], {});\n",
              "        if (!dataTable) return;\n",
              "\n",
              "        const docLinkHtml = 'Like what you see? Visit the ' +\n",
              "          '<a target=\"_blank\" href=https://colab.research.google.com/notebooks/data_table.ipynb>data table notebook</a>'\n",
              "          + ' to learn more about interactive tables.';\n",
              "        element.innerHTML = '';\n",
              "        dataTable['output_type'] = 'display_data';\n",
              "        await google.colab.output.renderOutput(dataTable, element);\n",
              "        const docLink = document.createElement('div');\n",
              "        docLink.innerHTML = docLinkHtml;\n",
              "        element.appendChild(docLink);\n",
              "      }\n",
              "    </script>\n",
              "  </div>\n",
              "\n",
              "\n",
              "    </div>\n",
              "  </div>\n"
            ],
            "application/vnd.google.colaboratory.intrinsic+json": {
              "type": "dataframe",
              "variable_name": "df_test"
            }
          },
          "metadata": {},
          "execution_count": 20
        }
      ],
      "source": [
        "df_test.head(1)"
      ]
    },
    {
      "cell_type": "code",
      "execution_count": null,
      "metadata": {
        "colab": {
          "base_uri": "https://localhost:8080/",
          "height": 199
        },
        "id": "2_KrfvM_MW5_",
        "outputId": "b02af3b5-27da-48f3-f98a-a918fb89343f"
      },
      "outputs": [
        {
          "output_type": "execute_result",
          "data": {
            "text/plain": [
              "                     Potencia_3F_[W]  Potencia_3F_[VA]  Factor de Potencia  \\\n",
              "2020-12-31 23:58:00          702.121           811.937               0.839   \n",
              "\n",
              "                     Voltaje_(R)_[V]  Voltaje_(S)_[V]  Voltaje_(T)_[V]  \\\n",
              "2020-12-31 23:58:00          127.734          128.241          129.285   \n",
              "\n",
              "                     Voltaje_(RS)_[V]  Voltaje_(ST)_[V]  Voltaje_(TR)_[V]  \\\n",
              "2020-12-31 23:58:00           220.938           223.671           222.634   \n",
              "\n",
              "                     Corriente_R_[A]  ...  Potencia_R_[VAR]  Potencia_S_[VAR]  \\\n",
              "2020-12-31 23:58:00             1.07  ...           -21.609            60.951   \n",
              "\n",
              "                     Potencia_T_[VAR]  Corriente_N_[A]  Frecuencia_[Hz]  \\\n",
              "2020-12-31 23:58:00          -154.166            1.584           58.249   \n",
              "\n",
              "                     Potencia_3F_[VAR]  suma_potencias_W  suma_potencias_VA  \\\n",
              "2020-12-31 23:58:00           -114.823           712.963            836.548   \n",
              "\n",
              "                     factor_total_calculado  anomaly  \n",
              "2020-12-31 23:58:00                0.852268        1  \n",
              "\n",
              "[1 rows x 28 columns]"
            ],
            "text/html": [
              "\n",
              "  <div id=\"df-29495612-456f-4b4e-844e-a116706555f9\" class=\"colab-df-container\">\n",
              "    <div>\n",
              "<style scoped>\n",
              "    .dataframe tbody tr th:only-of-type {\n",
              "        vertical-align: middle;\n",
              "    }\n",
              "\n",
              "    .dataframe tbody tr th {\n",
              "        vertical-align: top;\n",
              "    }\n",
              "\n",
              "    .dataframe thead th {\n",
              "        text-align: right;\n",
              "    }\n",
              "</style>\n",
              "<table border=\"1\" class=\"dataframe\">\n",
              "  <thead>\n",
              "    <tr style=\"text-align: right;\">\n",
              "      <th></th>\n",
              "      <th>Potencia_3F_[W]</th>\n",
              "      <th>Potencia_3F_[VA]</th>\n",
              "      <th>Factor de Potencia</th>\n",
              "      <th>Voltaje_(R)_[V]</th>\n",
              "      <th>Voltaje_(S)_[V]</th>\n",
              "      <th>Voltaje_(T)_[V]</th>\n",
              "      <th>Voltaje_(RS)_[V]</th>\n",
              "      <th>Voltaje_(ST)_[V]</th>\n",
              "      <th>Voltaje_(TR)_[V]</th>\n",
              "      <th>Corriente_R_[A]</th>\n",
              "      <th>...</th>\n",
              "      <th>Potencia_R_[VAR]</th>\n",
              "      <th>Potencia_S_[VAR]</th>\n",
              "      <th>Potencia_T_[VAR]</th>\n",
              "      <th>Corriente_N_[A]</th>\n",
              "      <th>Frecuencia_[Hz]</th>\n",
              "      <th>Potencia_3F_[VAR]</th>\n",
              "      <th>suma_potencias_W</th>\n",
              "      <th>suma_potencias_VA</th>\n",
              "      <th>factor_total_calculado</th>\n",
              "      <th>anomaly</th>\n",
              "    </tr>\n",
              "  </thead>\n",
              "  <tbody>\n",
              "    <tr>\n",
              "      <th>2020-12-31 23:58:00</th>\n",
              "      <td>702.121</td>\n",
              "      <td>811.937</td>\n",
              "      <td>0.839</td>\n",
              "      <td>127.734</td>\n",
              "      <td>128.241</td>\n",
              "      <td>129.285</td>\n",
              "      <td>220.938</td>\n",
              "      <td>223.671</td>\n",
              "      <td>222.634</td>\n",
              "      <td>1.07</td>\n",
              "      <td>...</td>\n",
              "      <td>-21.609</td>\n",
              "      <td>60.951</td>\n",
              "      <td>-154.166</td>\n",
              "      <td>1.584</td>\n",
              "      <td>58.249</td>\n",
              "      <td>-114.823</td>\n",
              "      <td>712.963</td>\n",
              "      <td>836.548</td>\n",
              "      <td>0.852268</td>\n",
              "      <td>1</td>\n",
              "    </tr>\n",
              "  </tbody>\n",
              "</table>\n",
              "<p>1 rows × 28 columns</p>\n",
              "</div>\n",
              "    <div class=\"colab-df-buttons\">\n",
              "\n",
              "  <div class=\"colab-df-container\">\n",
              "    <button class=\"colab-df-convert\" onclick=\"convertToInteractive('df-29495612-456f-4b4e-844e-a116706555f9')\"\n",
              "            title=\"Convert this dataframe to an interactive table.\"\n",
              "            style=\"display:none;\">\n",
              "\n",
              "  <svg xmlns=\"http://www.w3.org/2000/svg\" height=\"24px\" viewBox=\"0 -960 960 960\">\n",
              "    <path d=\"M120-120v-720h720v720H120Zm60-500h600v-160H180v160Zm220 220h160v-160H400v160Zm0 220h160v-160H400v160ZM180-400h160v-160H180v160Zm440 0h160v-160H620v160ZM180-180h160v-160H180v160Zm440 0h160v-160H620v160Z\"/>\n",
              "  </svg>\n",
              "    </button>\n",
              "\n",
              "  <style>\n",
              "    .colab-df-container {\n",
              "      display:flex;\n",
              "      gap: 12px;\n",
              "    }\n",
              "\n",
              "    .colab-df-convert {\n",
              "      background-color: #E8F0FE;\n",
              "      border: none;\n",
              "      border-radius: 50%;\n",
              "      cursor: pointer;\n",
              "      display: none;\n",
              "      fill: #1967D2;\n",
              "      height: 32px;\n",
              "      padding: 0 0 0 0;\n",
              "      width: 32px;\n",
              "    }\n",
              "\n",
              "    .colab-df-convert:hover {\n",
              "      background-color: #E2EBFA;\n",
              "      box-shadow: 0px 1px 2px rgba(60, 64, 67, 0.3), 0px 1px 3px 1px rgba(60, 64, 67, 0.15);\n",
              "      fill: #174EA6;\n",
              "    }\n",
              "\n",
              "    .colab-df-buttons div {\n",
              "      margin-bottom: 4px;\n",
              "    }\n",
              "\n",
              "    [theme=dark] .colab-df-convert {\n",
              "      background-color: #3B4455;\n",
              "      fill: #D2E3FC;\n",
              "    }\n",
              "\n",
              "    [theme=dark] .colab-df-convert:hover {\n",
              "      background-color: #434B5C;\n",
              "      box-shadow: 0px 1px 3px 1px rgba(0, 0, 0, 0.15);\n",
              "      filter: drop-shadow(0px 1px 2px rgba(0, 0, 0, 0.3));\n",
              "      fill: #FFFFFF;\n",
              "    }\n",
              "  </style>\n",
              "\n",
              "    <script>\n",
              "      const buttonEl =\n",
              "        document.querySelector('#df-29495612-456f-4b4e-844e-a116706555f9 button.colab-df-convert');\n",
              "      buttonEl.style.display =\n",
              "        google.colab.kernel.accessAllowed ? 'block' : 'none';\n",
              "\n",
              "      async function convertToInteractive(key) {\n",
              "        const element = document.querySelector('#df-29495612-456f-4b4e-844e-a116706555f9');\n",
              "        const dataTable =\n",
              "          await google.colab.kernel.invokeFunction('convertToInteractive',\n",
              "                                                    [key], {});\n",
              "        if (!dataTable) return;\n",
              "\n",
              "        const docLinkHtml = 'Like what you see? Visit the ' +\n",
              "          '<a target=\"_blank\" href=https://colab.research.google.com/notebooks/data_table.ipynb>data table notebook</a>'\n",
              "          + ' to learn more about interactive tables.';\n",
              "        element.innerHTML = '';\n",
              "        dataTable['output_type'] = 'display_data';\n",
              "        await google.colab.output.renderOutput(dataTable, element);\n",
              "        const docLink = document.createElement('div');\n",
              "        docLink.innerHTML = docLinkHtml;\n",
              "        element.appendChild(docLink);\n",
              "      }\n",
              "    </script>\n",
              "  </div>\n",
              "\n",
              "\n",
              "    </div>\n",
              "  </div>\n"
            ],
            "application/vnd.google.colaboratory.intrinsic+json": {
              "type": "dataframe"
            }
          },
          "metadata": {},
          "execution_count": 21
        }
      ],
      "source": [
        "df_test.tail(1)"
      ]
    },
    {
      "cell_type": "code",
      "execution_count": null,
      "metadata": {
        "id": "N8KFXm4t9FIu"
      },
      "outputs": [],
      "source": [
        "input_sets={\n",
        "    '3F_W':['Potencia_3F_[W]','Corriente_T_[A]','Potencia_T_[VA]'],\n",
        "    '3F_VA':['Potencia_3F_[VA]','Corriente_T_[A]','Potencia_T_[VA]'],\n",
        "    '3F_factor':['Factor de Potencia','Potencia_R_[W]']\n",
        "}"
      ]
    },
    {
      "cell_type": "code",
      "execution_count": null,
      "metadata": {
        "colab": {
          "base_uri": "https://localhost:8080/"
        },
        "id": "YKWekEGX-jdG",
        "outputId": "6b3d91dd-e50c-4867-8f05-36765caba659"
      },
      "outputs": [
        {
          "output_type": "execute_result",
          "data": {
            "text/plain": [
              "dict_keys(['3F_W', '3F_VA', '3F_factor'])"
            ]
          },
          "metadata": {},
          "execution_count": 23
        }
      ],
      "source": [
        "input_sets.keys()"
      ]
    },
    {
      "cell_type": "code",
      "execution_count": null,
      "metadata": {
        "id": "8k7dm9rYBJte"
      },
      "outputs": [],
      "source": [
        "ventana_prediccion =[30,15,1]\n",
        "factor_ventana_entrada = [0.5,1,2,4]\n",
        "num_neuronas_set = [50,100,150]\n",
        "batch_size_set = [50,100,150]\n",
        "num_layers_set = [1,2,3]"
      ]
    },
    {
      "cell_type": "code",
      "execution_count": null,
      "metadata": {
        "id": "iUpJEnKmDGSG"
      },
      "outputs": [],
      "source": [
        "from sklearn.preprocessing import MinMaxScaler\n",
        "scaler = MinMaxScaler()"
      ]
    },
    {
      "cell_type": "code",
      "execution_count": null,
      "metadata": {
        "id": "S6fnO_NcDVZX"
      },
      "outputs": [],
      "source": [
        "from keras.preprocessing.sequence import TimeseriesGenerator"
      ]
    },
    {
      "cell_type": "code",
      "execution_count": null,
      "metadata": {
        "id": "0hOL4Ep-EDvh"
      },
      "outputs": [],
      "source": [
        "from sklearn.preprocessing import MinMaxScaler\n",
        "from tensorflow.keras.models import Sequential\n",
        "from tensorflow.keras.layers import Dense,LSTM,Activation, SimpleRNN\n",
        "from tensorflow import keras\n",
        "import tensorflow as tf"
      ]
    },
    {
      "cell_type": "code",
      "execution_count": null,
      "metadata": {
        "id": "FH0mMiCsEAaG"
      },
      "outputs": [],
      "source": [
        "def create_Model(n_input, LSTM_neurons = 100, layers=3,n_features=0,n_output=1):\n",
        "  # define model\n",
        "  model = Sequential()\n",
        "  if(layers>1):\n",
        "    model.add(SimpleRNN(LSTM_neurons, activation='relu', input_shape=(n_input, n_features+1),return_sequences=True))\n",
        "    for i in range(layers-2):\n",
        "        model.add(SimpleRNN(LSTM_neurons, activation='relu',return_sequences=True))\n",
        "    model.add(SimpleRNN(LSTM_neurons, activation='relu'))\n",
        "  else:\n",
        "    model.add(SimpleRNN(LSTM_neurons, activation='relu', input_shape=(n_input, n_features+1)))\n",
        "  model.add(Dense(n_output))\n",
        "  model.compile(optimizer='adam', loss='mse')\n",
        "  return model"
      ]
    },
    {
      "cell_type": "code",
      "execution_count": null,
      "metadata": {
        "id": "uENL9WskNyWU"
      },
      "outputs": [],
      "source": [
        "def get_XY(scaled_data,past_hours,prediction_window):\n",
        "  # Prepare the dataset with lagged features\n",
        "  X, y = [], []\n",
        "  n = past_hours\n",
        "  pw = prediction_window\n",
        "  for i in range(n, len(scaled_data)-pw):\n",
        "      X.append(scaled_data[i-n:i, :])  # Use predictor variables for each timestep\n",
        "      y.append(scaled_data[i:i+pw, 0])  # X0 is the target variable\n",
        "  X_train = np.array(X)\n",
        "  y_train = np.array(y)\n",
        "  X_train_flattened = X_train#.reshape(X_train.shape[0], -1)\n",
        "  y_train_flattened = y_train.reshape(y_train.shape[0], -1)\n",
        "  return X_train_flattened, y_train_flattened"
      ]
    },
    {
      "cell_type": "code",
      "execution_count": null,
      "metadata": {
        "id": "fpe0CauRYpfE"
      },
      "outputs": [],
      "source": [
        "combinaciones_anteriores = []"
      ]
    },
    {
      "cell_type": "code",
      "execution_count": null,
      "metadata": {
        "id": "U8hFSIUipIlV"
      },
      "outputs": [],
      "source": [
        "gsearch_path = os.path.join(folder_path, f'investigacion/grid_search2/GS_RNN_m_3F_W.txt')\n",
        "with open(gsearch_path,'r') as fp:\n",
        "    for line in fp:\n",
        "      combinaciones_anteriores.append(json.loads(line))"
      ]
    },
    {
      "cell_type": "code",
      "execution_count": null,
      "metadata": {
        "id": "e0_HWNOYo5Rs"
      },
      "outputs": [],
      "source": [
        "gsearch_path = os.path.join(folder_path, f'investigacion/grid_search2/GS_RNN_m_3F_VA.txt')\n",
        "with open(gsearch_path,'r') as fp:\n",
        "    for line in fp:\n",
        "      combinaciones_anteriores.append(json.loads(line))"
      ]
    },
    {
      "cell_type": "code",
      "execution_count": null,
      "metadata": {
        "id": "WsKIGSjyTv7s"
      },
      "outputs": [],
      "source": [
        "gsearch_path = os.path.join(folder_path, f'investigacion/grid_search2/GS_RNN_m_3F_factor.txt')\n",
        "with open(gsearch_path,'r') as fp:\n",
        "    for line in fp:\n",
        "      combinaciones_anteriores.append(json.loads(line))"
      ]
    },
    {
      "cell_type": "code",
      "execution_count": null,
      "metadata": {
        "colab": {
          "base_uri": "https://localhost:8080/"
        },
        "id": "PPC4FiP8pWoR",
        "outputId": "195fef4b-8214-484e-bbe6-901a2bd9aa23"
      },
      "outputs": [
        {
          "output_type": "execute_result",
          "data": {
            "text/plain": [
              "[{'Model': 'RNN',\n",
              "  'RMSE': 0.015878545095091828,\n",
              "  'Fuente': '3F_factor',\n",
              "  'n_input': 4,\n",
              "  'n_output': 1,\n",
              "  'num_neuronas': 150,\n",
              "  'batch_size': 100,\n",
              "  'num_layers': 3,\n",
              "  'MSE': 0.00025212819433686475},\n",
              " {'Model': 'RNN',\n",
              "  'RMSE': 0.016722832610233093,\n",
              "  'Fuente': '3F_factor',\n",
              "  'n_input': 4,\n",
              "  'n_output': 1,\n",
              "  'num_neuronas': 150,\n",
              "  'batch_size': 150,\n",
              "  'num_layers': 3,\n",
              "  'MSE': 0.00027965313050987535}]"
            ]
          },
          "metadata": {},
          "execution_count": 34
        }
      ],
      "source": [
        "combinaciones_anteriores[-2:]"
      ]
    },
    {
      "cell_type": "code",
      "execution_count": null,
      "metadata": {
        "id": "z9J_AWOvVs1k"
      },
      "outputs": [],
      "source": [
        "min_error = 1000000"
      ]
    },
    {
      "cell_type": "code",
      "execution_count": null,
      "metadata": {
        "id": "_DXPN-n-p_4u"
      },
      "outputs": [],
      "source": [
        "string_list = []"
      ]
    },
    {
      "cell_type": "code",
      "execution_count": null,
      "metadata": {
        "id": "nJu0xcgXCnUg"
      },
      "outputs": [],
      "source": [
        "last_result = combinaciones_anteriores[-1]"
      ]
    },
    {
      "cell_type": "code",
      "execution_count": null,
      "metadata": {
        "id": "fyjfMITEpiAe"
      },
      "outputs": [],
      "source": [
        "for result in combinaciones_anteriores:\n",
        "  current_string = ''\n",
        "  for key in result.keys():\n",
        "    if 'MSE' not in key:\n",
        "      current_string+=str(result[key])\n",
        "  string_list.append(current_string)\n",
        "  if (result['RMSE']<min_error and\n",
        "    result['n_output']==last_result['n_output'] and\n",
        "    result['Fuente']==last_result['Fuente']):\n",
        "    min_error = result['RMSE']"
      ]
    },
    {
      "cell_type": "code",
      "execution_count": null,
      "metadata": {
        "colab": {
          "base_uri": "https://localhost:8080/"
        },
        "id": "JlL05vPnp77K",
        "outputId": "04d72c72-68ba-4168-fe9e-46aebd186d09"
      },
      "outputs": [
        {
          "output_type": "execute_result",
          "data": {
            "text/plain": [
              "['RNN3F_factor411501002',\n",
              " 'RNN3F_factor411501502',\n",
              " 'RNN3F_factor41150503',\n",
              " 'RNN3F_factor411501003',\n",
              " 'RNN3F_factor411501503']"
            ]
          },
          "metadata": {},
          "execution_count": 39
        }
      ],
      "source": [
        "string_list[-5:]"
      ]
    },
    {
      "cell_type": "code",
      "execution_count": null,
      "metadata": {
        "colab": {
          "base_uri": "https://localhost:8080/"
        },
        "id": "RsLdXvgZr8Ym",
        "outputId": "c4bc0e3c-700a-4257-9b61-de09b5f130f6"
      },
      "outputs": [
        {
          "output_type": "execute_result",
          "data": {
            "text/plain": [
              "0.014224265835393296"
            ]
          },
          "metadata": {},
          "execution_count": 40
        }
      ],
      "source": [
        "min_error"
      ]
    },
    {
      "cell_type": "code",
      "execution_count": null,
      "metadata": {
        "colab": {
          "base_uri": "https://localhost:8080/"
        },
        "id": "3egaLrSzsANL",
        "outputId": "2ae70b3f-ea7d-4b88-9e4b-8461cb0d8a73"
      },
      "outputs": [
        {
          "output_type": "execute_result",
          "data": {
            "text/plain": [
              "dict_keys(['Model', 'RMSE', 'Fuente', 'n_input', 'n_output', 'num_neuronas', 'batch_size', 'num_layers', 'MSE'])"
            ]
          },
          "metadata": {},
          "execution_count": 41
        }
      ],
      "source": [
        "result.keys()"
      ]
    },
    {
      "cell_type": "code",
      "execution_count": null,
      "metadata": {
        "id": "ezWtHDWmCcXb"
      },
      "outputs": [],
      "source": [
        "last_n_output=last_result['n_output']"
      ]
    },
    {
      "cell_type": "code",
      "execution_count": null,
      "metadata": {
        "id": "ERTDWxMtCjbw"
      },
      "outputs": [],
      "source": [
        "last_min_err = min_error"
      ]
    },
    {
      "cell_type": "code",
      "execution_count": null,
      "metadata": {
        "colab": {
          "base_uri": "https://localhost:8080/"
        },
        "id": "v9SwDb1HCpb4",
        "outputId": "6cc70a5a-2388-450e-865b-6bd81eaf9394"
      },
      "outputs": [
        {
          "output_type": "execute_result",
          "data": {
            "text/plain": [
              "0.014224265835393296"
            ]
          },
          "metadata": {},
          "execution_count": 44
        }
      ],
      "source": [
        "last_min_err"
      ]
    },
    {
      "cell_type": "code",
      "execution_count": null,
      "metadata": {
        "id": "wlU7K9Y1dw5o"
      },
      "outputs": [],
      "source": [
        "last_iset = last_result['Fuente']"
      ]
    },
    {
      "cell_type": "code",
      "execution_count": null,
      "metadata": {
        "id": "GaIo9eto-JLm"
      },
      "outputs": [],
      "source": [
        "for input_set in input_sets.keys():\n",
        "  df_train_i = df_train[input_sets[input_set]].copy()\n",
        "  df_val_i = df_val[input_sets[input_set]].copy()\n",
        "  # scaled data\n",
        "  scaler.fit(df_train_i)\n",
        "  scaled_train = scaler.transform(df_train_i)\n",
        "  scaled_val = scaler.transform(df_val_i)\n",
        "  # prediction window\n",
        "  for pw in ventana_prediccion:\n",
        "    n_output = pw\n",
        "    if(last_n_output != n_output or input_set != last_iset):\n",
        "      min_error = 100000 # hay que mejorar\n",
        "    else:\n",
        "      min_error = last_min_err\n",
        "\n",
        "    for fi in factor_ventana_entrada:\n",
        "      n_input = int(fi*pw)\n",
        "\n",
        "      if(n_input<1):\n",
        "        continue\n",
        "\n",
        "      n_features = len(df_train_i.columns)-1\n",
        "      for num_neuronas in num_neuronas_set:\n",
        "        for num_layers in num_layers_set:\n",
        "          for batch_size in batch_size_set:\n",
        "            if('RNN'+str(input_set)+str(n_input)+str(n_output)+str(num_neuronas)+str(batch_size)+str(num_layers)\n",
        "               in string_list):\n",
        "              continue\n",
        "            print(f'Current options: {input_set}/{n_input}/{n_output}/{num_neuronas}/{batch_size}/{num_layers}/best:{min_error}')\n",
        "            X_train, y_train = get_XY(scaled_train,past_hours=n_input,prediction_window=n_output)\n",
        "            model = create_Model(n_input,LSTM_neurons=num_neuronas,layers=num_layers,n_features=n_features,n_output=n_output)\n",
        "            model.fit(X_train,y_train,epochs=10,verbose=False,batch_size=batch_size)\n",
        "\n",
        "            X_val, y_val = get_XY(scaled_val,past_hours=n_input,prediction_window=n_output)\n",
        "            predictions = model.predict(X_val,verbose=False)\n",
        "\n",
        "            flatten_y = y_val.flatten()\n",
        "            flatten_pred = predictions.flatten()\n",
        "\n",
        "            true_y = np.zeros(shape=(len(flatten_pred), 1+n_features))\n",
        "            true_y[:,0] = flatten_y\n",
        "            true_y = scaler.inverse_transform(true_y)\n",
        "            true_pred = np.zeros(shape=(len(flatten_pred), 1+n_features))\n",
        "            true_pred[:,0] = flatten_pred\n",
        "            true_pred = scaler.inverse_transform(true_pred)\n",
        "            errorMSE = mean_squared_error(true_y[:,0],true_pred[:,0])\n",
        "            errorRMSE = np.sqrt(errorMSE)\n",
        "            if (errorRMSE < min_error):\n",
        "              min_error = errorRMSE\n",
        "              last_min_err = min_error\n",
        "              print('BEST')\n",
        "              model_path = os.path.join(folder_path, f'investigacion/grid_search2/RNN_m_model_{input_set}_pw{n_output}_iw{n_input}.h5')\n",
        "              model.save(model_path)\n",
        "            resultado = {\n",
        "                'Model':'RNN',\n",
        "                'RMSE':errorRMSE,\n",
        "                'Fuente':input_set,\n",
        "                'n_input':n_input,\n",
        "                'n_output':n_output,\n",
        "                'num_neuronas':num_neuronas,\n",
        "                'batch_size':batch_size,\n",
        "                'num_layers': num_layers,\n",
        "                'MSE':errorMSE,\n",
        "            }\n",
        "            print(resultado)\n",
        "            gsearch_path = os.path.join(folder_path, f'investigacion/grid_search2/GS_RNN_m_{input_set}.txt')\n",
        "            with open(gsearch_path,\"a\") as file:\n",
        "              resultado = json.dumps(resultado)\n",
        "              file.write(resultado)\n",
        "              file.write('\\n')\n"
      ]
    },
    {
      "cell_type": "code",
      "execution_count": null,
      "metadata": {
        "id": "bnfTVvXDsuKL"
      },
      "outputs": [],
      "source": []
    }
  ],
  "metadata": {
    "colab": {
      "provenance": []
    },
    "kernelspec": {
      "display_name": "Python 3",
      "name": "python3"
    },
    "language_info": {
      "name": "python"
    }
  },
  "nbformat": 4,
  "nbformat_minor": 0
}