{
  "cells": [
    {
      "cell_type": "markdown",
      "metadata": {
        "id": "ud1O2XCGNR_7"
      },
      "source": [
        "# LSTM Clásico"
      ]
    },
    {
      "cell_type": "code",
      "execution_count": null,
      "metadata": {
        "id": "mPgtP8wT6p7W"
      },
      "outputs": [],
      "source": [
        "import numpy as np\n",
        "from sklearn.model_selection import train_test_split\n",
        "from sklearn.ensemble import ExtraTreesRegressor\n",
        "from sklearn.preprocessing import MinMaxScaler\n",
        "import pandas as pd\n",
        "from sklearn.metrics import mean_squared_error, r2_score, mean_absolute_error\n",
        "import json\n",
        "import matplotlib.pyplot as plt\n",
        "\n",
        "import os"
      ]
    },
    {
      "cell_type": "code",
      "execution_count": null,
      "metadata": {
        "colab": {
          "base_uri": "https://localhost:8080/"
        },
        "id": "wX5zyKDVAXdn",
        "outputId": "20a17000-9e56-4bb0-8c32-7add8b4e2e43"
      },
      "outputs": [
        {
          "output_type": "stream",
          "name": "stdout",
          "text": [
            "2.15.0\n"
          ]
        }
      ],
      "source": [
        "import tensorflow as tf\n",
        "from tensorflow import keras\n",
        "\n",
        "print(tf.version.VERSION)"
      ]
    },
    {
      "cell_type": "code",
      "execution_count": null,
      "metadata": {
        "id": "yuxaN8xD8t5Y"
      },
      "outputs": [],
      "source": [
        "# Replace 'your_folder_path' with the actual path to your folder containing text files\n",
        "folder_path = './drive/MyDrive/DatosInvestigacion/resultados/energy/data-continua/'"
      ]
    },
    {
      "cell_type": "code",
      "execution_count": null,
      "metadata": {
        "id": "2Th85YbK8vzm"
      },
      "outputs": [],
      "source": [
        "file_path = os.path.join(folder_path, 'df_clean_all_2_22.csv')\n",
        "df = pd.read_csv(file_path, index_col=0, parse_dates=True)"
      ]
    },
    {
      "cell_type": "code",
      "execution_count": null,
      "metadata": {
        "id": "gxIp-fll805u"
      },
      "outputs": [],
      "source": [
        "df = df.resample('2T').asfreq()"
      ]
    },
    {
      "cell_type": "code",
      "execution_count": null,
      "metadata": {
        "colab": {
          "base_uri": "https://localhost:8080/"
        },
        "id": "XvxF51vX9Oiu",
        "outputId": "b4e43cac-5747-4ef5-918f-5270ca1d0d20"
      },
      "outputs": [
        {
          "output_type": "execute_result",
          "data": {
            "text/plain": [
              "Potencia_3F_[W]           0\n",
              "Potencia_3F_[VA]          0\n",
              "Factor de Potencia        0\n",
              "Voltaje_(R)_[V]           0\n",
              "Voltaje_(S)_[V]           0\n",
              "Voltaje_(T)_[V]           0\n",
              "Voltaje_(RS)_[V]          0\n",
              "Voltaje_(ST)_[V]          0\n",
              "Voltaje_(TR)_[V]          0\n",
              "Corriente_R_[A]           0\n",
              "Corriente_S_[A]           0\n",
              "Corriente_T_[A]           0\n",
              "Potencia_R_[VA]           0\n",
              "Potencia_S_[VA]           0\n",
              "Potencia_T_[VA]           0\n",
              "Potencia_R_[W]            0\n",
              "Potencia_S_[W]            0\n",
              "Potencia_T_[W]            0\n",
              "Potencia_R_[VAR]          0\n",
              "Potencia_S_[VAR]          0\n",
              "Potencia_T_[VAR]          0\n",
              "Corriente_N_[A]           0\n",
              "Frecuencia_[Hz]           0\n",
              "Potencia_3F_[VAR]         0\n",
              "suma_potencias_W          0\n",
              "suma_potencias_VA         0\n",
              "factor_total_calculado    0\n",
              "dtype: int64"
            ]
          },
          "metadata": {},
          "execution_count": 6
        }
      ],
      "source": [
        "df.isna().sum()"
      ]
    },
    {
      "cell_type": "code",
      "execution_count": null,
      "metadata": {
        "id": "BV02j3pA87ce"
      },
      "outputs": [],
      "source": [
        "df.sort_index(ascending=True, inplace=True)"
      ]
    },
    {
      "cell_type": "code",
      "execution_count": null,
      "metadata": {
        "colab": {
          "base_uri": "https://localhost:8080/"
        },
        "id": "DZEhWSrU89O-",
        "outputId": "761484e4-aa11-48df-d37f-eddd216c144c"
      },
      "outputs": [
        {
          "output_type": "execute_result",
          "data": {
            "text/plain": [
              "7367"
            ]
          },
          "metadata": {},
          "execution_count": 8
        }
      ],
      "source": [
        "train_size = int(len(df)*0.7)\n",
        "train_size"
      ]
    },
    {
      "cell_type": "code",
      "execution_count": null,
      "metadata": {
        "colab": {
          "base_uri": "https://localhost:8080/"
        },
        "id": "52llUtivLngf",
        "outputId": "f92c4404-3b21-4c1b-f31c-beddcc531993"
      },
      "outputs": [
        {
          "output_type": "execute_result",
          "data": {
            "text/plain": [
              "1052"
            ]
          },
          "metadata": {},
          "execution_count": 9
        }
      ],
      "source": [
        "val_size = int(len(df)*0.1)\n",
        "val_size"
      ]
    },
    {
      "cell_type": "code",
      "execution_count": null,
      "metadata": {
        "id": "YZlZy93F8-vP"
      },
      "outputs": [],
      "source": [
        "df_train = df.iloc[:train_size]"
      ]
    },
    {
      "cell_type": "code",
      "execution_count": null,
      "metadata": {
        "id": "uAPzVCi4L3FK"
      },
      "outputs": [],
      "source": [
        "df_val = df.iloc[train_size:train_size+val_size]"
      ]
    },
    {
      "cell_type": "code",
      "execution_count": null,
      "metadata": {
        "colab": {
          "base_uri": "https://localhost:8080/"
        },
        "id": "xitIY3YCL78n",
        "outputId": "6a8b401d-304f-4cff-9045-5efb214f622a"
      },
      "outputs": [
        {
          "output_type": "execute_result",
          "data": {
            "text/plain": [
              "1052"
            ]
          },
          "metadata": {},
          "execution_count": 12
        }
      ],
      "source": [
        "len(df_val)"
      ]
    },
    {
      "cell_type": "code",
      "execution_count": null,
      "metadata": {
        "id": "r-_heiBZ8_03"
      },
      "outputs": [],
      "source": [
        "df_test = df.iloc[train_size+val_size:]"
      ]
    },
    {
      "cell_type": "code",
      "execution_count": null,
      "metadata": {
        "colab": {
          "base_uri": "https://localhost:8080/",
          "height": 199
        },
        "id": "L2iZUHDxMHij",
        "outputId": "d575a90b-7b2c-4f57-a593-c7cecf9c0d5d"
      },
      "outputs": [
        {
          "output_type": "execute_result",
          "data": {
            "text/plain": [
              "                     Potencia_3F_[W]  Potencia_3F_[VA]  Factor de Potencia  \\\n",
              "2020-12-17 09:10:00          764.273           870.925               0.877   \n",
              "\n",
              "                     Voltaje_(R)_[V]  Voltaje_(S)_[V]  Voltaje_(T)_[V]  \\\n",
              "2020-12-17 09:10:00          126.198          125.841          126.782   \n",
              "\n",
              "                     Voltaje_(RS)_[V]  Voltaje_(ST)_[V]  Voltaje_(TR)_[V]  \\\n",
              "2020-12-17 09:10:00           217.997           219.529           218.545   \n",
              "\n",
              "                     Corriente_R_[A]  ...  Potencia_T_[W]  Potencia_R_[VAR]  \\\n",
              "2020-12-17 09:10:00            1.436  ...         175.091            -3.085   \n",
              "\n",
              "                     Potencia_S_[VAR]  Potencia_T_[VAR]  Corriente_N_[A]  \\\n",
              "2020-12-17 09:10:00            88.859           -68.702            2.926   \n",
              "\n",
              "                     Frecuencia_[Hz]  Potencia_3F_[VAR]  suma_potencias_W  \\\n",
              "2020-12-17 09:10:00           59.983             17.073           764.273   \n",
              "\n",
              "                     suma_potencias_VA  factor_total_calculado  \n",
              "2020-12-17 09:10:00            870.925                0.877542  \n",
              "\n",
              "[1 rows x 27 columns]"
            ],
            "text/html": [
              "\n",
              "  <div id=\"df-7ee708e1-ea8f-4c3f-9958-703d0dc69bbf\" class=\"colab-df-container\">\n",
              "    <div>\n",
              "<style scoped>\n",
              "    .dataframe tbody tr th:only-of-type {\n",
              "        vertical-align: middle;\n",
              "    }\n",
              "\n",
              "    .dataframe tbody tr th {\n",
              "        vertical-align: top;\n",
              "    }\n",
              "\n",
              "    .dataframe thead th {\n",
              "        text-align: right;\n",
              "    }\n",
              "</style>\n",
              "<table border=\"1\" class=\"dataframe\">\n",
              "  <thead>\n",
              "    <tr style=\"text-align: right;\">\n",
              "      <th></th>\n",
              "      <th>Potencia_3F_[W]</th>\n",
              "      <th>Potencia_3F_[VA]</th>\n",
              "      <th>Factor de Potencia</th>\n",
              "      <th>Voltaje_(R)_[V]</th>\n",
              "      <th>Voltaje_(S)_[V]</th>\n",
              "      <th>Voltaje_(T)_[V]</th>\n",
              "      <th>Voltaje_(RS)_[V]</th>\n",
              "      <th>Voltaje_(ST)_[V]</th>\n",
              "      <th>Voltaje_(TR)_[V]</th>\n",
              "      <th>Corriente_R_[A]</th>\n",
              "      <th>...</th>\n",
              "      <th>Potencia_T_[W]</th>\n",
              "      <th>Potencia_R_[VAR]</th>\n",
              "      <th>Potencia_S_[VAR]</th>\n",
              "      <th>Potencia_T_[VAR]</th>\n",
              "      <th>Corriente_N_[A]</th>\n",
              "      <th>Frecuencia_[Hz]</th>\n",
              "      <th>Potencia_3F_[VAR]</th>\n",
              "      <th>suma_potencias_W</th>\n",
              "      <th>suma_potencias_VA</th>\n",
              "      <th>factor_total_calculado</th>\n",
              "    </tr>\n",
              "  </thead>\n",
              "  <tbody>\n",
              "    <tr>\n",
              "      <th>2020-12-17 09:10:00</th>\n",
              "      <td>764.273</td>\n",
              "      <td>870.925</td>\n",
              "      <td>0.877</td>\n",
              "      <td>126.198</td>\n",
              "      <td>125.841</td>\n",
              "      <td>126.782</td>\n",
              "      <td>217.997</td>\n",
              "      <td>219.529</td>\n",
              "      <td>218.545</td>\n",
              "      <td>1.436</td>\n",
              "      <td>...</td>\n",
              "      <td>175.091</td>\n",
              "      <td>-3.085</td>\n",
              "      <td>88.859</td>\n",
              "      <td>-68.702</td>\n",
              "      <td>2.926</td>\n",
              "      <td>59.983</td>\n",
              "      <td>17.073</td>\n",
              "      <td>764.273</td>\n",
              "      <td>870.925</td>\n",
              "      <td>0.877542</td>\n",
              "    </tr>\n",
              "  </tbody>\n",
              "</table>\n",
              "<p>1 rows × 27 columns</p>\n",
              "</div>\n",
              "    <div class=\"colab-df-buttons\">\n",
              "\n",
              "  <div class=\"colab-df-container\">\n",
              "    <button class=\"colab-df-convert\" onclick=\"convertToInteractive('df-7ee708e1-ea8f-4c3f-9958-703d0dc69bbf')\"\n",
              "            title=\"Convert this dataframe to an interactive table.\"\n",
              "            style=\"display:none;\">\n",
              "\n",
              "  <svg xmlns=\"http://www.w3.org/2000/svg\" height=\"24px\" viewBox=\"0 -960 960 960\">\n",
              "    <path d=\"M120-120v-720h720v720H120Zm60-500h600v-160H180v160Zm220 220h160v-160H400v160Zm0 220h160v-160H400v160ZM180-400h160v-160H180v160Zm440 0h160v-160H620v160ZM180-180h160v-160H180v160Zm440 0h160v-160H620v160Z\"/>\n",
              "  </svg>\n",
              "    </button>\n",
              "\n",
              "  <style>\n",
              "    .colab-df-container {\n",
              "      display:flex;\n",
              "      gap: 12px;\n",
              "    }\n",
              "\n",
              "    .colab-df-convert {\n",
              "      background-color: #E8F0FE;\n",
              "      border: none;\n",
              "      border-radius: 50%;\n",
              "      cursor: pointer;\n",
              "      display: none;\n",
              "      fill: #1967D2;\n",
              "      height: 32px;\n",
              "      padding: 0 0 0 0;\n",
              "      width: 32px;\n",
              "    }\n",
              "\n",
              "    .colab-df-convert:hover {\n",
              "      background-color: #E2EBFA;\n",
              "      box-shadow: 0px 1px 2px rgba(60, 64, 67, 0.3), 0px 1px 3px 1px rgba(60, 64, 67, 0.15);\n",
              "      fill: #174EA6;\n",
              "    }\n",
              "\n",
              "    .colab-df-buttons div {\n",
              "      margin-bottom: 4px;\n",
              "    }\n",
              "\n",
              "    [theme=dark] .colab-df-convert {\n",
              "      background-color: #3B4455;\n",
              "      fill: #D2E3FC;\n",
              "    }\n",
              "\n",
              "    [theme=dark] .colab-df-convert:hover {\n",
              "      background-color: #434B5C;\n",
              "      box-shadow: 0px 1px 3px 1px rgba(0, 0, 0, 0.15);\n",
              "      filter: drop-shadow(0px 1px 2px rgba(0, 0, 0, 0.3));\n",
              "      fill: #FFFFFF;\n",
              "    }\n",
              "  </style>\n",
              "\n",
              "    <script>\n",
              "      const buttonEl =\n",
              "        document.querySelector('#df-7ee708e1-ea8f-4c3f-9958-703d0dc69bbf button.colab-df-convert');\n",
              "      buttonEl.style.display =\n",
              "        google.colab.kernel.accessAllowed ? 'block' : 'none';\n",
              "\n",
              "      async function convertToInteractive(key) {\n",
              "        const element = document.querySelector('#df-7ee708e1-ea8f-4c3f-9958-703d0dc69bbf');\n",
              "        const dataTable =\n",
              "          await google.colab.kernel.invokeFunction('convertToInteractive',\n",
              "                                                    [key], {});\n",
              "        if (!dataTable) return;\n",
              "\n",
              "        const docLinkHtml = 'Like what you see? Visit the ' +\n",
              "          '<a target=\"_blank\" href=https://colab.research.google.com/notebooks/data_table.ipynb>data table notebook</a>'\n",
              "          + ' to learn more about interactive tables.';\n",
              "        element.innerHTML = '';\n",
              "        dataTable['output_type'] = 'display_data';\n",
              "        await google.colab.output.renderOutput(dataTable, element);\n",
              "        const docLink = document.createElement('div');\n",
              "        docLink.innerHTML = docLinkHtml;\n",
              "        element.appendChild(docLink);\n",
              "      }\n",
              "    </script>\n",
              "  </div>\n",
              "\n",
              "\n",
              "    </div>\n",
              "  </div>\n"
            ],
            "application/vnd.google.colaboratory.intrinsic+json": {
              "type": "dataframe",
              "variable_name": "df_train"
            }
          },
          "metadata": {},
          "execution_count": 14
        }
      ],
      "source": [
        "df_train.head(1)"
      ]
    },
    {
      "cell_type": "code",
      "execution_count": null,
      "metadata": {
        "colab": {
          "base_uri": "https://localhost:8080/",
          "height": 199
        },
        "id": "m1RtZXI4MJI4",
        "outputId": "2ccee3d0-2bfd-49f3-a0d5-b30c84d11ca5"
      },
      "outputs": [
        {
          "output_type": "execute_result",
          "data": {
            "text/plain": [
              "                     Potencia_3F_[W]  Potencia_3F_[VA]  Factor de Potencia  \\\n",
              "2020-12-27 14:42:00          467.076             548.9               0.851   \n",
              "\n",
              "                     Voltaje_(R)_[V]  Voltaje_(S)_[V]  Voltaje_(T)_[V]  \\\n",
              "2020-12-27 14:42:00          126.404          126.987          128.683   \n",
              "\n",
              "                     Voltaje_(RS)_[V]  Voltaje_(ST)_[V]  Voltaje_(TR)_[V]  \\\n",
              "2020-12-27 14:42:00           218.673           222.113           220.934   \n",
              "\n",
              "                     Corriente_R_[A]  ...  Potencia_T_[W]  Potencia_R_[VAR]  \\\n",
              "2020-12-27 14:42:00            1.282  ...          87.546            -5.309   \n",
              "\n",
              "                     Potencia_S_[VAR]  Potencia_T_[VAR]  Corriente_N_[A]  \\\n",
              "2020-12-27 14:42:00             63.17           -38.944            2.004   \n",
              "\n",
              "                     Frecuencia_[Hz]  Potencia_3F_[VAR]  suma_potencias_W  \\\n",
              "2020-12-27 14:42:00           59.986             18.917           467.076   \n",
              "\n",
              "                     suma_potencias_VA  factor_total_calculado  \n",
              "2020-12-27 14:42:00              548.9                0.850931  \n",
              "\n",
              "[1 rows x 27 columns]"
            ],
            "text/html": [
              "\n",
              "  <div id=\"df-9889ecf9-8353-4da9-a631-98420e12ce5b\" class=\"colab-df-container\">\n",
              "    <div>\n",
              "<style scoped>\n",
              "    .dataframe tbody tr th:only-of-type {\n",
              "        vertical-align: middle;\n",
              "    }\n",
              "\n",
              "    .dataframe tbody tr th {\n",
              "        vertical-align: top;\n",
              "    }\n",
              "\n",
              "    .dataframe thead th {\n",
              "        text-align: right;\n",
              "    }\n",
              "</style>\n",
              "<table border=\"1\" class=\"dataframe\">\n",
              "  <thead>\n",
              "    <tr style=\"text-align: right;\">\n",
              "      <th></th>\n",
              "      <th>Potencia_3F_[W]</th>\n",
              "      <th>Potencia_3F_[VA]</th>\n",
              "      <th>Factor de Potencia</th>\n",
              "      <th>Voltaje_(R)_[V]</th>\n",
              "      <th>Voltaje_(S)_[V]</th>\n",
              "      <th>Voltaje_(T)_[V]</th>\n",
              "      <th>Voltaje_(RS)_[V]</th>\n",
              "      <th>Voltaje_(ST)_[V]</th>\n",
              "      <th>Voltaje_(TR)_[V]</th>\n",
              "      <th>Corriente_R_[A]</th>\n",
              "      <th>...</th>\n",
              "      <th>Potencia_T_[W]</th>\n",
              "      <th>Potencia_R_[VAR]</th>\n",
              "      <th>Potencia_S_[VAR]</th>\n",
              "      <th>Potencia_T_[VAR]</th>\n",
              "      <th>Corriente_N_[A]</th>\n",
              "      <th>Frecuencia_[Hz]</th>\n",
              "      <th>Potencia_3F_[VAR]</th>\n",
              "      <th>suma_potencias_W</th>\n",
              "      <th>suma_potencias_VA</th>\n",
              "      <th>factor_total_calculado</th>\n",
              "    </tr>\n",
              "  </thead>\n",
              "  <tbody>\n",
              "    <tr>\n",
              "      <th>2020-12-27 14:42:00</th>\n",
              "      <td>467.076</td>\n",
              "      <td>548.9</td>\n",
              "      <td>0.851</td>\n",
              "      <td>126.404</td>\n",
              "      <td>126.987</td>\n",
              "      <td>128.683</td>\n",
              "      <td>218.673</td>\n",
              "      <td>222.113</td>\n",
              "      <td>220.934</td>\n",
              "      <td>1.282</td>\n",
              "      <td>...</td>\n",
              "      <td>87.546</td>\n",
              "      <td>-5.309</td>\n",
              "      <td>63.17</td>\n",
              "      <td>-38.944</td>\n",
              "      <td>2.004</td>\n",
              "      <td>59.986</td>\n",
              "      <td>18.917</td>\n",
              "      <td>467.076</td>\n",
              "      <td>548.9</td>\n",
              "      <td>0.850931</td>\n",
              "    </tr>\n",
              "  </tbody>\n",
              "</table>\n",
              "<p>1 rows × 27 columns</p>\n",
              "</div>\n",
              "    <div class=\"colab-df-buttons\">\n",
              "\n",
              "  <div class=\"colab-df-container\">\n",
              "    <button class=\"colab-df-convert\" onclick=\"convertToInteractive('df-9889ecf9-8353-4da9-a631-98420e12ce5b')\"\n",
              "            title=\"Convert this dataframe to an interactive table.\"\n",
              "            style=\"display:none;\">\n",
              "\n",
              "  <svg xmlns=\"http://www.w3.org/2000/svg\" height=\"24px\" viewBox=\"0 -960 960 960\">\n",
              "    <path d=\"M120-120v-720h720v720H120Zm60-500h600v-160H180v160Zm220 220h160v-160H400v160Zm0 220h160v-160H400v160ZM180-400h160v-160H180v160Zm440 0h160v-160H620v160ZM180-180h160v-160H180v160Zm440 0h160v-160H620v160Z\"/>\n",
              "  </svg>\n",
              "    </button>\n",
              "\n",
              "  <style>\n",
              "    .colab-df-container {\n",
              "      display:flex;\n",
              "      gap: 12px;\n",
              "    }\n",
              "\n",
              "    .colab-df-convert {\n",
              "      background-color: #E8F0FE;\n",
              "      border: none;\n",
              "      border-radius: 50%;\n",
              "      cursor: pointer;\n",
              "      display: none;\n",
              "      fill: #1967D2;\n",
              "      height: 32px;\n",
              "      padding: 0 0 0 0;\n",
              "      width: 32px;\n",
              "    }\n",
              "\n",
              "    .colab-df-convert:hover {\n",
              "      background-color: #E2EBFA;\n",
              "      box-shadow: 0px 1px 2px rgba(60, 64, 67, 0.3), 0px 1px 3px 1px rgba(60, 64, 67, 0.15);\n",
              "      fill: #174EA6;\n",
              "    }\n",
              "\n",
              "    .colab-df-buttons div {\n",
              "      margin-bottom: 4px;\n",
              "    }\n",
              "\n",
              "    [theme=dark] .colab-df-convert {\n",
              "      background-color: #3B4455;\n",
              "      fill: #D2E3FC;\n",
              "    }\n",
              "\n",
              "    [theme=dark] .colab-df-convert:hover {\n",
              "      background-color: #434B5C;\n",
              "      box-shadow: 0px 1px 3px 1px rgba(0, 0, 0, 0.15);\n",
              "      filter: drop-shadow(0px 1px 2px rgba(0, 0, 0, 0.3));\n",
              "      fill: #FFFFFF;\n",
              "    }\n",
              "  </style>\n",
              "\n",
              "    <script>\n",
              "      const buttonEl =\n",
              "        document.querySelector('#df-9889ecf9-8353-4da9-a631-98420e12ce5b button.colab-df-convert');\n",
              "      buttonEl.style.display =\n",
              "        google.colab.kernel.accessAllowed ? 'block' : 'none';\n",
              "\n",
              "      async function convertToInteractive(key) {\n",
              "        const element = document.querySelector('#df-9889ecf9-8353-4da9-a631-98420e12ce5b');\n",
              "        const dataTable =\n",
              "          await google.colab.kernel.invokeFunction('convertToInteractive',\n",
              "                                                    [key], {});\n",
              "        if (!dataTable) return;\n",
              "\n",
              "        const docLinkHtml = 'Like what you see? Visit the ' +\n",
              "          '<a target=\"_blank\" href=https://colab.research.google.com/notebooks/data_table.ipynb>data table notebook</a>'\n",
              "          + ' to learn more about interactive tables.';\n",
              "        element.innerHTML = '';\n",
              "        dataTable['output_type'] = 'display_data';\n",
              "        await google.colab.output.renderOutput(dataTable, element);\n",
              "        const docLink = document.createElement('div');\n",
              "        docLink.innerHTML = docLinkHtml;\n",
              "        element.appendChild(docLink);\n",
              "      }\n",
              "    </script>\n",
              "  </div>\n",
              "\n",
              "\n",
              "    </div>\n",
              "  </div>\n"
            ],
            "application/vnd.google.colaboratory.intrinsic+json": {
              "type": "dataframe"
            }
          },
          "metadata": {},
          "execution_count": 15
        }
      ],
      "source": [
        "df_train.tail(1)"
      ]
    },
    {
      "cell_type": "code",
      "execution_count": null,
      "metadata": {
        "colab": {
          "base_uri": "https://localhost:8080/",
          "height": 199
        },
        "id": "MskVWv0CMM_b",
        "outputId": "1039384d-0b9f-45e2-f0f0-fdfced7ac877"
      },
      "outputs": [
        {
          "output_type": "execute_result",
          "data": {
            "text/plain": [
              "                     Potencia_3F_[W]  Potencia_3F_[VA]  Factor de Potencia  \\\n",
              "2020-12-27 14:44:00          453.005           532.047               0.826   \n",
              "\n",
              "                     Voltaje_(R)_[V]  Voltaje_(S)_[V]  Voltaje_(T)_[V]  \\\n",
              "2020-12-27 14:44:00          126.302           127.01          128.644   \n",
              "\n",
              "                     Voltaje_(RS)_[V]  Voltaje_(ST)_[V]  Voltaje_(TR)_[V]  \\\n",
              "2020-12-27 14:44:00           218.619           222.142           220.757   \n",
              "\n",
              "                     Corriente_R_[A]  ...  Potencia_T_[W]  Potencia_R_[VAR]  \\\n",
              "2020-12-27 14:44:00            1.278  ...          84.923            -5.111   \n",
              "\n",
              "                     Potencia_S_[VAR]  Potencia_T_[VAR]  Corriente_N_[A]  \\\n",
              "2020-12-27 14:44:00            61.525           -37.721            1.941   \n",
              "\n",
              "                     Frecuencia_[Hz]  Potencia_3F_[VAR]  suma_potencias_W  \\\n",
              "2020-12-27 14:44:00           58.233             18.693           464.086   \n",
              "\n",
              "                     suma_potencias_VA  factor_total_calculado  \n",
              "2020-12-27 14:44:00            548.099                0.846719  \n",
              "\n",
              "[1 rows x 27 columns]"
            ],
            "text/html": [
              "\n",
              "  <div id=\"df-14d03c84-bfad-42c4-9959-0e7310fddc01\" class=\"colab-df-container\">\n",
              "    <div>\n",
              "<style scoped>\n",
              "    .dataframe tbody tr th:only-of-type {\n",
              "        vertical-align: middle;\n",
              "    }\n",
              "\n",
              "    .dataframe tbody tr th {\n",
              "        vertical-align: top;\n",
              "    }\n",
              "\n",
              "    .dataframe thead th {\n",
              "        text-align: right;\n",
              "    }\n",
              "</style>\n",
              "<table border=\"1\" class=\"dataframe\">\n",
              "  <thead>\n",
              "    <tr style=\"text-align: right;\">\n",
              "      <th></th>\n",
              "      <th>Potencia_3F_[W]</th>\n",
              "      <th>Potencia_3F_[VA]</th>\n",
              "      <th>Factor de Potencia</th>\n",
              "      <th>Voltaje_(R)_[V]</th>\n",
              "      <th>Voltaje_(S)_[V]</th>\n",
              "      <th>Voltaje_(T)_[V]</th>\n",
              "      <th>Voltaje_(RS)_[V]</th>\n",
              "      <th>Voltaje_(ST)_[V]</th>\n",
              "      <th>Voltaje_(TR)_[V]</th>\n",
              "      <th>Corriente_R_[A]</th>\n",
              "      <th>...</th>\n",
              "      <th>Potencia_T_[W]</th>\n",
              "      <th>Potencia_R_[VAR]</th>\n",
              "      <th>Potencia_S_[VAR]</th>\n",
              "      <th>Potencia_T_[VAR]</th>\n",
              "      <th>Corriente_N_[A]</th>\n",
              "      <th>Frecuencia_[Hz]</th>\n",
              "      <th>Potencia_3F_[VAR]</th>\n",
              "      <th>suma_potencias_W</th>\n",
              "      <th>suma_potencias_VA</th>\n",
              "      <th>factor_total_calculado</th>\n",
              "    </tr>\n",
              "  </thead>\n",
              "  <tbody>\n",
              "    <tr>\n",
              "      <th>2020-12-27 14:44:00</th>\n",
              "      <td>453.005</td>\n",
              "      <td>532.047</td>\n",
              "      <td>0.826</td>\n",
              "      <td>126.302</td>\n",
              "      <td>127.01</td>\n",
              "      <td>128.644</td>\n",
              "      <td>218.619</td>\n",
              "      <td>222.142</td>\n",
              "      <td>220.757</td>\n",
              "      <td>1.278</td>\n",
              "      <td>...</td>\n",
              "      <td>84.923</td>\n",
              "      <td>-5.111</td>\n",
              "      <td>61.525</td>\n",
              "      <td>-37.721</td>\n",
              "      <td>1.941</td>\n",
              "      <td>58.233</td>\n",
              "      <td>18.693</td>\n",
              "      <td>464.086</td>\n",
              "      <td>548.099</td>\n",
              "      <td>0.846719</td>\n",
              "    </tr>\n",
              "  </tbody>\n",
              "</table>\n",
              "<p>1 rows × 27 columns</p>\n",
              "</div>\n",
              "    <div class=\"colab-df-buttons\">\n",
              "\n",
              "  <div class=\"colab-df-container\">\n",
              "    <button class=\"colab-df-convert\" onclick=\"convertToInteractive('df-14d03c84-bfad-42c4-9959-0e7310fddc01')\"\n",
              "            title=\"Convert this dataframe to an interactive table.\"\n",
              "            style=\"display:none;\">\n",
              "\n",
              "  <svg xmlns=\"http://www.w3.org/2000/svg\" height=\"24px\" viewBox=\"0 -960 960 960\">\n",
              "    <path d=\"M120-120v-720h720v720H120Zm60-500h600v-160H180v160Zm220 220h160v-160H400v160Zm0 220h160v-160H400v160ZM180-400h160v-160H180v160Zm440 0h160v-160H620v160ZM180-180h160v-160H180v160Zm440 0h160v-160H620v160Z\"/>\n",
              "  </svg>\n",
              "    </button>\n",
              "\n",
              "  <style>\n",
              "    .colab-df-container {\n",
              "      display:flex;\n",
              "      gap: 12px;\n",
              "    }\n",
              "\n",
              "    .colab-df-convert {\n",
              "      background-color: #E8F0FE;\n",
              "      border: none;\n",
              "      border-radius: 50%;\n",
              "      cursor: pointer;\n",
              "      display: none;\n",
              "      fill: #1967D2;\n",
              "      height: 32px;\n",
              "      padding: 0 0 0 0;\n",
              "      width: 32px;\n",
              "    }\n",
              "\n",
              "    .colab-df-convert:hover {\n",
              "      background-color: #E2EBFA;\n",
              "      box-shadow: 0px 1px 2px rgba(60, 64, 67, 0.3), 0px 1px 3px 1px rgba(60, 64, 67, 0.15);\n",
              "      fill: #174EA6;\n",
              "    }\n",
              "\n",
              "    .colab-df-buttons div {\n",
              "      margin-bottom: 4px;\n",
              "    }\n",
              "\n",
              "    [theme=dark] .colab-df-convert {\n",
              "      background-color: #3B4455;\n",
              "      fill: #D2E3FC;\n",
              "    }\n",
              "\n",
              "    [theme=dark] .colab-df-convert:hover {\n",
              "      background-color: #434B5C;\n",
              "      box-shadow: 0px 1px 3px 1px rgba(0, 0, 0, 0.15);\n",
              "      filter: drop-shadow(0px 1px 2px rgba(0, 0, 0, 0.3));\n",
              "      fill: #FFFFFF;\n",
              "    }\n",
              "  </style>\n",
              "\n",
              "    <script>\n",
              "      const buttonEl =\n",
              "        document.querySelector('#df-14d03c84-bfad-42c4-9959-0e7310fddc01 button.colab-df-convert');\n",
              "      buttonEl.style.display =\n",
              "        google.colab.kernel.accessAllowed ? 'block' : 'none';\n",
              "\n",
              "      async function convertToInteractive(key) {\n",
              "        const element = document.querySelector('#df-14d03c84-bfad-42c4-9959-0e7310fddc01');\n",
              "        const dataTable =\n",
              "          await google.colab.kernel.invokeFunction('convertToInteractive',\n",
              "                                                    [key], {});\n",
              "        if (!dataTable) return;\n",
              "\n",
              "        const docLinkHtml = 'Like what you see? Visit the ' +\n",
              "          '<a target=\"_blank\" href=https://colab.research.google.com/notebooks/data_table.ipynb>data table notebook</a>'\n",
              "          + ' to learn more about interactive tables.';\n",
              "        element.innerHTML = '';\n",
              "        dataTable['output_type'] = 'display_data';\n",
              "        await google.colab.output.renderOutput(dataTable, element);\n",
              "        const docLink = document.createElement('div');\n",
              "        docLink.innerHTML = docLinkHtml;\n",
              "        element.appendChild(docLink);\n",
              "      }\n",
              "    </script>\n",
              "  </div>\n",
              "\n",
              "\n",
              "    </div>\n",
              "  </div>\n"
            ],
            "application/vnd.google.colaboratory.intrinsic+json": {
              "type": "dataframe",
              "variable_name": "df_val"
            }
          },
          "metadata": {},
          "execution_count": 16
        }
      ],
      "source": [
        "df_val.head(1)"
      ]
    },
    {
      "cell_type": "code",
      "execution_count": null,
      "metadata": {
        "colab": {
          "base_uri": "https://localhost:8080/",
          "height": 199
        },
        "id": "HLhC_xxvMOU4",
        "outputId": "06742f13-d3c4-46dd-b804-b691e9b6cbb0"
      },
      "outputs": [
        {
          "output_type": "execute_result",
          "data": {
            "text/plain": [
              "                     Potencia_3F_[W]  Potencia_3F_[VA]  Factor de Potencia  \\\n",
              "2020-12-29 01:46:00          498.132           598.352               0.833   \n",
              "\n",
              "                     Voltaje_(R)_[V]  Voltaje_(S)_[V]  Voltaje_(T)_[V]  \\\n",
              "2020-12-29 01:46:00          128.112           127.41          128.896   \n",
              "\n",
              "                     Voltaje_(RS)_[V]  Voltaje_(ST)_[V]  Voltaje_(TR)_[V]  \\\n",
              "2020-12-29 01:46:00           220.623           222.668           222.499   \n",
              "\n",
              "                     Corriente_R_[A]  ...  Potencia_T_[W]  Potencia_R_[VAR]  \\\n",
              "2020-12-29 01:46:00            1.047  ...         222.534           -22.808   \n",
              "\n",
              "                     Potencia_S_[VAR]  Potencia_T_[VAR]  Corriente_N_[A]  \\\n",
              "2020-12-29 01:46:00            -24.12          -122.265            1.562   \n",
              "\n",
              "                     Frecuencia_[Hz]  Potencia_3F_[VAR]  suma_potencias_W  \\\n",
              "2020-12-29 01:46:00            59.99           -169.192           498.133   \n",
              "\n",
              "                     suma_potencias_VA  factor_total_calculado  \n",
              "2020-12-29 01:46:00            598.351                 0.83251  \n",
              "\n",
              "[1 rows x 27 columns]"
            ],
            "text/html": [
              "\n",
              "  <div id=\"df-7074a708-b5f3-4a26-b911-51ae7e52e2aa\" class=\"colab-df-container\">\n",
              "    <div>\n",
              "<style scoped>\n",
              "    .dataframe tbody tr th:only-of-type {\n",
              "        vertical-align: middle;\n",
              "    }\n",
              "\n",
              "    .dataframe tbody tr th {\n",
              "        vertical-align: top;\n",
              "    }\n",
              "\n",
              "    .dataframe thead th {\n",
              "        text-align: right;\n",
              "    }\n",
              "</style>\n",
              "<table border=\"1\" class=\"dataframe\">\n",
              "  <thead>\n",
              "    <tr style=\"text-align: right;\">\n",
              "      <th></th>\n",
              "      <th>Potencia_3F_[W]</th>\n",
              "      <th>Potencia_3F_[VA]</th>\n",
              "      <th>Factor de Potencia</th>\n",
              "      <th>Voltaje_(R)_[V]</th>\n",
              "      <th>Voltaje_(S)_[V]</th>\n",
              "      <th>Voltaje_(T)_[V]</th>\n",
              "      <th>Voltaje_(RS)_[V]</th>\n",
              "      <th>Voltaje_(ST)_[V]</th>\n",
              "      <th>Voltaje_(TR)_[V]</th>\n",
              "      <th>Corriente_R_[A]</th>\n",
              "      <th>...</th>\n",
              "      <th>Potencia_T_[W]</th>\n",
              "      <th>Potencia_R_[VAR]</th>\n",
              "      <th>Potencia_S_[VAR]</th>\n",
              "      <th>Potencia_T_[VAR]</th>\n",
              "      <th>Corriente_N_[A]</th>\n",
              "      <th>Frecuencia_[Hz]</th>\n",
              "      <th>Potencia_3F_[VAR]</th>\n",
              "      <th>suma_potencias_W</th>\n",
              "      <th>suma_potencias_VA</th>\n",
              "      <th>factor_total_calculado</th>\n",
              "    </tr>\n",
              "  </thead>\n",
              "  <tbody>\n",
              "    <tr>\n",
              "      <th>2020-12-29 01:46:00</th>\n",
              "      <td>498.132</td>\n",
              "      <td>598.352</td>\n",
              "      <td>0.833</td>\n",
              "      <td>128.112</td>\n",
              "      <td>127.41</td>\n",
              "      <td>128.896</td>\n",
              "      <td>220.623</td>\n",
              "      <td>222.668</td>\n",
              "      <td>222.499</td>\n",
              "      <td>1.047</td>\n",
              "      <td>...</td>\n",
              "      <td>222.534</td>\n",
              "      <td>-22.808</td>\n",
              "      <td>-24.12</td>\n",
              "      <td>-122.265</td>\n",
              "      <td>1.562</td>\n",
              "      <td>59.99</td>\n",
              "      <td>-169.192</td>\n",
              "      <td>498.133</td>\n",
              "      <td>598.351</td>\n",
              "      <td>0.83251</td>\n",
              "    </tr>\n",
              "  </tbody>\n",
              "</table>\n",
              "<p>1 rows × 27 columns</p>\n",
              "</div>\n",
              "    <div class=\"colab-df-buttons\">\n",
              "\n",
              "  <div class=\"colab-df-container\">\n",
              "    <button class=\"colab-df-convert\" onclick=\"convertToInteractive('df-7074a708-b5f3-4a26-b911-51ae7e52e2aa')\"\n",
              "            title=\"Convert this dataframe to an interactive table.\"\n",
              "            style=\"display:none;\">\n",
              "\n",
              "  <svg xmlns=\"http://www.w3.org/2000/svg\" height=\"24px\" viewBox=\"0 -960 960 960\">\n",
              "    <path d=\"M120-120v-720h720v720H120Zm60-500h600v-160H180v160Zm220 220h160v-160H400v160Zm0 220h160v-160H400v160ZM180-400h160v-160H180v160Zm440 0h160v-160H620v160ZM180-180h160v-160H180v160Zm440 0h160v-160H620v160Z\"/>\n",
              "  </svg>\n",
              "    </button>\n",
              "\n",
              "  <style>\n",
              "    .colab-df-container {\n",
              "      display:flex;\n",
              "      gap: 12px;\n",
              "    }\n",
              "\n",
              "    .colab-df-convert {\n",
              "      background-color: #E8F0FE;\n",
              "      border: none;\n",
              "      border-radius: 50%;\n",
              "      cursor: pointer;\n",
              "      display: none;\n",
              "      fill: #1967D2;\n",
              "      height: 32px;\n",
              "      padding: 0 0 0 0;\n",
              "      width: 32px;\n",
              "    }\n",
              "\n",
              "    .colab-df-convert:hover {\n",
              "      background-color: #E2EBFA;\n",
              "      box-shadow: 0px 1px 2px rgba(60, 64, 67, 0.3), 0px 1px 3px 1px rgba(60, 64, 67, 0.15);\n",
              "      fill: #174EA6;\n",
              "    }\n",
              "\n",
              "    .colab-df-buttons div {\n",
              "      margin-bottom: 4px;\n",
              "    }\n",
              "\n",
              "    [theme=dark] .colab-df-convert {\n",
              "      background-color: #3B4455;\n",
              "      fill: #D2E3FC;\n",
              "    }\n",
              "\n",
              "    [theme=dark] .colab-df-convert:hover {\n",
              "      background-color: #434B5C;\n",
              "      box-shadow: 0px 1px 3px 1px rgba(0, 0, 0, 0.15);\n",
              "      filter: drop-shadow(0px 1px 2px rgba(0, 0, 0, 0.3));\n",
              "      fill: #FFFFFF;\n",
              "    }\n",
              "  </style>\n",
              "\n",
              "    <script>\n",
              "      const buttonEl =\n",
              "        document.querySelector('#df-7074a708-b5f3-4a26-b911-51ae7e52e2aa button.colab-df-convert');\n",
              "      buttonEl.style.display =\n",
              "        google.colab.kernel.accessAllowed ? 'block' : 'none';\n",
              "\n",
              "      async function convertToInteractive(key) {\n",
              "        const element = document.querySelector('#df-7074a708-b5f3-4a26-b911-51ae7e52e2aa');\n",
              "        const dataTable =\n",
              "          await google.colab.kernel.invokeFunction('convertToInteractive',\n",
              "                                                    [key], {});\n",
              "        if (!dataTable) return;\n",
              "\n",
              "        const docLinkHtml = 'Like what you see? Visit the ' +\n",
              "          '<a target=\"_blank\" href=https://colab.research.google.com/notebooks/data_table.ipynb>data table notebook</a>'\n",
              "          + ' to learn more about interactive tables.';\n",
              "        element.innerHTML = '';\n",
              "        dataTable['output_type'] = 'display_data';\n",
              "        await google.colab.output.renderOutput(dataTable, element);\n",
              "        const docLink = document.createElement('div');\n",
              "        docLink.innerHTML = docLinkHtml;\n",
              "        element.appendChild(docLink);\n",
              "      }\n",
              "    </script>\n",
              "  </div>\n",
              "\n",
              "\n",
              "    </div>\n",
              "  </div>\n"
            ],
            "application/vnd.google.colaboratory.intrinsic+json": {
              "type": "dataframe"
            }
          },
          "metadata": {},
          "execution_count": 17
        }
      ],
      "source": [
        "df_val.tail(1)"
      ]
    },
    {
      "cell_type": "code",
      "execution_count": null,
      "metadata": {
        "colab": {
          "base_uri": "https://localhost:8080/",
          "height": 199
        },
        "id": "dz0fTo_XL_iv",
        "outputId": "144a69b6-a71d-4f4c-a11e-de1c0bcf31c3"
      },
      "outputs": [
        {
          "output_type": "execute_result",
          "data": {
            "text/plain": [
              "                     Potencia_3F_[W]  Potencia_3F_[VA]  Factor de Potencia  \\\n",
              "2020-12-29 01:48:00          496.704            596.44               0.833   \n",
              "\n",
              "                     Voltaje_(R)_[V]  Voltaje_(S)_[V]  Voltaje_(T)_[V]  \\\n",
              "2020-12-29 01:48:00          127.926          127.335          128.872   \n",
              "\n",
              "                     Voltaje_(RS)_[V]  Voltaje_(ST)_[V]  Voltaje_(TR)_[V]  \\\n",
              "2020-12-29 01:48:00            220.47            222.57           222.252   \n",
              "\n",
              "                     Corriente_R_[A]  ...  Potencia_T_[W]  Potencia_R_[VAR]  \\\n",
              "2020-12-29 01:48:00            1.047  ...         221.716           -22.894   \n",
              "\n",
              "                     Potencia_S_[VAR]  Potencia_T_[VAR]  Corriente_N_[A]  \\\n",
              "2020-12-29 01:48:00           -24.118          -122.223            1.555   \n",
              "\n",
              "                     Frecuencia_[Hz]  Potencia_3F_[VAR]  suma_potencias_W  \\\n",
              "2020-12-29 01:48:00           59.988           -169.236           496.704   \n",
              "\n",
              "                     suma_potencias_VA  factor_total_calculado  \n",
              "2020-12-29 01:48:00            596.441                 0.83278  \n",
              "\n",
              "[1 rows x 27 columns]"
            ],
            "text/html": [
              "\n",
              "  <div id=\"df-a39a16fb-19fe-4223-af86-f42f51a1ae60\" class=\"colab-df-container\">\n",
              "    <div>\n",
              "<style scoped>\n",
              "    .dataframe tbody tr th:only-of-type {\n",
              "        vertical-align: middle;\n",
              "    }\n",
              "\n",
              "    .dataframe tbody tr th {\n",
              "        vertical-align: top;\n",
              "    }\n",
              "\n",
              "    .dataframe thead th {\n",
              "        text-align: right;\n",
              "    }\n",
              "</style>\n",
              "<table border=\"1\" class=\"dataframe\">\n",
              "  <thead>\n",
              "    <tr style=\"text-align: right;\">\n",
              "      <th></th>\n",
              "      <th>Potencia_3F_[W]</th>\n",
              "      <th>Potencia_3F_[VA]</th>\n",
              "      <th>Factor de Potencia</th>\n",
              "      <th>Voltaje_(R)_[V]</th>\n",
              "      <th>Voltaje_(S)_[V]</th>\n",
              "      <th>Voltaje_(T)_[V]</th>\n",
              "      <th>Voltaje_(RS)_[V]</th>\n",
              "      <th>Voltaje_(ST)_[V]</th>\n",
              "      <th>Voltaje_(TR)_[V]</th>\n",
              "      <th>Corriente_R_[A]</th>\n",
              "      <th>...</th>\n",
              "      <th>Potencia_T_[W]</th>\n",
              "      <th>Potencia_R_[VAR]</th>\n",
              "      <th>Potencia_S_[VAR]</th>\n",
              "      <th>Potencia_T_[VAR]</th>\n",
              "      <th>Corriente_N_[A]</th>\n",
              "      <th>Frecuencia_[Hz]</th>\n",
              "      <th>Potencia_3F_[VAR]</th>\n",
              "      <th>suma_potencias_W</th>\n",
              "      <th>suma_potencias_VA</th>\n",
              "      <th>factor_total_calculado</th>\n",
              "    </tr>\n",
              "  </thead>\n",
              "  <tbody>\n",
              "    <tr>\n",
              "      <th>2020-12-29 01:48:00</th>\n",
              "      <td>496.704</td>\n",
              "      <td>596.44</td>\n",
              "      <td>0.833</td>\n",
              "      <td>127.926</td>\n",
              "      <td>127.335</td>\n",
              "      <td>128.872</td>\n",
              "      <td>220.47</td>\n",
              "      <td>222.57</td>\n",
              "      <td>222.252</td>\n",
              "      <td>1.047</td>\n",
              "      <td>...</td>\n",
              "      <td>221.716</td>\n",
              "      <td>-22.894</td>\n",
              "      <td>-24.118</td>\n",
              "      <td>-122.223</td>\n",
              "      <td>1.555</td>\n",
              "      <td>59.988</td>\n",
              "      <td>-169.236</td>\n",
              "      <td>496.704</td>\n",
              "      <td>596.441</td>\n",
              "      <td>0.83278</td>\n",
              "    </tr>\n",
              "  </tbody>\n",
              "</table>\n",
              "<p>1 rows × 27 columns</p>\n",
              "</div>\n",
              "    <div class=\"colab-df-buttons\">\n",
              "\n",
              "  <div class=\"colab-df-container\">\n",
              "    <button class=\"colab-df-convert\" onclick=\"convertToInteractive('df-a39a16fb-19fe-4223-af86-f42f51a1ae60')\"\n",
              "            title=\"Convert this dataframe to an interactive table.\"\n",
              "            style=\"display:none;\">\n",
              "\n",
              "  <svg xmlns=\"http://www.w3.org/2000/svg\" height=\"24px\" viewBox=\"0 -960 960 960\">\n",
              "    <path d=\"M120-120v-720h720v720H120Zm60-500h600v-160H180v160Zm220 220h160v-160H400v160Zm0 220h160v-160H400v160ZM180-400h160v-160H180v160Zm440 0h160v-160H620v160ZM180-180h160v-160H180v160Zm440 0h160v-160H620v160Z\"/>\n",
              "  </svg>\n",
              "    </button>\n",
              "\n",
              "  <style>\n",
              "    .colab-df-container {\n",
              "      display:flex;\n",
              "      gap: 12px;\n",
              "    }\n",
              "\n",
              "    .colab-df-convert {\n",
              "      background-color: #E8F0FE;\n",
              "      border: none;\n",
              "      border-radius: 50%;\n",
              "      cursor: pointer;\n",
              "      display: none;\n",
              "      fill: #1967D2;\n",
              "      height: 32px;\n",
              "      padding: 0 0 0 0;\n",
              "      width: 32px;\n",
              "    }\n",
              "\n",
              "    .colab-df-convert:hover {\n",
              "      background-color: #E2EBFA;\n",
              "      box-shadow: 0px 1px 2px rgba(60, 64, 67, 0.3), 0px 1px 3px 1px rgba(60, 64, 67, 0.15);\n",
              "      fill: #174EA6;\n",
              "    }\n",
              "\n",
              "    .colab-df-buttons div {\n",
              "      margin-bottom: 4px;\n",
              "    }\n",
              "\n",
              "    [theme=dark] .colab-df-convert {\n",
              "      background-color: #3B4455;\n",
              "      fill: #D2E3FC;\n",
              "    }\n",
              "\n",
              "    [theme=dark] .colab-df-convert:hover {\n",
              "      background-color: #434B5C;\n",
              "      box-shadow: 0px 1px 3px 1px rgba(0, 0, 0, 0.15);\n",
              "      filter: drop-shadow(0px 1px 2px rgba(0, 0, 0, 0.3));\n",
              "      fill: #FFFFFF;\n",
              "    }\n",
              "  </style>\n",
              "\n",
              "    <script>\n",
              "      const buttonEl =\n",
              "        document.querySelector('#df-a39a16fb-19fe-4223-af86-f42f51a1ae60 button.colab-df-convert');\n",
              "      buttonEl.style.display =\n",
              "        google.colab.kernel.accessAllowed ? 'block' : 'none';\n",
              "\n",
              "      async function convertToInteractive(key) {\n",
              "        const element = document.querySelector('#df-a39a16fb-19fe-4223-af86-f42f51a1ae60');\n",
              "        const dataTable =\n",
              "          await google.colab.kernel.invokeFunction('convertToInteractive',\n",
              "                                                    [key], {});\n",
              "        if (!dataTable) return;\n",
              "\n",
              "        const docLinkHtml = 'Like what you see? Visit the ' +\n",
              "          '<a target=\"_blank\" href=https://colab.research.google.com/notebooks/data_table.ipynb>data table notebook</a>'\n",
              "          + ' to learn more about interactive tables.';\n",
              "        element.innerHTML = '';\n",
              "        dataTable['output_type'] = 'display_data';\n",
              "        await google.colab.output.renderOutput(dataTable, element);\n",
              "        const docLink = document.createElement('div');\n",
              "        docLink.innerHTML = docLinkHtml;\n",
              "        element.appendChild(docLink);\n",
              "      }\n",
              "    </script>\n",
              "  </div>\n",
              "\n",
              "\n",
              "    </div>\n",
              "  </div>\n"
            ],
            "application/vnd.google.colaboratory.intrinsic+json": {
              "type": "dataframe",
              "variable_name": "df_test"
            }
          },
          "metadata": {},
          "execution_count": 18
        }
      ],
      "source": [
        "df_test.head(1)"
      ]
    },
    {
      "cell_type": "code",
      "execution_count": null,
      "metadata": {
        "colab": {
          "base_uri": "https://localhost:8080/",
          "height": 199
        },
        "id": "2_KrfvM_MW5_",
        "outputId": "62b12773-b450-454f-86b4-d9ddaa2a2f16"
      },
      "outputs": [
        {
          "output_type": "execute_result",
          "data": {
            "text/plain": [
              "                     Potencia_3F_[W]  Potencia_3F_[VA]  Factor de Potencia  \\\n",
              "2020-12-31 23:58:00          702.121           811.937               0.839   \n",
              "\n",
              "                     Voltaje_(R)_[V]  Voltaje_(S)_[V]  Voltaje_(T)_[V]  \\\n",
              "2020-12-31 23:58:00          127.734          128.241          129.285   \n",
              "\n",
              "                     Voltaje_(RS)_[V]  Voltaje_(ST)_[V]  Voltaje_(TR)_[V]  \\\n",
              "2020-12-31 23:58:00           220.938           223.671           222.634   \n",
              "\n",
              "                     Corriente_R_[A]  ...  Potencia_T_[W]  Potencia_R_[VAR]  \\\n",
              "2020-12-31 23:58:00             1.07  ...         344.124           -21.609   \n",
              "\n",
              "                     Potencia_S_[VAR]  Potencia_T_[VAR]  Corriente_N_[A]  \\\n",
              "2020-12-31 23:58:00            60.951          -154.166            1.584   \n",
              "\n",
              "                     Frecuencia_[Hz]  Potencia_3F_[VAR]  suma_potencias_W  \\\n",
              "2020-12-31 23:58:00           58.249           -114.823           712.963   \n",
              "\n",
              "                     suma_potencias_VA  factor_total_calculado  \n",
              "2020-12-31 23:58:00            836.548                0.852268  \n",
              "\n",
              "[1 rows x 27 columns]"
            ],
            "text/html": [
              "\n",
              "  <div id=\"df-3be5da63-5428-4539-b3a0-f257c0ddaf57\" class=\"colab-df-container\">\n",
              "    <div>\n",
              "<style scoped>\n",
              "    .dataframe tbody tr th:only-of-type {\n",
              "        vertical-align: middle;\n",
              "    }\n",
              "\n",
              "    .dataframe tbody tr th {\n",
              "        vertical-align: top;\n",
              "    }\n",
              "\n",
              "    .dataframe thead th {\n",
              "        text-align: right;\n",
              "    }\n",
              "</style>\n",
              "<table border=\"1\" class=\"dataframe\">\n",
              "  <thead>\n",
              "    <tr style=\"text-align: right;\">\n",
              "      <th></th>\n",
              "      <th>Potencia_3F_[W]</th>\n",
              "      <th>Potencia_3F_[VA]</th>\n",
              "      <th>Factor de Potencia</th>\n",
              "      <th>Voltaje_(R)_[V]</th>\n",
              "      <th>Voltaje_(S)_[V]</th>\n",
              "      <th>Voltaje_(T)_[V]</th>\n",
              "      <th>Voltaje_(RS)_[V]</th>\n",
              "      <th>Voltaje_(ST)_[V]</th>\n",
              "      <th>Voltaje_(TR)_[V]</th>\n",
              "      <th>Corriente_R_[A]</th>\n",
              "      <th>...</th>\n",
              "      <th>Potencia_T_[W]</th>\n",
              "      <th>Potencia_R_[VAR]</th>\n",
              "      <th>Potencia_S_[VAR]</th>\n",
              "      <th>Potencia_T_[VAR]</th>\n",
              "      <th>Corriente_N_[A]</th>\n",
              "      <th>Frecuencia_[Hz]</th>\n",
              "      <th>Potencia_3F_[VAR]</th>\n",
              "      <th>suma_potencias_W</th>\n",
              "      <th>suma_potencias_VA</th>\n",
              "      <th>factor_total_calculado</th>\n",
              "    </tr>\n",
              "  </thead>\n",
              "  <tbody>\n",
              "    <tr>\n",
              "      <th>2020-12-31 23:58:00</th>\n",
              "      <td>702.121</td>\n",
              "      <td>811.937</td>\n",
              "      <td>0.839</td>\n",
              "      <td>127.734</td>\n",
              "      <td>128.241</td>\n",
              "      <td>129.285</td>\n",
              "      <td>220.938</td>\n",
              "      <td>223.671</td>\n",
              "      <td>222.634</td>\n",
              "      <td>1.07</td>\n",
              "      <td>...</td>\n",
              "      <td>344.124</td>\n",
              "      <td>-21.609</td>\n",
              "      <td>60.951</td>\n",
              "      <td>-154.166</td>\n",
              "      <td>1.584</td>\n",
              "      <td>58.249</td>\n",
              "      <td>-114.823</td>\n",
              "      <td>712.963</td>\n",
              "      <td>836.548</td>\n",
              "      <td>0.852268</td>\n",
              "    </tr>\n",
              "  </tbody>\n",
              "</table>\n",
              "<p>1 rows × 27 columns</p>\n",
              "</div>\n",
              "    <div class=\"colab-df-buttons\">\n",
              "\n",
              "  <div class=\"colab-df-container\">\n",
              "    <button class=\"colab-df-convert\" onclick=\"convertToInteractive('df-3be5da63-5428-4539-b3a0-f257c0ddaf57')\"\n",
              "            title=\"Convert this dataframe to an interactive table.\"\n",
              "            style=\"display:none;\">\n",
              "\n",
              "  <svg xmlns=\"http://www.w3.org/2000/svg\" height=\"24px\" viewBox=\"0 -960 960 960\">\n",
              "    <path d=\"M120-120v-720h720v720H120Zm60-500h600v-160H180v160Zm220 220h160v-160H400v160Zm0 220h160v-160H400v160ZM180-400h160v-160H180v160Zm440 0h160v-160H620v160ZM180-180h160v-160H180v160Zm440 0h160v-160H620v160Z\"/>\n",
              "  </svg>\n",
              "    </button>\n",
              "\n",
              "  <style>\n",
              "    .colab-df-container {\n",
              "      display:flex;\n",
              "      gap: 12px;\n",
              "    }\n",
              "\n",
              "    .colab-df-convert {\n",
              "      background-color: #E8F0FE;\n",
              "      border: none;\n",
              "      border-radius: 50%;\n",
              "      cursor: pointer;\n",
              "      display: none;\n",
              "      fill: #1967D2;\n",
              "      height: 32px;\n",
              "      padding: 0 0 0 0;\n",
              "      width: 32px;\n",
              "    }\n",
              "\n",
              "    .colab-df-convert:hover {\n",
              "      background-color: #E2EBFA;\n",
              "      box-shadow: 0px 1px 2px rgba(60, 64, 67, 0.3), 0px 1px 3px 1px rgba(60, 64, 67, 0.15);\n",
              "      fill: #174EA6;\n",
              "    }\n",
              "\n",
              "    .colab-df-buttons div {\n",
              "      margin-bottom: 4px;\n",
              "    }\n",
              "\n",
              "    [theme=dark] .colab-df-convert {\n",
              "      background-color: #3B4455;\n",
              "      fill: #D2E3FC;\n",
              "    }\n",
              "\n",
              "    [theme=dark] .colab-df-convert:hover {\n",
              "      background-color: #434B5C;\n",
              "      box-shadow: 0px 1px 3px 1px rgba(0, 0, 0, 0.15);\n",
              "      filter: drop-shadow(0px 1px 2px rgba(0, 0, 0, 0.3));\n",
              "      fill: #FFFFFF;\n",
              "    }\n",
              "  </style>\n",
              "\n",
              "    <script>\n",
              "      const buttonEl =\n",
              "        document.querySelector('#df-3be5da63-5428-4539-b3a0-f257c0ddaf57 button.colab-df-convert');\n",
              "      buttonEl.style.display =\n",
              "        google.colab.kernel.accessAllowed ? 'block' : 'none';\n",
              "\n",
              "      async function convertToInteractive(key) {\n",
              "        const element = document.querySelector('#df-3be5da63-5428-4539-b3a0-f257c0ddaf57');\n",
              "        const dataTable =\n",
              "          await google.colab.kernel.invokeFunction('convertToInteractive',\n",
              "                                                    [key], {});\n",
              "        if (!dataTable) return;\n",
              "\n",
              "        const docLinkHtml = 'Like what you see? Visit the ' +\n",
              "          '<a target=\"_blank\" href=https://colab.research.google.com/notebooks/data_table.ipynb>data table notebook</a>'\n",
              "          + ' to learn more about interactive tables.';\n",
              "        element.innerHTML = '';\n",
              "        dataTable['output_type'] = 'display_data';\n",
              "        await google.colab.output.renderOutput(dataTable, element);\n",
              "        const docLink = document.createElement('div');\n",
              "        docLink.innerHTML = docLinkHtml;\n",
              "        element.appendChild(docLink);\n",
              "      }\n",
              "    </script>\n",
              "  </div>\n",
              "\n",
              "\n",
              "    </div>\n",
              "  </div>\n"
            ],
            "application/vnd.google.colaboratory.intrinsic+json": {
              "type": "dataframe"
            }
          },
          "metadata": {},
          "execution_count": 19
        }
      ],
      "source": [
        "df_test.tail(1)"
      ]
    },
    {
      "cell_type": "code",
      "execution_count": null,
      "metadata": {
        "id": "N8KFXm4t9FIu"
      },
      "outputs": [],
      "source": [
        "input_sets={\n",
        "    '3F_W':['Potencia_3F_[W]','Corriente_T_[A]','Potencia_T_[VA]'],\n",
        "    '3F_VA':['Potencia_3F_[VA]','Corriente_T_[A]','Potencia_T_[VA]'],\n",
        "    '3F_factor':['Factor de Potencia','Potencia_R_[W]']\n",
        "}"
      ]
    },
    {
      "cell_type": "code",
      "execution_count": null,
      "metadata": {
        "colab": {
          "base_uri": "https://localhost:8080/"
        },
        "id": "YKWekEGX-jdG",
        "outputId": "e67535d0-b3d5-488b-bc7f-3cda918e7963"
      },
      "outputs": [
        {
          "output_type": "execute_result",
          "data": {
            "text/plain": [
              "dict_keys(['3F_W', '3F_VA', '3F_factor'])"
            ]
          },
          "metadata": {},
          "execution_count": 21
        }
      ],
      "source": [
        "input_sets.keys()"
      ]
    },
    {
      "cell_type": "code",
      "execution_count": null,
      "metadata": {
        "id": "8k7dm9rYBJte"
      },
      "outputs": [],
      "source": [
        "ventana_prediccion = [30,15,5,1]\n",
        "factor_ventana_entrada = [0.5,1,2]\n",
        "num_neuronas_set = [50,100,150]\n",
        "batch_size_set = [50,100,150]\n",
        "num_layers_set = [1,2,3]"
      ]
    },
    {
      "cell_type": "code",
      "execution_count": null,
      "metadata": {
        "id": "iUpJEnKmDGSG"
      },
      "outputs": [],
      "source": [
        "from sklearn.preprocessing import MinMaxScaler\n",
        "scaler = MinMaxScaler()"
      ]
    },
    {
      "cell_type": "code",
      "execution_count": null,
      "metadata": {
        "id": "S6fnO_NcDVZX"
      },
      "outputs": [],
      "source": [
        "from keras.preprocessing.sequence import TimeseriesGenerator"
      ]
    },
    {
      "cell_type": "code",
      "execution_count": null,
      "metadata": {
        "id": "0hOL4Ep-EDvh"
      },
      "outputs": [],
      "source": [
        "from sklearn.preprocessing import MinMaxScaler\n",
        "from tensorflow.keras.models import Sequential\n",
        "from tensorflow.keras.layers import Dense,LSTM,Activation\n",
        "from tensorflow import keras\n",
        "import tensorflow as tf"
      ]
    },
    {
      "cell_type": "code",
      "execution_count": null,
      "metadata": {
        "id": "FH0mMiCsEAaG"
      },
      "outputs": [],
      "source": [
        "def create_Model(n_input, LSTM_neurons = 100, layers=3,n_features=0,n_output=1):\n",
        "  # define model\n",
        "  model = Sequential()\n",
        "  if(layers>1):\n",
        "    model.add(LSTM(LSTM_neurons, activation='relu', input_shape=(n_input, n_features+1),return_sequences=True))\n",
        "    for i in range(layers-2):\n",
        "        model.add(LSTM(LSTM_neurons, activation='relu',return_sequences=True))\n",
        "    model.add(LSTM(LSTM_neurons, activation='relu'))\n",
        "  else:\n",
        "    model.add(LSTM(LSTM_neurons, activation='relu', input_shape=(n_input, n_features+1)))\n",
        "  model.add(Dense(LSTM_neurons//2, activation='relu'))\n",
        "  model.add(Dense(n_output))\n",
        "  model.compile(optimizer='adam', loss='mse')\n",
        "  return model"
      ]
    },
    {
      "cell_type": "code",
      "execution_count": null,
      "metadata": {
        "id": "uENL9WskNyWU"
      },
      "outputs": [],
      "source": [
        "def get_XY(scaled_data,past_hours,prediction_window):\n",
        "  # Prepare the dataset with lagged features\n",
        "  X, y = [], []\n",
        "  n = past_hours\n",
        "  pw = prediction_window\n",
        "  for i in range(n, len(scaled_data)-pw):\n",
        "      X.append(scaled_data[i-n:i, :])  # Use predictor variables for each timestep\n",
        "      y.append(scaled_data[i:i+pw, 0])  # X0 is the target variable\n",
        "  X_train = np.array(X)\n",
        "  y_train = np.array(y)\n",
        "  X_train_flattened = X_train#.reshape(X_train.shape[0], -1)\n",
        "  y_train_flattened = y_train.reshape(y_train.shape[0], -1)\n",
        "  return X_train_flattened, y_train_flattened"
      ]
    },
    {
      "cell_type": "code",
      "execution_count": null,
      "metadata": {
        "id": "fpe0CauRYpfE"
      },
      "outputs": [],
      "source": [
        "combinaciones_anteriores = []"
      ]
    },
    {
      "cell_type": "code",
      "execution_count": null,
      "metadata": {
        "id": "U8hFSIUipIlV"
      },
      "outputs": [],
      "source": [
        "gsearch_path = os.path.join(folder_path, f'investigacion/grid_search/GS_LMST_m_deep_3F_W.txt')\n",
        "with open(gsearch_path,'r') as fp:\n",
        "    for line in fp:\n",
        "      combinaciones_anteriores.append(json.loads(line))"
      ]
    },
    {
      "cell_type": "code",
      "execution_count": null,
      "metadata": {
        "id": "e0_HWNOYo5Rs"
      },
      "outputs": [],
      "source": [
        "gsearch_path = os.path.join(folder_path, f'investigacion/grid_search/GS_LMST_m_deep_3F_VA.txt')\n",
        "with open(gsearch_path,'r') as fp:\n",
        "    for line in fp:\n",
        "      combinaciones_anteriores.append(json.loads(line))"
      ]
    },
    {
      "cell_type": "code",
      "execution_count": null,
      "metadata": {
        "id": "WsKIGSjyTv7s"
      },
      "outputs": [],
      "source": [
        "gsearch_path = os.path.join(folder_path, f'investigacion/grid_search/GS_LMST_m_deep_3F_factor.txt')\n",
        "with open(gsearch_path,'r') as fp:\n",
        "    for line in fp:\n",
        "      combinaciones_anteriores.append(json.loads(line))"
      ]
    },
    {
      "cell_type": "code",
      "execution_count": null,
      "metadata": {
        "colab": {
          "base_uri": "https://localhost:8080/"
        },
        "id": "PPC4FiP8pWoR",
        "outputId": "a8c66494-d1b7-4c4a-c98c-6165cc2335d8"
      },
      "outputs": [
        {
          "output_type": "execute_result",
          "data": {
            "text/plain": [
              "[{'RMSE': 135.99063649129303,\n",
              "  'Fuente': '3F_W',\n",
              "  'n_input': 2,\n",
              "  'n_output': 1,\n",
              "  'num_neuronas': 50,\n",
              "  'batch_size': 150,\n",
              "  'num_layers': 2,\n",
              "  'MSE': 18493.453213307002},\n",
              " {'RMSE': 129.3862796323938,\n",
              "  'Fuente': '3F_W',\n",
              "  'n_input': 2,\n",
              "  'n_output': 1,\n",
              "  'num_neuronas': 50,\n",
              "  'batch_size': 50,\n",
              "  'num_layers': 3,\n",
              "  'MSE': 16740.809357112004}]"
            ]
          },
          "metadata": {},
          "execution_count": 49
        }
      ],
      "source": [
        "combinaciones_anteriores[-2:]"
      ]
    },
    {
      "cell_type": "code",
      "execution_count": null,
      "metadata": {
        "id": "z9J_AWOvVs1k"
      },
      "outputs": [],
      "source": [
        "min_error = 1000000"
      ]
    },
    {
      "cell_type": "code",
      "execution_count": null,
      "metadata": {
        "id": "_DXPN-n-p_4u"
      },
      "outputs": [],
      "source": [
        "string_list = []"
      ]
    },
    {
      "cell_type": "code",
      "execution_count": null,
      "metadata": {
        "id": "nJu0xcgXCnUg"
      },
      "outputs": [],
      "source": [
        "last_result = combinaciones_anteriores[-1]"
      ]
    },
    {
      "cell_type": "code",
      "execution_count": null,
      "metadata": {
        "id": "fyjfMITEpiAe"
      },
      "outputs": [],
      "source": [
        "for result in combinaciones_anteriores:\n",
        "  current_string = ''\n",
        "  for key in result.keys():\n",
        "    if 'MSE' not in key:\n",
        "      current_string+=str(result[key])\n",
        "  string_list.append(current_string)\n",
        "  if (result['RMSE']<min_error and\n",
        "    result['n_output']==last_result['n_output'] and\n",
        "    result['Fuente']==last_result['Fuente']):\n",
        "    min_error = result['RMSE']"
      ]
    },
    {
      "cell_type": "code",
      "execution_count": null,
      "metadata": {
        "colab": {
          "base_uri": "https://localhost:8080/"
        },
        "id": "JlL05vPnp77K",
        "outputId": "1aa9e30b-94cd-4238-ddd9-0101d6cdb8c8"
      },
      "outputs": [
        {
          "output_type": "execute_result",
          "data": {
            "text/plain": [
              "['3F_W21501501', '3F_W2150502', '3F_W21501002', '3F_W21501502', '3F_W2150503']"
            ]
          },
          "metadata": {},
          "execution_count": 54
        }
      ],
      "source": [
        "string_list[-5:]"
      ]
    },
    {
      "cell_type": "code",
      "execution_count": null,
      "metadata": {
        "colab": {
          "base_uri": "https://localhost:8080/"
        },
        "id": "RsLdXvgZr8Ym",
        "outputId": "2f97ce0c-5c0a-4c69-8d86-a45eb7831486"
      },
      "outputs": [
        {
          "output_type": "execute_result",
          "data": {
            "text/plain": [
              "118.87095272662731"
            ]
          },
          "metadata": {},
          "execution_count": 55
        }
      ],
      "source": [
        "min_error"
      ]
    },
    {
      "cell_type": "code",
      "execution_count": null,
      "metadata": {
        "colab": {
          "base_uri": "https://localhost:8080/"
        },
        "id": "3egaLrSzsANL",
        "outputId": "21a65dcc-796b-4f22-d38c-26ee21dc8842"
      },
      "outputs": [
        {
          "output_type": "execute_result",
          "data": {
            "text/plain": [
              "dict_keys(['RMSE', 'Fuente', 'n_input', 'n_output', 'num_neuronas', 'batch_size', 'num_layers', 'MSE'])"
            ]
          },
          "metadata": {},
          "execution_count": 56
        }
      ],
      "source": [
        "result.keys()"
      ]
    },
    {
      "cell_type": "code",
      "execution_count": null,
      "metadata": {
        "id": "ezWtHDWmCcXb"
      },
      "outputs": [],
      "source": [
        "last_n_output=last_result['n_output']"
      ]
    },
    {
      "cell_type": "code",
      "source": [
        "last_iset = last_result['Fuente']"
      ],
      "metadata": {
        "id": "XgwTkwhEabyS"
      },
      "execution_count": null,
      "outputs": []
    },
    {
      "cell_type": "code",
      "execution_count": null,
      "metadata": {
        "id": "ERTDWxMtCjbw"
      },
      "outputs": [],
      "source": [
        "last_min_err = min_error"
      ]
    },
    {
      "cell_type": "code",
      "execution_count": null,
      "metadata": {
        "colab": {
          "base_uri": "https://localhost:8080/"
        },
        "id": "v9SwDb1HCpb4",
        "outputId": "3a8f8b8f-830d-409f-c901-1687ec3ae9d6"
      },
      "outputs": [
        {
          "output_type": "execute_result",
          "data": {
            "text/plain": [
              "118.87095272662731"
            ]
          },
          "metadata": {},
          "execution_count": 60
        }
      ],
      "source": [
        "last_min_err"
      ]
    },
    {
      "cell_type": "code",
      "execution_count": null,
      "metadata": {
        "colab": {
          "base_uri": "https://localhost:8080/"
        },
        "id": "GaIo9eto-JLm",
        "outputId": "7969c9ba-aac5-4017-8b84-749d534c0afc"
      },
      "outputs": [
        {
          "output_type": "stream",
          "name": "stdout",
          "text": [
            "Current options: 3F_W21501003\n",
            "{'RMSE': 128.3182476999661, 'Fuente': '3F_W', 'n_input': 2, 'n_output': 1, 'num_neuronas': 50, 'batch_size': 100, 'num_layers': 3, 'MSE': 16465.57269278985}\n",
            "Current options: 3F_W21501503\n",
            "{'RMSE': 142.75008107768673, 'Fuente': '3F_W', 'n_input': 2, 'n_output': 1, 'num_neuronas': 50, 'batch_size': 150, 'num_layers': 3, 'MSE': 20377.585647686137}\n",
            "Current options: 3F_W21100501\n",
            "BEST\n"
          ]
        },
        {
          "output_type": "stream",
          "name": "stderr",
          "text": [
            "/usr/local/lib/python3.10/dist-packages/keras/src/engine/training.py:3103: UserWarning: You are saving your model as an HDF5 file via `model.save()`. This file format is considered legacy. We recommend using instead the native Keras format, e.g. `model.save('my_model.keras')`.\n",
            "  saving_api.save_model(\n"
          ]
        },
        {
          "output_type": "stream",
          "name": "stdout",
          "text": [
            "{'RMSE': 118.3851641486515, 'Fuente': '3F_W', 'n_input': 2, 'n_output': 1, 'num_neuronas': 100, 'batch_size': 50, 'num_layers': 1, 'MSE': 14015.047090503162}\n",
            "Current options: 3F_W211001001\n",
            "{'RMSE': 121.89886744012917, 'Fuente': '3F_W', 'n_input': 2, 'n_output': 1, 'num_neuronas': 100, 'batch_size': 100, 'num_layers': 1, 'MSE': 14859.333883186184}\n",
            "Current options: 3F_W211001501\n",
            "{'RMSE': 129.6426161907509, 'Fuente': '3F_W', 'n_input': 2, 'n_output': 1, 'num_neuronas': 100, 'batch_size': 150, 'num_layers': 1, 'MSE': 16807.20793278235}\n",
            "Current options: 3F_W21100502\n",
            "BEST\n"
          ]
        },
        {
          "output_type": "stream",
          "name": "stderr",
          "text": [
            "/usr/local/lib/python3.10/dist-packages/keras/src/engine/training.py:3103: UserWarning: You are saving your model as an HDF5 file via `model.save()`. This file format is considered legacy. We recommend using instead the native Keras format, e.g. `model.save('my_model.keras')`.\n",
            "  saving_api.save_model(\n"
          ]
        },
        {
          "output_type": "stream",
          "name": "stdout",
          "text": [
            "{'RMSE': 117.46903838564198, 'Fuente': '3F_W', 'n_input': 2, 'n_output': 1, 'num_neuronas': 100, 'batch_size': 50, 'num_layers': 2, 'MSE': 13798.97497924743}\n",
            "Current options: 3F_W211001002\n",
            "{'RMSE': 117.95878816572134, 'Fuente': '3F_W', 'n_input': 2, 'n_output': 1, 'num_neuronas': 100, 'batch_size': 100, 'num_layers': 2, 'MSE': 13914.275705525522}\n",
            "Current options: 3F_W211001502\n",
            "{'RMSE': 126.78301043751357, 'Fuente': '3F_W', 'n_input': 2, 'n_output': 1, 'num_neuronas': 100, 'batch_size': 150, 'num_layers': 2, 'MSE': 16073.931735598673}\n",
            "Current options: 3F_W21100503\n",
            "BEST\n"
          ]
        },
        {
          "output_type": "stream",
          "name": "stderr",
          "text": [
            "/usr/local/lib/python3.10/dist-packages/keras/src/engine/training.py:3103: UserWarning: You are saving your model as an HDF5 file via `model.save()`. This file format is considered legacy. We recommend using instead the native Keras format, e.g. `model.save('my_model.keras')`.\n",
            "  saving_api.save_model(\n"
          ]
        },
        {
          "output_type": "stream",
          "name": "stdout",
          "text": [
            "{'RMSE': 116.06345408834856, 'Fuente': '3F_W', 'n_input': 2, 'n_output': 1, 'num_neuronas': 100, 'batch_size': 50, 'num_layers': 3, 'MSE': 13470.725374918196}\n",
            "Current options: 3F_W211001003\n",
            "{'RMSE': 126.25971124322867, 'Fuente': '3F_W', 'n_input': 2, 'n_output': 1, 'num_neuronas': 100, 'batch_size': 100, 'num_layers': 3, 'MSE': 15941.514683223482}\n",
            "Current options: 3F_W211001503\n",
            "{'RMSE': 131.0195028237375, 'Fuente': '3F_W', 'n_input': 2, 'n_output': 1, 'num_neuronas': 100, 'batch_size': 150, 'num_layers': 3, 'MSE': 17166.110120179357}\n",
            "Current options: 3F_W21150501\n",
            "{'RMSE': 116.28560016796554, 'Fuente': '3F_W', 'n_input': 2, 'n_output': 1, 'num_neuronas': 150, 'batch_size': 50, 'num_layers': 1, 'MSE': 13522.340806423947}\n",
            "Current options: 3F_W211501001\n",
            "BEST\n"
          ]
        },
        {
          "output_type": "stream",
          "name": "stderr",
          "text": [
            "/usr/local/lib/python3.10/dist-packages/keras/src/engine/training.py:3103: UserWarning: You are saving your model as an HDF5 file via `model.save()`. This file format is considered legacy. We recommend using instead the native Keras format, e.g. `model.save('my_model.keras')`.\n",
            "  saving_api.save_model(\n"
          ]
        },
        {
          "output_type": "stream",
          "name": "stdout",
          "text": [
            "{'RMSE': 115.6705305378259, 'Fuente': '3F_W', 'n_input': 2, 'n_output': 1, 'num_neuronas': 150, 'batch_size': 100, 'num_layers': 1, 'MSE': 13379.671634902114}\n",
            "Current options: 3F_W211501501\n",
            "{'RMSE': 121.40635645666568, 'Fuente': '3F_W', 'n_input': 2, 'n_output': 1, 'num_neuronas': 150, 'batch_size': 150, 'num_layers': 1, 'MSE': 14739.503388082969}\n",
            "Current options: 3F_W21150502\n",
            "{'RMSE': 119.04610073317987, 'Fuente': '3F_W', 'n_input': 2, 'n_output': 1, 'num_neuronas': 150, 'batch_size': 50, 'num_layers': 2, 'MSE': 14171.97409977441}\n",
            "Current options: 3F_W211501002\n",
            "{'RMSE': 116.69650123623816, 'Fuente': '3F_W', 'n_input': 2, 'n_output': 1, 'num_neuronas': 150, 'batch_size': 100, 'num_layers': 2, 'MSE': 13618.073400779334}\n",
            "Current options: 3F_W211501502\n",
            "{'RMSE': 132.96799634581637, 'Fuente': '3F_W', 'n_input': 2, 'n_output': 1, 'num_neuronas': 150, 'batch_size': 150, 'num_layers': 2, 'MSE': 17680.488052221033}\n",
            "Current options: 3F_W21150503\n",
            "BEST\n"
          ]
        },
        {
          "output_type": "stream",
          "name": "stderr",
          "text": [
            "/usr/local/lib/python3.10/dist-packages/keras/src/engine/training.py:3103: UserWarning: You are saving your model as an HDF5 file via `model.save()`. This file format is considered legacy. We recommend using instead the native Keras format, e.g. `model.save('my_model.keras')`.\n",
            "  saving_api.save_model(\n"
          ]
        },
        {
          "output_type": "stream",
          "name": "stdout",
          "text": [
            "{'RMSE': 113.93034836307737, 'Fuente': '3F_W', 'n_input': 2, 'n_output': 1, 'num_neuronas': 150, 'batch_size': 50, 'num_layers': 3, 'MSE': 12980.124278132167}\n",
            "Current options: 3F_W211501003\n",
            "{'RMSE': 123.74966301990571, 'Fuente': '3F_W', 'n_input': 2, 'n_output': 1, 'num_neuronas': 150, 'batch_size': 100, 'num_layers': 3, 'MSE': 15313.97909754022}\n",
            "Current options: 3F_W211501503\n",
            "{'RMSE': 146.26306580024092, 'Fuente': '3F_W', 'n_input': 2, 'n_output': 1, 'num_neuronas': 150, 'batch_size': 150, 'num_layers': 3, 'MSE': 21392.884417285608}\n",
            "Current options: 3F_VA1150501\n",
            "BEST\n",
            "{'RMSE': 118.57206583932563, 'Fuente': '3F_VA', 'n_input': 1, 'n_output': 1, 'num_neuronas': 50, 'batch_size': 50, 'num_layers': 1, 'MSE': 14059.334797405372}\n",
            "Current options: 3F_VA11501001\n"
          ]
        },
        {
          "output_type": "stream",
          "name": "stderr",
          "text": [
            "/usr/local/lib/python3.10/dist-packages/keras/src/engine/training.py:3103: UserWarning: You are saving your model as an HDF5 file via `model.save()`. This file format is considered legacy. We recommend using instead the native Keras format, e.g. `model.save('my_model.keras')`.\n",
            "  saving_api.save_model(\n"
          ]
        },
        {
          "output_type": "stream",
          "name": "stdout",
          "text": [
            "{'RMSE': 123.51721381983202, 'Fuente': '3F_VA', 'n_input': 1, 'n_output': 1, 'num_neuronas': 50, 'batch_size': 100, 'num_layers': 1, 'MSE': 15256.502109814102}\n",
            "Current options: 3F_VA11501501\n",
            "{'RMSE': 121.70851144990631, 'Fuente': '3F_VA', 'n_input': 1, 'n_output': 1, 'num_neuronas': 50, 'batch_size': 150, 'num_layers': 1, 'MSE': 14812.961759351974}\n",
            "Current options: 3F_VA1150502\n",
            "BEST\n"
          ]
        },
        {
          "output_type": "stream",
          "name": "stderr",
          "text": [
            "/usr/local/lib/python3.10/dist-packages/keras/src/engine/training.py:3103: UserWarning: You are saving your model as an HDF5 file via `model.save()`. This file format is considered legacy. We recommend using instead the native Keras format, e.g. `model.save('my_model.keras')`.\n",
            "  saving_api.save_model(\n"
          ]
        },
        {
          "output_type": "stream",
          "name": "stdout",
          "text": [
            "{'RMSE': 114.77185197195654, 'Fuente': '3F_VA', 'n_input': 1, 'n_output': 1, 'num_neuronas': 50, 'batch_size': 50, 'num_layers': 2, 'MSE': 13172.578005072703}\n",
            "Current options: 3F_VA11501002\n",
            "{'RMSE': 116.48727997149304, 'Fuente': '3F_VA', 'n_input': 1, 'n_output': 1, 'num_neuronas': 50, 'batch_size': 100, 'num_layers': 2, 'MSE': 13569.286395157002}\n",
            "Current options: 3F_VA11501502\n",
            "{'RMSE': 124.18232462145835, 'Fuente': '3F_VA', 'n_input': 1, 'n_output': 1, 'num_neuronas': 50, 'batch_size': 150, 'num_layers': 2, 'MSE': 15421.249748389262}\n",
            "Current options: 3F_VA1150503\n",
            "BEST\n"
          ]
        },
        {
          "output_type": "stream",
          "name": "stderr",
          "text": [
            "/usr/local/lib/python3.10/dist-packages/keras/src/engine/training.py:3103: UserWarning: You are saving your model as an HDF5 file via `model.save()`. This file format is considered legacy. We recommend using instead the native Keras format, e.g. `model.save('my_model.keras')`.\n",
            "  saving_api.save_model(\n"
          ]
        },
        {
          "output_type": "stream",
          "name": "stdout",
          "text": [
            "{'RMSE': 113.45765722587637, 'Fuente': '3F_VA', 'n_input': 1, 'n_output': 1, 'num_neuronas': 50, 'batch_size': 50, 'num_layers': 3, 'MSE': 12872.639983184457}\n",
            "Current options: 3F_VA11501003\n",
            "{'RMSE': 116.19167755656788, 'Fuente': '3F_VA', 'n_input': 1, 'n_output': 1, 'num_neuronas': 50, 'batch_size': 100, 'num_layers': 3, 'MSE': 13500.50593340944}\n",
            "Current options: 3F_VA11501503\n",
            "{'RMSE': 128.52532659516498, 'Fuente': '3F_VA', 'n_input': 1, 'n_output': 1, 'num_neuronas': 50, 'batch_size': 150, 'num_layers': 3, 'MSE': 16518.759576393822}\n",
            "Current options: 3F_VA11100501\n",
            "{'RMSE': 115.6273627196909, 'Fuente': '3F_VA', 'n_input': 1, 'n_output': 1, 'num_neuronas': 100, 'batch_size': 50, 'num_layers': 1, 'MSE': 13369.687009510963}\n",
            "Current options: 3F_VA111001001\n",
            "{'RMSE': 117.4671434478464, 'Fuente': '3F_VA', 'n_input': 1, 'n_output': 1, 'num_neuronas': 100, 'batch_size': 100, 'num_layers': 1, 'MSE': 13798.529789796923}\n",
            "Current options: 3F_VA111001501\n",
            "{'RMSE': 122.36519379425225, 'Fuente': '3F_VA', 'n_input': 1, 'n_output': 1, 'num_neuronas': 100, 'batch_size': 150, 'num_layers': 1, 'MSE': 14973.240652304909}\n",
            "Current options: 3F_VA11100502\n",
            "{'RMSE': 114.36748188614634, 'Fuente': '3F_VA', 'n_input': 1, 'n_output': 1, 'num_neuronas': 100, 'batch_size': 50, 'num_layers': 2, 'MSE': 13079.92091297801}\n",
            "Current options: 3F_VA111001002\n",
            "{'RMSE': 117.09814515043719, 'Fuente': '3F_VA', 'n_input': 1, 'n_output': 1, 'num_neuronas': 100, 'batch_size': 100, 'num_layers': 2, 'MSE': 13711.975597672856}\n",
            "Current options: 3F_VA111001502\n",
            "{'RMSE': 114.84644319218108, 'Fuente': '3F_VA', 'n_input': 1, 'n_output': 1, 'num_neuronas': 100, 'batch_size': 150, 'num_layers': 2, 'MSE': 13189.705513894878}\n",
            "Current options: 3F_VA11100503\n",
            "{'RMSE': 114.40519518944984, 'Fuente': '3F_VA', 'n_input': 1, 'n_output': 1, 'num_neuronas': 100, 'batch_size': 50, 'num_layers': 3, 'MSE': 13088.548686336118}\n",
            "Current options: 3F_VA111001003\n",
            "{'RMSE': 115.83510983751434, 'Fuente': '3F_VA', 'n_input': 1, 'n_output': 1, 'num_neuronas': 100, 'batch_size': 100, 'num_layers': 3, 'MSE': 13417.77267106901}\n",
            "Current options: 3F_VA111001503\n",
            "{'RMSE': 113.66623385452968, 'Fuente': '3F_VA', 'n_input': 1, 'n_output': 1, 'num_neuronas': 100, 'batch_size': 150, 'num_layers': 3, 'MSE': 12920.01271867263}\n",
            "Current options: 3F_VA11150501\n",
            "{'RMSE': 116.19909053169847, 'Fuente': '3F_VA', 'n_input': 1, 'n_output': 1, 'num_neuronas': 150, 'batch_size': 50, 'num_layers': 1, 'MSE': 13502.228640393858}\n",
            "Current options: 3F_VA111501001\n",
            "{'RMSE': 116.02408716500852, 'Fuente': '3F_VA', 'n_input': 1, 'n_output': 1, 'num_neuronas': 150, 'batch_size': 100, 'num_layers': 1, 'MSE': 13461.588802473494}\n",
            "Current options: 3F_VA111501501\n",
            "{'RMSE': 119.55185156959976, 'Fuente': '3F_VA', 'n_input': 1, 'n_output': 1, 'num_neuronas': 150, 'batch_size': 150, 'num_layers': 1, 'MSE': 14292.645213719614}\n",
            "Current options: 3F_VA11150502\n",
            "{'RMSE': 114.493875787875, 'Fuente': '3F_VA', 'n_input': 1, 'n_output': 1, 'num_neuronas': 150, 'batch_size': 50, 'num_layers': 2, 'MSE': 13108.847592929349}\n",
            "Current options: 3F_VA111501002\n",
            "BEST\n"
          ]
        },
        {
          "output_type": "stream",
          "name": "stderr",
          "text": [
            "/usr/local/lib/python3.10/dist-packages/keras/src/engine/training.py:3103: UserWarning: You are saving your model as an HDF5 file via `model.save()`. This file format is considered legacy. We recommend using instead the native Keras format, e.g. `model.save('my_model.keras')`.\n",
            "  saving_api.save_model(\n"
          ]
        },
        {
          "output_type": "stream",
          "name": "stdout",
          "text": [
            "{'RMSE': 113.1926382117291, 'Fuente': '3F_VA', 'n_input': 1, 'n_output': 1, 'num_neuronas': 150, 'batch_size': 100, 'num_layers': 2, 'MSE': 12812.573345331397}\n",
            "Current options: 3F_VA111501502\n",
            "{'RMSE': 116.53518377958211, 'Fuente': '3F_VA', 'n_input': 1, 'n_output': 1, 'num_neuronas': 150, 'batch_size': 150, 'num_layers': 2, 'MSE': 13580.449058540977}\n",
            "Current options: 3F_VA11150503\n",
            "{'RMSE': 113.96352726976839, 'Fuente': '3F_VA', 'n_input': 1, 'n_output': 1, 'num_neuronas': 150, 'batch_size': 50, 'num_layers': 3, 'MSE': 12987.685547767245}\n",
            "Current options: 3F_VA111501003\n",
            "BEST\n"
          ]
        },
        {
          "output_type": "stream",
          "name": "stderr",
          "text": [
            "/usr/local/lib/python3.10/dist-packages/keras/src/engine/training.py:3103: UserWarning: You are saving your model as an HDF5 file via `model.save()`. This file format is considered legacy. We recommend using instead the native Keras format, e.g. `model.save('my_model.keras')`.\n",
            "  saving_api.save_model(\n"
          ]
        },
        {
          "output_type": "stream",
          "name": "stdout",
          "text": [
            "{'RMSE': 112.6702912156249, 'Fuente': '3F_VA', 'n_input': 1, 'n_output': 1, 'num_neuronas': 150, 'batch_size': 100, 'num_layers': 3, 'MSE': 12694.594522613721}\n",
            "Current options: 3F_VA111501503\n",
            "{'RMSE': 116.25843630914822, 'Fuente': '3F_VA', 'n_input': 1, 'n_output': 1, 'num_neuronas': 150, 'batch_size': 150, 'num_layers': 3, 'MSE': 13516.024013048273}\n",
            "Current options: 3F_VA2150501\n",
            "{'RMSE': 119.74005022490722, 'Fuente': '3F_VA', 'n_input': 2, 'n_output': 1, 'num_neuronas': 50, 'batch_size': 50, 'num_layers': 1, 'MSE': 14337.679627863305}\n",
            "Current options: 3F_VA21501001\n",
            "{'RMSE': 113.8825967296541, 'Fuente': '3F_VA', 'n_input': 2, 'n_output': 1, 'num_neuronas': 50, 'batch_size': 100, 'num_layers': 1, 'MSE': 12969.24583788902}\n",
            "Current options: 3F_VA21501501\n",
            "{'RMSE': 123.67522990990922, 'Fuente': '3F_VA', 'n_input': 2, 'n_output': 1, 'num_neuronas': 50, 'batch_size': 150, 'num_layers': 1, 'MSE': 15295.562493268904}\n",
            "Current options: 3F_VA2150502\n",
            "{'RMSE': 114.88928583376668, 'Fuente': '3F_VA', 'n_input': 2, 'n_output': 1, 'num_neuronas': 50, 'batch_size': 50, 'num_layers': 2, 'MSE': 13199.54799939294}\n",
            "Current options: 3F_VA21501002\n",
            "{'RMSE': 114.70857627553671, 'Fuente': '3F_VA', 'n_input': 2, 'n_output': 1, 'num_neuronas': 50, 'batch_size': 100, 'num_layers': 2, 'MSE': 13158.057471160624}\n",
            "Current options: 3F_VA21501502\n",
            "{'RMSE': 129.6835401574439, 'Fuente': '3F_VA', 'n_input': 2, 'n_output': 1, 'num_neuronas': 50, 'batch_size': 150, 'num_layers': 2, 'MSE': 16817.820587767368}\n",
            "Current options: 3F_VA2150503\n",
            "{'RMSE': 121.96572399577406, 'Fuente': '3F_VA', 'n_input': 2, 'n_output': 1, 'num_neuronas': 50, 'batch_size': 50, 'num_layers': 3, 'MSE': 14875.637829813335}\n",
            "Current options: 3F_VA21501003\n",
            "{'RMSE': 121.19884029419448, 'Fuente': '3F_VA', 'n_input': 2, 'n_output': 1, 'num_neuronas': 50, 'batch_size': 100, 'num_layers': 3, 'MSE': 14689.158888657661}\n",
            "Current options: 3F_VA21501503\n",
            "{'RMSE': 150.19690807261165, 'Fuente': '3F_VA', 'n_input': 2, 'n_output': 1, 'num_neuronas': 50, 'batch_size': 150, 'num_layers': 3, 'MSE': 22559.111194572557}\n",
            "Current options: 3F_VA21100501\n",
            "{'RMSE': 122.06108363018457, 'Fuente': '3F_VA', 'n_input': 2, 'n_output': 1, 'num_neuronas': 100, 'batch_size': 50, 'num_layers': 1, 'MSE': 14898.908136974913}\n",
            "Current options: 3F_VA211001001\n",
            "{'RMSE': 116.22638990936925, 'Fuente': '3F_VA', 'n_input': 2, 'n_output': 1, 'num_neuronas': 100, 'batch_size': 100, 'num_layers': 1, 'MSE': 13508.57371136473}\n",
            "Current options: 3F_VA211001501\n",
            "BEST\n"
          ]
        },
        {
          "output_type": "stream",
          "name": "stderr",
          "text": [
            "/usr/local/lib/python3.10/dist-packages/keras/src/engine/training.py:3103: UserWarning: You are saving your model as an HDF5 file via `model.save()`. This file format is considered legacy. We recommend using instead the native Keras format, e.g. `model.save('my_model.keras')`.\n",
            "  saving_api.save_model(\n"
          ]
        },
        {
          "output_type": "stream",
          "name": "stdout",
          "text": [
            "{'RMSE': 109.2127644935194, 'Fuente': '3F_VA', 'n_input': 2, 'n_output': 1, 'num_neuronas': 100, 'batch_size': 150, 'num_layers': 1, 'MSE': 11927.42792831693}\n",
            "Current options: 3F_VA21100502\n",
            "BEST\n"
          ]
        },
        {
          "output_type": "stream",
          "name": "stderr",
          "text": [
            "/usr/local/lib/python3.10/dist-packages/keras/src/engine/training.py:3103: UserWarning: You are saving your model as an HDF5 file via `model.save()`. This file format is considered legacy. We recommend using instead the native Keras format, e.g. `model.save('my_model.keras')`.\n",
            "  saving_api.save_model(\n"
          ]
        },
        {
          "output_type": "stream",
          "name": "stdout",
          "text": [
            "{'RMSE': 103.33331680292986, 'Fuente': '3F_VA', 'n_input': 2, 'n_output': 1, 'num_neuronas': 100, 'batch_size': 50, 'num_layers': 2, 'MSE': 10677.774361494665}\n",
            "Current options: 3F_VA211001002\n",
            "{'RMSE': 108.86682647171595, 'Fuente': '3F_VA', 'n_input': 2, 'n_output': 1, 'num_neuronas': 100, 'batch_size': 100, 'num_layers': 2, 'MSE': 11851.985906022714}\n",
            "Current options: 3F_VA211001502\n",
            "{'RMSE': 126.82686395815155, 'Fuente': '3F_VA', 'n_input': 2, 'n_output': 1, 'num_neuronas': 100, 'batch_size': 150, 'num_layers': 2, 'MSE': 16085.05342145948}\n",
            "Current options: 3F_VA21100503\n",
            "{'RMSE': 106.66918635114594, 'Fuente': '3F_VA', 'n_input': 2, 'n_output': 1, 'num_neuronas': 100, 'batch_size': 50, 'num_layers': 3, 'MSE': 11378.3153168155}\n",
            "Current options: 3F_VA211001003\n",
            "{'RMSE': 126.4986348568135, 'Fuente': '3F_VA', 'n_input': 2, 'n_output': 1, 'num_neuronas': 100, 'batch_size': 100, 'num_layers': 3, 'MSE': 16001.90462063743}\n",
            "Current options: 3F_VA211001503\n",
            "{'RMSE': 125.41828788365483, 'Fuente': '3F_VA', 'n_input': 2, 'n_output': 1, 'num_neuronas': 100, 'batch_size': 150, 'num_layers': 3, 'MSE': 15729.746935667321}\n",
            "Current options: 3F_VA21150501\n",
            "{'RMSE': 110.25926332214034, 'Fuente': '3F_VA', 'n_input': 2, 'n_output': 1, 'num_neuronas': 150, 'batch_size': 50, 'num_layers': 1, 'MSE': 12157.105148341083}\n",
            "Current options: 3F_VA211501001\n",
            "{'RMSE': 108.26008519065375, 'Fuente': '3F_VA', 'n_input': 2, 'n_output': 1, 'num_neuronas': 150, 'batch_size': 100, 'num_layers': 1, 'MSE': 11720.246045487607}\n",
            "Current options: 3F_VA211501501\n",
            "{'RMSE': 111.79611001671402, 'Fuente': '3F_VA', 'n_input': 2, 'n_output': 1, 'num_neuronas': 150, 'batch_size': 150, 'num_layers': 1, 'MSE': 12498.370214869225}\n",
            "Current options: 3F_VA21150502\n",
            "BEST\n"
          ]
        },
        {
          "output_type": "stream",
          "name": "stderr",
          "text": [
            "/usr/local/lib/python3.10/dist-packages/keras/src/engine/training.py:3103: UserWarning: You are saving your model as an HDF5 file via `model.save()`. This file format is considered legacy. We recommend using instead the native Keras format, e.g. `model.save('my_model.keras')`.\n",
            "  saving_api.save_model(\n"
          ]
        },
        {
          "output_type": "stream",
          "name": "stdout",
          "text": [
            "{'RMSE': 101.47721847343783, 'Fuente': '3F_VA', 'n_input': 2, 'n_output': 1, 'num_neuronas': 150, 'batch_size': 50, 'num_layers': 2, 'MSE': 10297.625869105832}\n",
            "Current options: 3F_VA211501002\n",
            "{'RMSE': 113.15438698086288, 'Fuente': '3F_VA', 'n_input': 2, 'n_output': 1, 'num_neuronas': 150, 'batch_size': 100, 'num_layers': 2, 'MSE': 12803.915293014872}\n",
            "Current options: 3F_VA211501502\n",
            "{'RMSE': 109.9303896431643, 'Fuente': '3F_VA', 'n_input': 2, 'n_output': 1, 'num_neuronas': 150, 'batch_size': 150, 'num_layers': 2, 'MSE': 12084.690567097925}\n",
            "Current options: 3F_VA21150503\n",
            "{'RMSE': 104.56079800067832, 'Fuente': '3F_VA', 'n_input': 2, 'n_output': 1, 'num_neuronas': 150, 'batch_size': 50, 'num_layers': 3, 'MSE': 10932.960478538656}\n",
            "Current options: 3F_VA211501003\n",
            "{'RMSE': 120.00352520848432, 'Fuente': '3F_VA', 'n_input': 2, 'n_output': 1, 'num_neuronas': 150, 'batch_size': 100, 'num_layers': 3, 'MSE': 14400.846062463332}\n",
            "Current options: 3F_VA211501503\n",
            "{'RMSE': 115.29837054714538, 'Fuente': '3F_VA', 'n_input': 2, 'n_output': 1, 'num_neuronas': 150, 'batch_size': 150, 'num_layers': 3, 'MSE': 13293.71425082684}\n",
            "Current options: 3F_factor1150501\n",
            "BEST\n",
            "{'RMSE': 0.038061974007765786, 'Fuente': '3F_factor', 'n_input': 1, 'n_output': 1, 'num_neuronas': 50, 'batch_size': 50, 'num_layers': 1, 'MSE': 0.0014487138653678383}\n",
            "Current options: 3F_factor11501001\n"
          ]
        },
        {
          "output_type": "stream",
          "name": "stderr",
          "text": [
            "/usr/local/lib/python3.10/dist-packages/keras/src/engine/training.py:3103: UserWarning: You are saving your model as an HDF5 file via `model.save()`. This file format is considered legacy. We recommend using instead the native Keras format, e.g. `model.save('my_model.keras')`.\n",
            "  saving_api.save_model(\n"
          ]
        },
        {
          "output_type": "stream",
          "name": "stdout",
          "text": [
            "{'RMSE': 0.03916608474835523, 'Fuente': '3F_factor', 'n_input': 1, 'n_output': 1, 'num_neuronas': 50, 'batch_size': 100, 'num_layers': 1, 'MSE': 0.0015339821945153443}\n",
            "Current options: 3F_factor11501501\n",
            "BEST\n",
            "{'RMSE': 0.03657151579773646, 'Fuente': '3F_factor', 'n_input': 1, 'n_output': 1, 'num_neuronas': 50, 'batch_size': 150, 'num_layers': 1, 'MSE': 0.0013374757677440874}\n",
            "Current options: 3F_factor1150502\n"
          ]
        },
        {
          "output_type": "stream",
          "name": "stderr",
          "text": [
            "/usr/local/lib/python3.10/dist-packages/keras/src/engine/training.py:3103: UserWarning: You are saving your model as an HDF5 file via `model.save()`. This file format is considered legacy. We recommend using instead the native Keras format, e.g. `model.save('my_model.keras')`.\n",
            "  saving_api.save_model(\n"
          ]
        },
        {
          "output_type": "stream",
          "name": "stdout",
          "text": [
            "BEST\n"
          ]
        },
        {
          "output_type": "stream",
          "name": "stderr",
          "text": [
            "/usr/local/lib/python3.10/dist-packages/keras/src/engine/training.py:3103: UserWarning: You are saving your model as an HDF5 file via `model.save()`. This file format is considered legacy. We recommend using instead the native Keras format, e.g. `model.save('my_model.keras')`.\n",
            "  saving_api.save_model(\n"
          ]
        },
        {
          "output_type": "stream",
          "name": "stdout",
          "text": [
            "{'RMSE': 0.03399655998906475, 'Fuente': '3F_factor', 'n_input': 1, 'n_output': 1, 'num_neuronas': 50, 'batch_size': 50, 'num_layers': 2, 'MSE': 0.0011557660910900783}\n",
            "Current options: 3F_factor11501002\n",
            "{'RMSE': 0.04042229474413895, 'Fuente': '3F_factor', 'n_input': 1, 'n_output': 1, 'num_neuronas': 50, 'batch_size': 100, 'num_layers': 2, 'MSE': 0.0016339619123820434}\n",
            "Current options: 3F_factor11501502\n",
            "{'RMSE': 0.04047714585418697, 'Fuente': '3F_factor', 'n_input': 1, 'n_output': 1, 'num_neuronas': 50, 'batch_size': 150, 'num_layers': 2, 'MSE': 0.0016383993365011256}\n",
            "Current options: 3F_factor1150503\n",
            "{'RMSE': 0.037552474159719164, 'Fuente': '3F_factor', 'n_input': 1, 'n_output': 1, 'num_neuronas': 50, 'batch_size': 50, 'num_layers': 3, 'MSE': 0.0014101883155163755}\n",
            "Current options: 3F_factor11501003\n",
            "{'RMSE': 0.04195902861183811, 'Fuente': '3F_factor', 'n_input': 1, 'n_output': 1, 'num_neuronas': 50, 'batch_size': 100, 'num_layers': 3, 'MSE': 0.0017605600820490494}\n",
            "Current options: 3F_factor11501503\n",
            "{'RMSE': 0.04174001026858899, 'Fuente': '3F_factor', 'n_input': 1, 'n_output': 1, 'num_neuronas': 50, 'batch_size': 150, 'num_layers': 3, 'MSE': 0.0017422284572219148}\n",
            "Current options: 3F_factor11100501\n",
            "{'RMSE': 0.03581093982946013, 'Fuente': '3F_factor', 'n_input': 1, 'n_output': 1, 'num_neuronas': 100, 'batch_size': 50, 'num_layers': 1, 'MSE': 0.001282423411469214}\n",
            "Current options: 3F_factor111001001\n",
            "{'RMSE': 0.03624306436325113, 'Fuente': '3F_factor', 'n_input': 1, 'n_output': 1, 'num_neuronas': 100, 'batch_size': 100, 'num_layers': 1, 'MSE': 0.001313559714438764}\n",
            "Current options: 3F_factor111001501\n",
            "{'RMSE': 0.035577770118404996, 'Fuente': '3F_factor', 'n_input': 1, 'n_output': 1, 'num_neuronas': 100, 'batch_size': 150, 'num_layers': 1, 'MSE': 0.0012657777265980715}\n",
            "Current options: 3F_factor11100502\n",
            "BEST\n"
          ]
        },
        {
          "output_type": "stream",
          "name": "stderr",
          "text": [
            "/usr/local/lib/python3.10/dist-packages/keras/src/engine/training.py:3103: UserWarning: You are saving your model as an HDF5 file via `model.save()`. This file format is considered legacy. We recommend using instead the native Keras format, e.g. `model.save('my_model.keras')`.\n",
            "  saving_api.save_model(\n"
          ]
        },
        {
          "output_type": "stream",
          "name": "stdout",
          "text": [
            "{'RMSE': 0.03138614860950985, 'Fuente': '3F_factor', 'n_input': 1, 'n_output': 1, 'num_neuronas': 100, 'batch_size': 50, 'num_layers': 2, 'MSE': 0.000985090324538237}\n",
            "Current options: 3F_factor111001002\n",
            "{'RMSE': 0.04025653282819439, 'Fuente': '3F_factor', 'n_input': 1, 'n_output': 1, 'num_neuronas': 100, 'batch_size': 100, 'num_layers': 2, 'MSE': 0.0016205884353474927}\n",
            "Current options: 3F_factor111001502\n",
            "{'RMSE': 0.04070305562238742, 'Fuente': '3F_factor', 'n_input': 1, 'n_output': 1, 'num_neuronas': 100, 'batch_size': 150, 'num_layers': 2, 'MSE': 0.0016567387369991642}\n",
            "Current options: 3F_factor11100503\n",
            "BEST\n"
          ]
        },
        {
          "output_type": "stream",
          "name": "stderr",
          "text": [
            "/usr/local/lib/python3.10/dist-packages/keras/src/engine/training.py:3103: UserWarning: You are saving your model as an HDF5 file via `model.save()`. This file format is considered legacy. We recommend using instead the native Keras format, e.g. `model.save('my_model.keras')`.\n",
            "  saving_api.save_model(\n"
          ]
        },
        {
          "output_type": "stream",
          "name": "stdout",
          "text": [
            "{'RMSE': 0.02792459514936294, 'Fuente': '3F_factor', 'n_input': 1, 'n_output': 1, 'num_neuronas': 100, 'batch_size': 50, 'num_layers': 3, 'MSE': 0.0007797830142558241}\n",
            "Current options: 3F_factor111001003\n",
            "{'RMSE': 0.04097002644288425, 'Fuente': '3F_factor', 'n_input': 1, 'n_output': 1, 'num_neuronas': 100, 'batch_size': 100, 'num_layers': 3, 'MSE': 0.0016785430667306347}\n",
            "Current options: 3F_factor111001503\n",
            "{'RMSE': 0.04172675311593836, 'Fuente': '3F_factor', 'n_input': 1, 'n_output': 1, 'num_neuronas': 100, 'batch_size': 150, 'num_layers': 3, 'MSE': 0.0017411219255984718}\n",
            "Current options: 3F_factor11150501\n",
            "{'RMSE': 0.03167055560123914, 'Fuente': '3F_factor', 'n_input': 1, 'n_output': 1, 'num_neuronas': 150, 'batch_size': 50, 'num_layers': 1, 'MSE': 0.0010030240920911797}\n",
            "Current options: 3F_factor111501001\n",
            "{'RMSE': 0.034094011467901766, 'Fuente': '3F_factor', 'n_input': 1, 'n_output': 1, 'num_neuronas': 150, 'batch_size': 100, 'num_layers': 1, 'MSE': 0.001162401617973417}\n",
            "Current options: 3F_factor111501501\n",
            "{'RMSE': 0.03533675160525294, 'Fuente': '3F_factor', 'n_input': 1, 'n_output': 1, 'num_neuronas': 150, 'batch_size': 150, 'num_layers': 1, 'MSE': 0.0012486860140113458}\n",
            "Current options: 3F_factor11150502\n",
            "{'RMSE': 0.03252021904380467, 'Fuente': '3F_factor', 'n_input': 1, 'n_output': 1, 'num_neuronas': 150, 'batch_size': 50, 'num_layers': 2, 'MSE': 0.001057564646657036}\n",
            "Current options: 3F_factor111501002\n",
            "{'RMSE': 0.03697905395625885, 'Fuente': '3F_factor', 'n_input': 1, 'n_output': 1, 'num_neuronas': 150, 'batch_size': 100, 'num_layers': 2, 'MSE': 0.001367450431499903}\n",
            "Current options: 3F_factor111501502\n",
            "{'RMSE': 0.038394577659235415, 'Fuente': '3F_factor', 'n_input': 1, 'n_output': 1, 'num_neuronas': 150, 'batch_size': 150, 'num_layers': 2, 'MSE': 0.0014741435936310593}\n",
            "Current options: 3F_factor11150503\n",
            "{'RMSE': 0.032082216735745454, 'Fuente': '3F_factor', 'n_input': 1, 'n_output': 1, 'num_neuronas': 150, 'batch_size': 50, 'num_layers': 3, 'MSE': 0.0010292686306793456}\n",
            "Current options: 3F_factor111501003\n",
            "{'RMSE': 0.039405362702727376, 'Fuente': '3F_factor', 'n_input': 1, 'n_output': 1, 'num_neuronas': 150, 'batch_size': 100, 'num_layers': 3, 'MSE': 0.0015527826097334976}\n",
            "Current options: 3F_factor111501503\n",
            "{'RMSE': 0.04076722659061525, 'Fuente': '3F_factor', 'n_input': 1, 'n_output': 1, 'num_neuronas': 150, 'batch_size': 150, 'num_layers': 3, 'MSE': 0.001661966763890567}\n",
            "Current options: 3F_factor2150501\n",
            "{'RMSE': 0.036214421675620466, 'Fuente': '3F_factor', 'n_input': 2, 'n_output': 1, 'num_neuronas': 50, 'batch_size': 50, 'num_layers': 1, 'MSE': 0.0013114843372996493}\n",
            "Current options: 3F_factor21501001\n",
            "{'RMSE': 0.031555623994225616, 'Fuente': '3F_factor', 'n_input': 2, 'n_output': 1, 'num_neuronas': 50, 'batch_size': 100, 'num_layers': 1, 'MSE': 0.0009957574056649473}\n",
            "Current options: 3F_factor21501501\n",
            "{'RMSE': 0.034336475513445236, 'Fuente': '3F_factor', 'n_input': 2, 'n_output': 1, 'num_neuronas': 50, 'batch_size': 150, 'num_layers': 1, 'MSE': 0.0011789935506854245}\n",
            "Current options: 3F_factor2150502\n",
            "{'RMSE': 0.030943148325447912, 'Fuente': '3F_factor', 'n_input': 2, 'n_output': 1, 'num_neuronas': 50, 'batch_size': 50, 'num_layers': 2, 'MSE': 0.0009574784282906699}\n",
            "Current options: 3F_factor21501002\n",
            "{'RMSE': 0.035631805703190675, 'Fuente': '3F_factor', 'n_input': 2, 'n_output': 1, 'num_neuronas': 50, 'batch_size': 100, 'num_layers': 2, 'MSE': 0.0012696255776699316}\n",
            "Current options: 3F_factor21501502\n",
            "{'RMSE': 0.037590679036488675, 'Fuente': '3F_factor', 'n_input': 2, 'n_output': 1, 'num_neuronas': 50, 'batch_size': 150, 'num_layers': 2, 'MSE': 0.001413059150424309}\n",
            "Current options: 3F_factor2150503\n",
            "{'RMSE': 0.031803799388691725, 'Fuente': '3F_factor', 'n_input': 2, 'n_output': 1, 'num_neuronas': 50, 'batch_size': 50, 'num_layers': 3, 'MSE': 0.001011481655556148}\n",
            "Current options: 3F_factor21501003\n",
            "{'RMSE': 0.040036261395795414, 'Fuente': '3F_factor', 'n_input': 2, 'n_output': 1, 'num_neuronas': 50, 'batch_size': 100, 'num_layers': 3, 'MSE': 0.001602902226552458}\n",
            "Current options: 3F_factor21501503\n",
            "{'RMSE': 0.04041316032617731, 'Fuente': '3F_factor', 'n_input': 2, 'n_output': 1, 'num_neuronas': 50, 'batch_size': 150, 'num_layers': 3, 'MSE': 0.0016332235275493118}\n",
            "Current options: 3F_factor21100501\n",
            "{'RMSE': 0.030892625579047057, 'Fuente': '3F_factor', 'n_input': 2, 'n_output': 1, 'num_neuronas': 100, 'batch_size': 50, 'num_layers': 1, 'MSE': 0.0009543543151671924}\n",
            "Current options: 3F_factor211001001\n",
            "{'RMSE': 0.03150087837021122, 'Fuente': '3F_factor', 'n_input': 2, 'n_output': 1, 'num_neuronas': 100, 'batch_size': 100, 'num_layers': 1, 'MSE': 0.000992305338094841}\n",
            "Current options: 3F_factor211001501\n",
            "{'RMSE': 0.0341060368718558, 'Fuente': '3F_factor', 'n_input': 2, 'n_output': 1, 'num_neuronas': 100, 'batch_size': 150, 'num_layers': 1, 'MSE': 0.0011632217511043875}\n",
            "Current options: 3F_factor21100502\n",
            "{'RMSE': 0.03055066834929927, 'Fuente': '3F_factor', 'n_input': 2, 'n_output': 1, 'num_neuronas': 100, 'batch_size': 50, 'num_layers': 2, 'MSE': 0.0009333433365888762}\n",
            "Current options: 3F_factor211001002\n",
            "{'RMSE': 0.03388003601963954, 'Fuente': '3F_factor', 'n_input': 2, 'n_output': 1, 'num_neuronas': 100, 'batch_size': 100, 'num_layers': 2, 'MSE': 0.0011478568406920729}\n",
            "Current options: 3F_factor211001502\n",
            "{'RMSE': 0.035555291671045895, 'Fuente': '3F_factor', 'n_input': 2, 'n_output': 1, 'num_neuronas': 100, 'batch_size': 150, 'num_layers': 2, 'MSE': 0.0012641787658131455}\n",
            "Current options: 3F_factor21100503\n",
            "{'RMSE': 0.03136050297567794, 'Fuente': '3F_factor', 'n_input': 2, 'n_output': 1, 'num_neuronas': 100, 'batch_size': 50, 'num_layers': 3, 'MSE': 0.0009834811468875048}\n",
            "Current options: 3F_factor211001003\n",
            "{'RMSE': 0.03345862134176844, 'Fuente': '3F_factor', 'n_input': 2, 'n_output': 1, 'num_neuronas': 100, 'batch_size': 100, 'num_layers': 3, 'MSE': 0.0011194793420918425}\n",
            "Current options: 3F_factor211001503\n",
            "{'RMSE': 0.040179253752415905, 'Fuente': '3F_factor', 'n_input': 2, 'n_output': 1, 'num_neuronas': 100, 'batch_size': 150, 'num_layers': 3, 'MSE': 0.0016143724321010275}\n",
            "Current options: 3F_factor21150501\n",
            "{'RMSE': 0.02838648567916245, 'Fuente': '3F_factor', 'n_input': 2, 'n_output': 1, 'num_neuronas': 150, 'batch_size': 50, 'num_layers': 1, 'MSE': 0.000805792569213295}\n",
            "Current options: 3F_factor211501001\n",
            "{'RMSE': 0.029710392658244024, 'Fuente': '3F_factor', 'n_input': 2, 'n_output': 1, 'num_neuronas': 150, 'batch_size': 100, 'num_layers': 1, 'MSE': 0.0008827074319070405}\n",
            "Current options: 3F_factor211501501\n",
            "{'RMSE': 0.031334494257857386, 'Fuente': '3F_factor', 'n_input': 2, 'n_output': 1, 'num_neuronas': 150, 'batch_size': 150, 'num_layers': 1, 'MSE': 0.0009818505303956975}\n",
            "Current options: 3F_factor21150502\n",
            "{'RMSE': 0.028632691760171358, 'Fuente': '3F_factor', 'n_input': 2, 'n_output': 1, 'num_neuronas': 150, 'batch_size': 50, 'num_layers': 2, 'MSE': 0.0008198310374329847}\n",
            "Current options: 3F_factor211501002\n",
            "{'RMSE': 0.03382222920498458, 'Fuente': '3F_factor', 'n_input': 2, 'n_output': 1, 'num_neuronas': 150, 'batch_size': 100, 'num_layers': 2, 'MSE': 0.0011439431883945117}\n",
            "Current options: 3F_factor211501502\n",
            "{'RMSE': 0.035496054978105464, 'Fuente': '3F_factor', 'n_input': 2, 'n_output': 1, 'num_neuronas': 150, 'batch_size': 150, 'num_layers': 2, 'MSE': 0.0012599699190086859}\n",
            "Current options: 3F_factor21150503\n",
            "{'RMSE': 0.031157710856314382, 'Fuente': '3F_factor', 'n_input': 2, 'n_output': 1, 'num_neuronas': 150, 'batch_size': 50, 'num_layers': 3, 'MSE': 0.000970802945805691}\n",
            "Current options: 3F_factor211501003\n",
            "{'RMSE': 0.03419654747268738, 'Fuente': '3F_factor', 'n_input': 2, 'n_output': 1, 'num_neuronas': 150, 'batch_size': 100, 'num_layers': 3, 'MSE': 0.0011694038590517616}\n",
            "Current options: 3F_factor211501503\n",
            "{'RMSE': 0.03947329175165059, 'Fuente': '3F_factor', 'n_input': 2, 'n_output': 1, 'num_neuronas': 150, 'batch_size': 150, 'num_layers': 3, 'MSE': 0.0015581407617109265}\n"
          ]
        }
      ],
      "source": [
        "for input_set in input_sets.keys():\n",
        "  df_train_i = df_train[input_sets[input_set]].copy()\n",
        "  df_val_i = df_val[input_sets[input_set]].copy()\n",
        "  # scaled data\n",
        "  scaler.fit(df_train_i)\n",
        "  scaled_train = scaler.transform(df_train_i)\n",
        "  scaled_val = scaler.transform(df_val_i)\n",
        "  # prediction window\n",
        "  for pw in ventana_prediccion:\n",
        "    n_output = pw\n",
        "    if(last_n_output != n_output or input_set != last_iset):\n",
        "      min_error = 100000 # hay que mejorar\n",
        "    else:\n",
        "      min_error = last_min_err\n",
        "\n",
        "    for fi in factor_ventana_entrada:\n",
        "      n_input = int(fi*pw)\n",
        "      if(n_input<1):\n",
        "        continue\n",
        "      n_features = len(df_train_i.columns)-1\n",
        "      for num_neuronas in num_neuronas_set:\n",
        "        for num_layers in num_layers_set:\n",
        "          for batch_size in batch_size_set:\n",
        "            if(str(input_set)+str(n_input)+str(n_output)+str(num_neuronas)+str(batch_size)+str(num_layers)\n",
        "               in string_list):\n",
        "              continue\n",
        "            print(\"Current options: \"+str(input_set)+str(n_input)+str(n_output)+str(num_neuronas)+str(batch_size)+str(num_layers))\n",
        "            X_train, y_train = get_XY(scaled_train,past_hours=n_input,prediction_window=n_output)\n",
        "            model = create_Model(n_input,LSTM_neurons=num_neuronas,layers=num_layers,n_features=n_features,n_output=n_output)\n",
        "            model.fit(X_train,y_train,epochs=10,verbose=False,batch_size=batch_size)\n",
        "\n",
        "            X_val, y_val = get_XY(scaled_val,past_hours=n_input,prediction_window=n_output)\n",
        "            predictions = model.predict(X_val,verbose=False)\n",
        "\n",
        "            flatten_y = y_val.flatten()\n",
        "            flatten_pred = predictions.flatten()\n",
        "\n",
        "            true_y = np.zeros(shape=(len(flatten_pred), 1+n_features))\n",
        "            true_y[:,0] = flatten_y\n",
        "            true_y = scaler.inverse_transform(true_y)\n",
        "            true_pred = np.zeros(shape=(len(flatten_pred), 1+n_features))\n",
        "            true_pred[:,0] = flatten_pred\n",
        "            true_pred = scaler.inverse_transform(true_pred)\n",
        "            errorMSE = mean_squared_error(true_y[:,0],true_pred[:,0])\n",
        "            errorRMSE = np.sqrt(errorMSE)\n",
        "            if (errorRMSE < min_error):\n",
        "              min_error = errorRMSE\n",
        "              last_min_err = min_error\n",
        "              print('BEST')\n",
        "              model_path = os.path.join(folder_path, f'investigacion/grid_search/LSTM_deep_model_{input_set}_pw{n_output}.h5')\n",
        "              model.save(model_path)\n",
        "            resultado = {\n",
        "                'RMSE':errorRMSE,\n",
        "                'Fuente':input_set,\n",
        "                'n_input':n_input,\n",
        "                'n_output':n_output,\n",
        "                'num_neuronas':num_neuronas,\n",
        "                'batch_size':batch_size,\n",
        "                'num_layers': num_layers,\n",
        "                'MSE':errorMSE,\n",
        "            }\n",
        "            print(resultado)\n",
        "            gsearch_path = os.path.join(folder_path, f'investigacion/grid_search/GS_LMST_m_deep_{input_set}.txt')\n",
        "            with open(gsearch_path,\"a\") as file:\n",
        "              resultado = json.dumps(resultado)\n",
        "              file.write(resultado)\n",
        "              file.write('\\n')\n"
      ]
    },
    {
      "cell_type": "code",
      "execution_count": null,
      "metadata": {
        "id": "bnfTVvXDsuKL"
      },
      "outputs": [],
      "source": []
    },
    {
      "cell_type": "code",
      "execution_count": null,
      "metadata": {
        "id": "EfFY1NzYWuBT"
      },
      "outputs": [],
      "source": [
        "min_error"
      ]
    },
    {
      "cell_type": "code",
      "execution_count": null,
      "metadata": {
        "id": "Yq0RjjaCXPWP"
      },
      "outputs": [],
      "source": [
        "errorRMSE"
      ]
    },
    {
      "cell_type": "code",
      "execution_count": null,
      "metadata": {
        "id": "p_e3pEtdVEgb"
      },
      "outputs": [],
      "source": [
        "y_val.shape"
      ]
    },
    {
      "cell_type": "code",
      "execution_count": null,
      "metadata": {
        "id": "Ca1JnOllRJCC"
      },
      "outputs": [],
      "source": [
        "predictions.shape"
      ]
    },
    {
      "cell_type": "code",
      "execution_count": null,
      "metadata": {
        "id": "KvyKrfy4SReE"
      },
      "outputs": [],
      "source": [
        "predictions[:2]"
      ]
    },
    {
      "cell_type": "code",
      "execution_count": null,
      "metadata": {
        "id": "LmkM7Q8jTvZP"
      },
      "outputs": [],
      "source": [
        "predictions.flatten()[:11]"
      ]
    },
    {
      "cell_type": "code",
      "execution_count": null,
      "metadata": {
        "id": "A02P0ILLRw1q"
      },
      "outputs": [],
      "source": [
        "len(y_val)"
      ]
    },
    {
      "cell_type": "code",
      "execution_count": null,
      "metadata": {
        "id": "eK5OPYu2TUsn"
      },
      "outputs": [],
      "source": [
        "y_val_narray = np.array(y_val)"
      ]
    },
    {
      "cell_type": "code",
      "execution_count": null,
      "metadata": {
        "id": "L5YL6UqnThOo"
      },
      "outputs": [],
      "source": [
        "y_val[:2]"
      ]
    },
    {
      "cell_type": "code",
      "execution_count": null,
      "metadata": {
        "id": "ivrKCKLgTQjq"
      },
      "outputs": [],
      "source": [
        "y_val_narray.flatten()[:10]"
      ]
    },
    {
      "cell_type": "code",
      "execution_count": null,
      "metadata": {
        "id": "WZ2DjW67SRLz"
      },
      "outputs": [],
      "source": [
        "y_val[0]"
      ]
    },
    {
      "cell_type": "code",
      "execution_count": null,
      "metadata": {
        "id": "OHkmFxxfQ1sQ"
      },
      "outputs": [],
      "source": [
        "model.summary()"
      ]
    },
    {
      "cell_type": "code",
      "execution_count": null,
      "metadata": {
        "id": "2VDEUCJqGCyI"
      },
      "outputs": [],
      "source": []
    }
  ],
  "metadata": {
    "colab": {
      "provenance": []
    },
    "kernelspec": {
      "display_name": "Python 3",
      "name": "python3"
    },
    "language_info": {
      "name": "python"
    }
  },
  "nbformat": 4,
  "nbformat_minor": 0
}