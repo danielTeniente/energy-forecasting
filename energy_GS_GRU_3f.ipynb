{
  "cells": [
    {
      "cell_type": "markdown",
      "metadata": {
        "id": "ud1O2XCGNR_7"
      },
      "source": [
        "# LSTM Clásico"
      ]
    },
    {
      "cell_type": "code",
      "execution_count": null,
      "metadata": {
        "id": "mPgtP8wT6p7W"
      },
      "outputs": [],
      "source": [
        "import numpy as np\n",
        "from sklearn.model_selection import train_test_split\n",
        "from sklearn.ensemble import ExtraTreesRegressor\n",
        "from sklearn.preprocessing import MinMaxScaler\n",
        "import pandas as pd\n",
        "from sklearn.metrics import mean_squared_error, r2_score, mean_absolute_error\n",
        "import json\n",
        "import matplotlib.pyplot as plt\n",
        "\n",
        "import os"
      ]
    },
    {
      "cell_type": "code",
      "execution_count": null,
      "metadata": {
        "colab": {
          "base_uri": "https://localhost:8080/"
        },
        "id": "wX5zyKDVAXdn",
        "outputId": "c403e4a7-585e-492b-db20-7929847c7e39"
      },
      "outputs": [
        {
          "output_type": "stream",
          "name": "stdout",
          "text": [
            "2.15.0\n"
          ]
        }
      ],
      "source": [
        "import tensorflow as tf\n",
        "from tensorflow import keras\n",
        "\n",
        "print(tf.version.VERSION)"
      ]
    },
    {
      "cell_type": "code",
      "execution_count": null,
      "metadata": {
        "id": "yuxaN8xD8t5Y"
      },
      "outputs": [],
      "source": [
        "# Replace 'your_folder_path' with the actual path to your folder containing text files\n",
        "folder_path = './drive/MyDrive/DatosInvestigacion/resultados/energy/data-continua/'"
      ]
    },
    {
      "cell_type": "code",
      "execution_count": null,
      "metadata": {
        "id": "2Th85YbK8vzm",
        "outputId": "1c40dd41-3deb-4e5b-c46b-c67abac01730",
        "colab": {
          "base_uri": "https://localhost:8080/",
          "height": 159
        }
      },
      "outputs": [
        {
          "output_type": "error",
          "ename": "NameError",
          "evalue": "name 'os' is not defined",
          "traceback": [
            "\u001b[0;31m---------------------------------------------------------------------------\u001b[0m",
            "\u001b[0;31mNameError\u001b[0m                                 Traceback (most recent call last)",
            "\u001b[0;32m<ipython-input-1-d6fc6620d281>\u001b[0m in \u001b[0;36m<cell line: 1>\u001b[0;34m()\u001b[0m\n\u001b[0;32m----> 1\u001b[0;31m \u001b[0mfile_path\u001b[0m \u001b[0;34m=\u001b[0m \u001b[0mos\u001b[0m\u001b[0;34m.\u001b[0m\u001b[0mpath\u001b[0m\u001b[0;34m.\u001b[0m\u001b[0mjoin\u001b[0m\u001b[0;34m(\u001b[0m\u001b[0mfolder_path\u001b[0m\u001b[0;34m,\u001b[0m \u001b[0;34m'df_final_all_2_22.csv'\u001b[0m\u001b[0;34m)\u001b[0m\u001b[0;34m\u001b[0m\u001b[0;34m\u001b[0m\u001b[0m\n\u001b[0m\u001b[1;32m      2\u001b[0m \u001b[0mdf\u001b[0m \u001b[0;34m=\u001b[0m \u001b[0mpd\u001b[0m\u001b[0;34m.\u001b[0m\u001b[0mread_csv\u001b[0m\u001b[0;34m(\u001b[0m\u001b[0mfile_path\u001b[0m\u001b[0;34m,\u001b[0m \u001b[0mindex_col\u001b[0m\u001b[0;34m=\u001b[0m\u001b[0;36m0\u001b[0m\u001b[0;34m,\u001b[0m \u001b[0mparse_dates\u001b[0m\u001b[0;34m=\u001b[0m\u001b[0;32mTrue\u001b[0m\u001b[0;34m)\u001b[0m\u001b[0;34m\u001b[0m\u001b[0;34m\u001b[0m\u001b[0m\n",
            "\u001b[0;31mNameError\u001b[0m: name 'os' is not defined"
          ]
        }
      ],
      "source": [
        "file_path = os.path.join(folder_path, 'df_clean_all_2_22.csv')\n",
        "df = pd.read_csv(file_path, index_col=0, parse_dates=True)"
      ]
    },
    {
      "cell_type": "code",
      "execution_count": null,
      "metadata": {
        "id": "gxIp-fll805u"
      },
      "outputs": [],
      "source": [
        "df_compare = df.resample('2T').asfreq()"
      ]
    },
    {
      "cell_type": "code",
      "execution_count": null,
      "metadata": {
        "colab": {
          "base_uri": "https://localhost:8080/"
        },
        "id": "XvxF51vX9Oiu",
        "outputId": "73d45fb9-9325-4195-8353-b516f1f013e6"
      },
      "outputs": [
        {
          "output_type": "execute_result",
          "data": {
            "text/plain": [
              "Potencia_3F_[W]           0\n",
              "Potencia_3F_[VA]          0\n",
              "Factor de Potencia        0\n",
              "Voltaje_(R)_[V]           0\n",
              "Voltaje_(S)_[V]           0\n",
              "Voltaje_(T)_[V]           0\n",
              "Voltaje_(RS)_[V]          0\n",
              "Voltaje_(ST)_[V]          0\n",
              "Voltaje_(TR)_[V]          0\n",
              "Corriente_R_[A]           0\n",
              "Corriente_S_[A]           0\n",
              "Corriente_T_[A]           0\n",
              "Potencia_R_[VA]           0\n",
              "Potencia_S_[VA]           0\n",
              "Potencia_T_[VA]           0\n",
              "Potencia_R_[W]            0\n",
              "Potencia_S_[W]            0\n",
              "Potencia_T_[W]            0\n",
              "Potencia_R_[VAR]          0\n",
              "Potencia_S_[VAR]          0\n",
              "Potencia_T_[VAR]          0\n",
              "Corriente_N_[A]           0\n",
              "Frecuencia_[Hz]           0\n",
              "Potencia_3F_[VAR]         0\n",
              "suma_potencias_W          0\n",
              "suma_potencias_VA         0\n",
              "factor_total_calculado    0\n",
              "anomaly                   0\n",
              "dtype: int64"
            ]
          },
          "metadata": {},
          "execution_count": 6
        }
      ],
      "source": [
        "df.isna().sum()"
      ]
    },
    {
      "cell_type": "code",
      "execution_count": null,
      "metadata": {
        "colab": {
          "base_uri": "https://localhost:8080/"
        },
        "id": "RjMLI5VX2rRE",
        "outputId": "9cc11baa-7544-4f83-9a11-4cef1fd0b828"
      },
      "outputs": [
        {
          "output_type": "execute_result",
          "data": {
            "text/plain": [
              "Potencia_3F_[W]           50\n",
              "Potencia_3F_[VA]          50\n",
              "Factor de Potencia        50\n",
              "Voltaje_(R)_[V]           50\n",
              "Voltaje_(S)_[V]           50\n",
              "Voltaje_(T)_[V]           50\n",
              "Voltaje_(RS)_[V]          50\n",
              "Voltaje_(ST)_[V]          50\n",
              "Voltaje_(TR)_[V]          50\n",
              "Corriente_R_[A]           50\n",
              "Corriente_S_[A]           50\n",
              "Corriente_T_[A]           50\n",
              "Potencia_R_[VA]           50\n",
              "Potencia_S_[VA]           50\n",
              "Potencia_T_[VA]           50\n",
              "Potencia_R_[W]            50\n",
              "Potencia_S_[W]            50\n",
              "Potencia_T_[W]            50\n",
              "Potencia_R_[VAR]          50\n",
              "Potencia_S_[VAR]          50\n",
              "Potencia_T_[VAR]          50\n",
              "Corriente_N_[A]           50\n",
              "Frecuencia_[Hz]           50\n",
              "Potencia_3F_[VAR]         50\n",
              "suma_potencias_W          50\n",
              "suma_potencias_VA         50\n",
              "factor_total_calculado    50\n",
              "anomaly                   50\n",
              "dtype: int64"
            ]
          },
          "metadata": {},
          "execution_count": 7
        }
      ],
      "source": [
        "df_compare.isna().sum()"
      ]
    },
    {
      "cell_type": "code",
      "execution_count": null,
      "metadata": {
        "id": "BV02j3pA87ce"
      },
      "outputs": [],
      "source": [
        "df.sort_index(ascending=True, inplace=True)"
      ]
    },
    {
      "cell_type": "code",
      "execution_count": null,
      "metadata": {
        "colab": {
          "base_uri": "https://localhost:8080/"
        },
        "id": "DZEhWSrU89O-",
        "outputId": "600343e8-535e-4ed3-b5ad-24771caa8865"
      },
      "outputs": [
        {
          "output_type": "execute_result",
          "data": {
            "text/plain": [
              "7332"
            ]
          },
          "metadata": {},
          "execution_count": 9
        }
      ],
      "source": [
        "train_size = int(len(df)*0.7)\n",
        "train_size"
      ]
    },
    {
      "cell_type": "code",
      "execution_count": null,
      "metadata": {
        "colab": {
          "base_uri": "https://localhost:8080/"
        },
        "id": "52llUtivLngf",
        "outputId": "c9565f50-44b3-422a-8192-bf546e9e048e"
      },
      "outputs": [
        {
          "output_type": "execute_result",
          "data": {
            "text/plain": [
              "1047"
            ]
          },
          "metadata": {},
          "execution_count": 10
        }
      ],
      "source": [
        "val_size = int(len(df)*0.1)\n",
        "val_size"
      ]
    },
    {
      "cell_type": "code",
      "execution_count": null,
      "metadata": {
        "id": "YZlZy93F8-vP"
      },
      "outputs": [],
      "source": [
        "df_train = df.iloc[:train_size]"
      ]
    },
    {
      "cell_type": "code",
      "execution_count": null,
      "metadata": {
        "id": "uAPzVCi4L3FK"
      },
      "outputs": [],
      "source": [
        "df_val = df.iloc[train_size:train_size+val_size]"
      ]
    },
    {
      "cell_type": "code",
      "execution_count": null,
      "metadata": {
        "colab": {
          "base_uri": "https://localhost:8080/"
        },
        "id": "xitIY3YCL78n",
        "outputId": "46678ea6-e903-4f3e-d463-1c26dbac219f"
      },
      "outputs": [
        {
          "output_type": "execute_result",
          "data": {
            "text/plain": [
              "1047"
            ]
          },
          "metadata": {},
          "execution_count": 13
        }
      ],
      "source": [
        "len(df_val)"
      ]
    },
    {
      "cell_type": "code",
      "execution_count": null,
      "metadata": {
        "id": "r-_heiBZ8_03"
      },
      "outputs": [],
      "source": [
        "df_test = df.iloc[train_size+val_size:]"
      ]
    },
    {
      "cell_type": "code",
      "execution_count": null,
      "metadata": {
        "colab": {
          "base_uri": "https://localhost:8080/",
          "height": 199
        },
        "id": "L2iZUHDxMHij",
        "outputId": "975b9261-5a50-485c-dfbe-986ff27debfa"
      },
      "outputs": [
        {
          "output_type": "execute_result",
          "data": {
            "text/plain": [
              "                     Potencia_3F_[W]  Potencia_3F_[VA]  Factor de Potencia  \\\n",
              "2020-12-17 09:10:00          764.273           870.925               0.877   \n",
              "\n",
              "                     Voltaje_(R)_[V]  Voltaje_(S)_[V]  Voltaje_(T)_[V]  \\\n",
              "2020-12-17 09:10:00          126.198          125.841          126.782   \n",
              "\n",
              "                     Voltaje_(RS)_[V]  Voltaje_(ST)_[V]  Voltaje_(TR)_[V]  \\\n",
              "2020-12-17 09:10:00           217.997           219.529           218.545   \n",
              "\n",
              "                     Corriente_R_[A]  ...  Potencia_R_[VAR]  Potencia_S_[VAR]  \\\n",
              "2020-12-17 09:10:00            1.436  ...            -3.085            88.859   \n",
              "\n",
              "                     Potencia_T_[VAR]  Corriente_N_[A]  Frecuencia_[Hz]  \\\n",
              "2020-12-17 09:10:00           -68.702            2.926           59.983   \n",
              "\n",
              "                     Potencia_3F_[VAR]  suma_potencias_W  suma_potencias_VA  \\\n",
              "2020-12-17 09:10:00             17.073           764.273            870.925   \n",
              "\n",
              "                     factor_total_calculado  anomaly  \n",
              "2020-12-17 09:10:00                0.877542        1  \n",
              "\n",
              "[1 rows x 28 columns]"
            ],
            "text/html": [
              "\n",
              "  <div id=\"df-f2e51e26-7ea3-40c5-b5e3-9a383e9ec766\" class=\"colab-df-container\">\n",
              "    <div>\n",
              "<style scoped>\n",
              "    .dataframe tbody tr th:only-of-type {\n",
              "        vertical-align: middle;\n",
              "    }\n",
              "\n",
              "    .dataframe tbody tr th {\n",
              "        vertical-align: top;\n",
              "    }\n",
              "\n",
              "    .dataframe thead th {\n",
              "        text-align: right;\n",
              "    }\n",
              "</style>\n",
              "<table border=\"1\" class=\"dataframe\">\n",
              "  <thead>\n",
              "    <tr style=\"text-align: right;\">\n",
              "      <th></th>\n",
              "      <th>Potencia_3F_[W]</th>\n",
              "      <th>Potencia_3F_[VA]</th>\n",
              "      <th>Factor de Potencia</th>\n",
              "      <th>Voltaje_(R)_[V]</th>\n",
              "      <th>Voltaje_(S)_[V]</th>\n",
              "      <th>Voltaje_(T)_[V]</th>\n",
              "      <th>Voltaje_(RS)_[V]</th>\n",
              "      <th>Voltaje_(ST)_[V]</th>\n",
              "      <th>Voltaje_(TR)_[V]</th>\n",
              "      <th>Corriente_R_[A]</th>\n",
              "      <th>...</th>\n",
              "      <th>Potencia_R_[VAR]</th>\n",
              "      <th>Potencia_S_[VAR]</th>\n",
              "      <th>Potencia_T_[VAR]</th>\n",
              "      <th>Corriente_N_[A]</th>\n",
              "      <th>Frecuencia_[Hz]</th>\n",
              "      <th>Potencia_3F_[VAR]</th>\n",
              "      <th>suma_potencias_W</th>\n",
              "      <th>suma_potencias_VA</th>\n",
              "      <th>factor_total_calculado</th>\n",
              "      <th>anomaly</th>\n",
              "    </tr>\n",
              "  </thead>\n",
              "  <tbody>\n",
              "    <tr>\n",
              "      <th>2020-12-17 09:10:00</th>\n",
              "      <td>764.273</td>\n",
              "      <td>870.925</td>\n",
              "      <td>0.877</td>\n",
              "      <td>126.198</td>\n",
              "      <td>125.841</td>\n",
              "      <td>126.782</td>\n",
              "      <td>217.997</td>\n",
              "      <td>219.529</td>\n",
              "      <td>218.545</td>\n",
              "      <td>1.436</td>\n",
              "      <td>...</td>\n",
              "      <td>-3.085</td>\n",
              "      <td>88.859</td>\n",
              "      <td>-68.702</td>\n",
              "      <td>2.926</td>\n",
              "      <td>59.983</td>\n",
              "      <td>17.073</td>\n",
              "      <td>764.273</td>\n",
              "      <td>870.925</td>\n",
              "      <td>0.877542</td>\n",
              "      <td>1</td>\n",
              "    </tr>\n",
              "  </tbody>\n",
              "</table>\n",
              "<p>1 rows × 28 columns</p>\n",
              "</div>\n",
              "    <div class=\"colab-df-buttons\">\n",
              "\n",
              "  <div class=\"colab-df-container\">\n",
              "    <button class=\"colab-df-convert\" onclick=\"convertToInteractive('df-f2e51e26-7ea3-40c5-b5e3-9a383e9ec766')\"\n",
              "            title=\"Convert this dataframe to an interactive table.\"\n",
              "            style=\"display:none;\">\n",
              "\n",
              "  <svg xmlns=\"http://www.w3.org/2000/svg\" height=\"24px\" viewBox=\"0 -960 960 960\">\n",
              "    <path d=\"M120-120v-720h720v720H120Zm60-500h600v-160H180v160Zm220 220h160v-160H400v160Zm0 220h160v-160H400v160ZM180-400h160v-160H180v160Zm440 0h160v-160H620v160ZM180-180h160v-160H180v160Zm440 0h160v-160H620v160Z\"/>\n",
              "  </svg>\n",
              "    </button>\n",
              "\n",
              "  <style>\n",
              "    .colab-df-container {\n",
              "      display:flex;\n",
              "      gap: 12px;\n",
              "    }\n",
              "\n",
              "    .colab-df-convert {\n",
              "      background-color: #E8F0FE;\n",
              "      border: none;\n",
              "      border-radius: 50%;\n",
              "      cursor: pointer;\n",
              "      display: none;\n",
              "      fill: #1967D2;\n",
              "      height: 32px;\n",
              "      padding: 0 0 0 0;\n",
              "      width: 32px;\n",
              "    }\n",
              "\n",
              "    .colab-df-convert:hover {\n",
              "      background-color: #E2EBFA;\n",
              "      box-shadow: 0px 1px 2px rgba(60, 64, 67, 0.3), 0px 1px 3px 1px rgba(60, 64, 67, 0.15);\n",
              "      fill: #174EA6;\n",
              "    }\n",
              "\n",
              "    .colab-df-buttons div {\n",
              "      margin-bottom: 4px;\n",
              "    }\n",
              "\n",
              "    [theme=dark] .colab-df-convert {\n",
              "      background-color: #3B4455;\n",
              "      fill: #D2E3FC;\n",
              "    }\n",
              "\n",
              "    [theme=dark] .colab-df-convert:hover {\n",
              "      background-color: #434B5C;\n",
              "      box-shadow: 0px 1px 3px 1px rgba(0, 0, 0, 0.15);\n",
              "      filter: drop-shadow(0px 1px 2px rgba(0, 0, 0, 0.3));\n",
              "      fill: #FFFFFF;\n",
              "    }\n",
              "  </style>\n",
              "\n",
              "    <script>\n",
              "      const buttonEl =\n",
              "        document.querySelector('#df-f2e51e26-7ea3-40c5-b5e3-9a383e9ec766 button.colab-df-convert');\n",
              "      buttonEl.style.display =\n",
              "        google.colab.kernel.accessAllowed ? 'block' : 'none';\n",
              "\n",
              "      async function convertToInteractive(key) {\n",
              "        const element = document.querySelector('#df-f2e51e26-7ea3-40c5-b5e3-9a383e9ec766');\n",
              "        const dataTable =\n",
              "          await google.colab.kernel.invokeFunction('convertToInteractive',\n",
              "                                                    [key], {});\n",
              "        if (!dataTable) return;\n",
              "\n",
              "        const docLinkHtml = 'Like what you see? Visit the ' +\n",
              "          '<a target=\"_blank\" href=https://colab.research.google.com/notebooks/data_table.ipynb>data table notebook</a>'\n",
              "          + ' to learn more about interactive tables.';\n",
              "        element.innerHTML = '';\n",
              "        dataTable['output_type'] = 'display_data';\n",
              "        await google.colab.output.renderOutput(dataTable, element);\n",
              "        const docLink = document.createElement('div');\n",
              "        docLink.innerHTML = docLinkHtml;\n",
              "        element.appendChild(docLink);\n",
              "      }\n",
              "    </script>\n",
              "  </div>\n",
              "\n",
              "\n",
              "    </div>\n",
              "  </div>\n"
            ],
            "application/vnd.google.colaboratory.intrinsic+json": {
              "type": "dataframe",
              "variable_name": "df_train"
            }
          },
          "metadata": {},
          "execution_count": 15
        }
      ],
      "source": [
        "df_train.head(1)"
      ]
    },
    {
      "cell_type": "code",
      "execution_count": null,
      "metadata": {
        "colab": {
          "base_uri": "https://localhost:8080/",
          "height": 199
        },
        "id": "m1RtZXI4MJI4",
        "outputId": "93f653a1-4c7c-4b0c-e157-981b9cb3a4a2"
      },
      "outputs": [
        {
          "output_type": "execute_result",
          "data": {
            "text/plain": [
              "                     Potencia_3F_[W]  Potencia_3F_[VA]  Factor de Potencia  \\\n",
              "2020-12-27 14:44:00          453.005           532.047               0.826   \n",
              "\n",
              "                     Voltaje_(R)_[V]  Voltaje_(S)_[V]  Voltaje_(T)_[V]  \\\n",
              "2020-12-27 14:44:00          126.302           127.01          128.644   \n",
              "\n",
              "                     Voltaje_(RS)_[V]  Voltaje_(ST)_[V]  Voltaje_(TR)_[V]  \\\n",
              "2020-12-27 14:44:00           218.619           222.142           220.757   \n",
              "\n",
              "                     Corriente_R_[A]  ...  Potencia_R_[VAR]  Potencia_S_[VAR]  \\\n",
              "2020-12-27 14:44:00            1.278  ...            -5.111            61.525   \n",
              "\n",
              "                     Potencia_T_[VAR]  Corriente_N_[A]  Frecuencia_[Hz]  \\\n",
              "2020-12-27 14:44:00           -37.721            1.941           58.233   \n",
              "\n",
              "                     Potencia_3F_[VAR]  suma_potencias_W  suma_potencias_VA  \\\n",
              "2020-12-27 14:44:00             18.693           464.086            548.099   \n",
              "\n",
              "                     factor_total_calculado  anomaly  \n",
              "2020-12-27 14:44:00                0.846719        1  \n",
              "\n",
              "[1 rows x 28 columns]"
            ],
            "text/html": [
              "\n",
              "  <div id=\"df-88338fd9-20cf-4dc7-a619-55d2969e58e4\" class=\"colab-df-container\">\n",
              "    <div>\n",
              "<style scoped>\n",
              "    .dataframe tbody tr th:only-of-type {\n",
              "        vertical-align: middle;\n",
              "    }\n",
              "\n",
              "    .dataframe tbody tr th {\n",
              "        vertical-align: top;\n",
              "    }\n",
              "\n",
              "    .dataframe thead th {\n",
              "        text-align: right;\n",
              "    }\n",
              "</style>\n",
              "<table border=\"1\" class=\"dataframe\">\n",
              "  <thead>\n",
              "    <tr style=\"text-align: right;\">\n",
              "      <th></th>\n",
              "      <th>Potencia_3F_[W]</th>\n",
              "      <th>Potencia_3F_[VA]</th>\n",
              "      <th>Factor de Potencia</th>\n",
              "      <th>Voltaje_(R)_[V]</th>\n",
              "      <th>Voltaje_(S)_[V]</th>\n",
              "      <th>Voltaje_(T)_[V]</th>\n",
              "      <th>Voltaje_(RS)_[V]</th>\n",
              "      <th>Voltaje_(ST)_[V]</th>\n",
              "      <th>Voltaje_(TR)_[V]</th>\n",
              "      <th>Corriente_R_[A]</th>\n",
              "      <th>...</th>\n",
              "      <th>Potencia_R_[VAR]</th>\n",
              "      <th>Potencia_S_[VAR]</th>\n",
              "      <th>Potencia_T_[VAR]</th>\n",
              "      <th>Corriente_N_[A]</th>\n",
              "      <th>Frecuencia_[Hz]</th>\n",
              "      <th>Potencia_3F_[VAR]</th>\n",
              "      <th>suma_potencias_W</th>\n",
              "      <th>suma_potencias_VA</th>\n",
              "      <th>factor_total_calculado</th>\n",
              "      <th>anomaly</th>\n",
              "    </tr>\n",
              "  </thead>\n",
              "  <tbody>\n",
              "    <tr>\n",
              "      <th>2020-12-27 14:44:00</th>\n",
              "      <td>453.005</td>\n",
              "      <td>532.047</td>\n",
              "      <td>0.826</td>\n",
              "      <td>126.302</td>\n",
              "      <td>127.01</td>\n",
              "      <td>128.644</td>\n",
              "      <td>218.619</td>\n",
              "      <td>222.142</td>\n",
              "      <td>220.757</td>\n",
              "      <td>1.278</td>\n",
              "      <td>...</td>\n",
              "      <td>-5.111</td>\n",
              "      <td>61.525</td>\n",
              "      <td>-37.721</td>\n",
              "      <td>1.941</td>\n",
              "      <td>58.233</td>\n",
              "      <td>18.693</td>\n",
              "      <td>464.086</td>\n",
              "      <td>548.099</td>\n",
              "      <td>0.846719</td>\n",
              "      <td>1</td>\n",
              "    </tr>\n",
              "  </tbody>\n",
              "</table>\n",
              "<p>1 rows × 28 columns</p>\n",
              "</div>\n",
              "    <div class=\"colab-df-buttons\">\n",
              "\n",
              "  <div class=\"colab-df-container\">\n",
              "    <button class=\"colab-df-convert\" onclick=\"convertToInteractive('df-88338fd9-20cf-4dc7-a619-55d2969e58e4')\"\n",
              "            title=\"Convert this dataframe to an interactive table.\"\n",
              "            style=\"display:none;\">\n",
              "\n",
              "  <svg xmlns=\"http://www.w3.org/2000/svg\" height=\"24px\" viewBox=\"0 -960 960 960\">\n",
              "    <path d=\"M120-120v-720h720v720H120Zm60-500h600v-160H180v160Zm220 220h160v-160H400v160Zm0 220h160v-160H400v160ZM180-400h160v-160H180v160Zm440 0h160v-160H620v160ZM180-180h160v-160H180v160Zm440 0h160v-160H620v160Z\"/>\n",
              "  </svg>\n",
              "    </button>\n",
              "\n",
              "  <style>\n",
              "    .colab-df-container {\n",
              "      display:flex;\n",
              "      gap: 12px;\n",
              "    }\n",
              "\n",
              "    .colab-df-convert {\n",
              "      background-color: #E8F0FE;\n",
              "      border: none;\n",
              "      border-radius: 50%;\n",
              "      cursor: pointer;\n",
              "      display: none;\n",
              "      fill: #1967D2;\n",
              "      height: 32px;\n",
              "      padding: 0 0 0 0;\n",
              "      width: 32px;\n",
              "    }\n",
              "\n",
              "    .colab-df-convert:hover {\n",
              "      background-color: #E2EBFA;\n",
              "      box-shadow: 0px 1px 2px rgba(60, 64, 67, 0.3), 0px 1px 3px 1px rgba(60, 64, 67, 0.15);\n",
              "      fill: #174EA6;\n",
              "    }\n",
              "\n",
              "    .colab-df-buttons div {\n",
              "      margin-bottom: 4px;\n",
              "    }\n",
              "\n",
              "    [theme=dark] .colab-df-convert {\n",
              "      background-color: #3B4455;\n",
              "      fill: #D2E3FC;\n",
              "    }\n",
              "\n",
              "    [theme=dark] .colab-df-convert:hover {\n",
              "      background-color: #434B5C;\n",
              "      box-shadow: 0px 1px 3px 1px rgba(0, 0, 0, 0.15);\n",
              "      filter: drop-shadow(0px 1px 2px rgba(0, 0, 0, 0.3));\n",
              "      fill: #FFFFFF;\n",
              "    }\n",
              "  </style>\n",
              "\n",
              "    <script>\n",
              "      const buttonEl =\n",
              "        document.querySelector('#df-88338fd9-20cf-4dc7-a619-55d2969e58e4 button.colab-df-convert');\n",
              "      buttonEl.style.display =\n",
              "        google.colab.kernel.accessAllowed ? 'block' : 'none';\n",
              "\n",
              "      async function convertToInteractive(key) {\n",
              "        const element = document.querySelector('#df-88338fd9-20cf-4dc7-a619-55d2969e58e4');\n",
              "        const dataTable =\n",
              "          await google.colab.kernel.invokeFunction('convertToInteractive',\n",
              "                                                    [key], {});\n",
              "        if (!dataTable) return;\n",
              "\n",
              "        const docLinkHtml = 'Like what you see? Visit the ' +\n",
              "          '<a target=\"_blank\" href=https://colab.research.google.com/notebooks/data_table.ipynb>data table notebook</a>'\n",
              "          + ' to learn more about interactive tables.';\n",
              "        element.innerHTML = '';\n",
              "        dataTable['output_type'] = 'display_data';\n",
              "        await google.colab.output.renderOutput(dataTable, element);\n",
              "        const docLink = document.createElement('div');\n",
              "        docLink.innerHTML = docLinkHtml;\n",
              "        element.appendChild(docLink);\n",
              "      }\n",
              "    </script>\n",
              "  </div>\n",
              "\n",
              "\n",
              "    </div>\n",
              "  </div>\n"
            ],
            "application/vnd.google.colaboratory.intrinsic+json": {
              "type": "dataframe"
            }
          },
          "metadata": {},
          "execution_count": 16
        }
      ],
      "source": [
        "df_train.tail(1)"
      ]
    },
    {
      "cell_type": "code",
      "execution_count": null,
      "metadata": {
        "colab": {
          "base_uri": "https://localhost:8080/",
          "height": 199
        },
        "id": "MskVWv0CMM_b",
        "outputId": "c7d2f11b-616a-4aa3-8d8d-414377dcd33d"
      },
      "outputs": [
        {
          "output_type": "execute_result",
          "data": {
            "text/plain": [
              "                     Potencia_3F_[W]  Potencia_3F_[VA]  Factor de Potencia  \\\n",
              "2020-12-27 14:46:00          466.538           548.037               0.851   \n",
              "\n",
              "                     Voltaje_(R)_[V]  Voltaje_(S)_[V]  Voltaje_(T)_[V]  \\\n",
              "2020-12-27 14:46:00          126.326          127.026          128.542   \n",
              "\n",
              "                     Voltaje_(RS)_[V]  Voltaje_(ST)_[V]  Voltaje_(TR)_[V]  \\\n",
              "2020-12-27 14:46:00           218.641           222.136            220.63   \n",
              "\n",
              "                     Corriente_R_[A]  ...  Potencia_R_[VAR]  Potencia_S_[VAR]  \\\n",
              "2020-12-27 14:46:00            1.276  ...            -5.289             63.24   \n",
              "\n",
              "                     Potencia_T_[VAR]  Corriente_N_[A]  Frecuencia_[Hz]  \\\n",
              "2020-12-27 14:46:00           -38.924            2.007           60.006   \n",
              "\n",
              "                     Potencia_3F_[VAR]  suma_potencias_W  suma_potencias_VA  \\\n",
              "2020-12-27 14:46:00             19.027           466.537            548.038   \n",
              "\n",
              "                     factor_total_calculado  anomaly  \n",
              "2020-12-27 14:46:00                0.851286        1  \n",
              "\n",
              "[1 rows x 28 columns]"
            ],
            "text/html": [
              "\n",
              "  <div id=\"df-64de80c2-c73e-4903-8b29-94d17feeebb7\" class=\"colab-df-container\">\n",
              "    <div>\n",
              "<style scoped>\n",
              "    .dataframe tbody tr th:only-of-type {\n",
              "        vertical-align: middle;\n",
              "    }\n",
              "\n",
              "    .dataframe tbody tr th {\n",
              "        vertical-align: top;\n",
              "    }\n",
              "\n",
              "    .dataframe thead th {\n",
              "        text-align: right;\n",
              "    }\n",
              "</style>\n",
              "<table border=\"1\" class=\"dataframe\">\n",
              "  <thead>\n",
              "    <tr style=\"text-align: right;\">\n",
              "      <th></th>\n",
              "      <th>Potencia_3F_[W]</th>\n",
              "      <th>Potencia_3F_[VA]</th>\n",
              "      <th>Factor de Potencia</th>\n",
              "      <th>Voltaje_(R)_[V]</th>\n",
              "      <th>Voltaje_(S)_[V]</th>\n",
              "      <th>Voltaje_(T)_[V]</th>\n",
              "      <th>Voltaje_(RS)_[V]</th>\n",
              "      <th>Voltaje_(ST)_[V]</th>\n",
              "      <th>Voltaje_(TR)_[V]</th>\n",
              "      <th>Corriente_R_[A]</th>\n",
              "      <th>...</th>\n",
              "      <th>Potencia_R_[VAR]</th>\n",
              "      <th>Potencia_S_[VAR]</th>\n",
              "      <th>Potencia_T_[VAR]</th>\n",
              "      <th>Corriente_N_[A]</th>\n",
              "      <th>Frecuencia_[Hz]</th>\n",
              "      <th>Potencia_3F_[VAR]</th>\n",
              "      <th>suma_potencias_W</th>\n",
              "      <th>suma_potencias_VA</th>\n",
              "      <th>factor_total_calculado</th>\n",
              "      <th>anomaly</th>\n",
              "    </tr>\n",
              "  </thead>\n",
              "  <tbody>\n",
              "    <tr>\n",
              "      <th>2020-12-27 14:46:00</th>\n",
              "      <td>466.538</td>\n",
              "      <td>548.037</td>\n",
              "      <td>0.851</td>\n",
              "      <td>126.326</td>\n",
              "      <td>127.026</td>\n",
              "      <td>128.542</td>\n",
              "      <td>218.641</td>\n",
              "      <td>222.136</td>\n",
              "      <td>220.63</td>\n",
              "      <td>1.276</td>\n",
              "      <td>...</td>\n",
              "      <td>-5.289</td>\n",
              "      <td>63.24</td>\n",
              "      <td>-38.924</td>\n",
              "      <td>2.007</td>\n",
              "      <td>60.006</td>\n",
              "      <td>19.027</td>\n",
              "      <td>466.537</td>\n",
              "      <td>548.038</td>\n",
              "      <td>0.851286</td>\n",
              "      <td>1</td>\n",
              "    </tr>\n",
              "  </tbody>\n",
              "</table>\n",
              "<p>1 rows × 28 columns</p>\n",
              "</div>\n",
              "    <div class=\"colab-df-buttons\">\n",
              "\n",
              "  <div class=\"colab-df-container\">\n",
              "    <button class=\"colab-df-convert\" onclick=\"convertToInteractive('df-64de80c2-c73e-4903-8b29-94d17feeebb7')\"\n",
              "            title=\"Convert this dataframe to an interactive table.\"\n",
              "            style=\"display:none;\">\n",
              "\n",
              "  <svg xmlns=\"http://www.w3.org/2000/svg\" height=\"24px\" viewBox=\"0 -960 960 960\">\n",
              "    <path d=\"M120-120v-720h720v720H120Zm60-500h600v-160H180v160Zm220 220h160v-160H400v160Zm0 220h160v-160H400v160ZM180-400h160v-160H180v160Zm440 0h160v-160H620v160ZM180-180h160v-160H180v160Zm440 0h160v-160H620v160Z\"/>\n",
              "  </svg>\n",
              "    </button>\n",
              "\n",
              "  <style>\n",
              "    .colab-df-container {\n",
              "      display:flex;\n",
              "      gap: 12px;\n",
              "    }\n",
              "\n",
              "    .colab-df-convert {\n",
              "      background-color: #E8F0FE;\n",
              "      border: none;\n",
              "      border-radius: 50%;\n",
              "      cursor: pointer;\n",
              "      display: none;\n",
              "      fill: #1967D2;\n",
              "      height: 32px;\n",
              "      padding: 0 0 0 0;\n",
              "      width: 32px;\n",
              "    }\n",
              "\n",
              "    .colab-df-convert:hover {\n",
              "      background-color: #E2EBFA;\n",
              "      box-shadow: 0px 1px 2px rgba(60, 64, 67, 0.3), 0px 1px 3px 1px rgba(60, 64, 67, 0.15);\n",
              "      fill: #174EA6;\n",
              "    }\n",
              "\n",
              "    .colab-df-buttons div {\n",
              "      margin-bottom: 4px;\n",
              "    }\n",
              "\n",
              "    [theme=dark] .colab-df-convert {\n",
              "      background-color: #3B4455;\n",
              "      fill: #D2E3FC;\n",
              "    }\n",
              "\n",
              "    [theme=dark] .colab-df-convert:hover {\n",
              "      background-color: #434B5C;\n",
              "      box-shadow: 0px 1px 3px 1px rgba(0, 0, 0, 0.15);\n",
              "      filter: drop-shadow(0px 1px 2px rgba(0, 0, 0, 0.3));\n",
              "      fill: #FFFFFF;\n",
              "    }\n",
              "  </style>\n",
              "\n",
              "    <script>\n",
              "      const buttonEl =\n",
              "        document.querySelector('#df-64de80c2-c73e-4903-8b29-94d17feeebb7 button.colab-df-convert');\n",
              "      buttonEl.style.display =\n",
              "        google.colab.kernel.accessAllowed ? 'block' : 'none';\n",
              "\n",
              "      async function convertToInteractive(key) {\n",
              "        const element = document.querySelector('#df-64de80c2-c73e-4903-8b29-94d17feeebb7');\n",
              "        const dataTable =\n",
              "          await google.colab.kernel.invokeFunction('convertToInteractive',\n",
              "                                                    [key], {});\n",
              "        if (!dataTable) return;\n",
              "\n",
              "        const docLinkHtml = 'Like what you see? Visit the ' +\n",
              "          '<a target=\"_blank\" href=https://colab.research.google.com/notebooks/data_table.ipynb>data table notebook</a>'\n",
              "          + ' to learn more about interactive tables.';\n",
              "        element.innerHTML = '';\n",
              "        dataTable['output_type'] = 'display_data';\n",
              "        await google.colab.output.renderOutput(dataTable, element);\n",
              "        const docLink = document.createElement('div');\n",
              "        docLink.innerHTML = docLinkHtml;\n",
              "        element.appendChild(docLink);\n",
              "      }\n",
              "    </script>\n",
              "  </div>\n",
              "\n",
              "\n",
              "    </div>\n",
              "  </div>\n"
            ],
            "application/vnd.google.colaboratory.intrinsic+json": {
              "type": "dataframe",
              "variable_name": "df_val"
            }
          },
          "metadata": {},
          "execution_count": 17
        }
      ],
      "source": [
        "df_val.head(1)"
      ]
    },
    {
      "cell_type": "code",
      "execution_count": null,
      "metadata": {
        "colab": {
          "base_uri": "https://localhost:8080/",
          "height": 199
        },
        "id": "HLhC_xxvMOU4",
        "outputId": "9f3cc8b0-04a5-4038-bc66-f9e9e621576c"
      },
      "outputs": [
        {
          "output_type": "execute_result",
          "data": {
            "text/plain": [
              "                     Potencia_3F_[W]  Potencia_3F_[VA]  Factor de Potencia  \\\n",
              "2020-12-29 01:58:00          706.209           816.121               0.865   \n",
              "\n",
              "                     Voltaje_(R)_[V]  Voltaje_(S)_[V]  Voltaje_(T)_[V]  \\\n",
              "2020-12-29 01:58:00          128.061          127.643          129.006   \n",
              "\n",
              "                     Voltaje_(RS)_[V]  Voltaje_(ST)_[V]  Voltaje_(TR)_[V]  \\\n",
              "2020-12-29 01:58:00           220.783           222.887           222.623   \n",
              "\n",
              "                     Corriente_R_[A]  ...  Potencia_R_[VAR]  Potencia_S_[VAR]  \\\n",
              "2020-12-29 01:58:00             1.04  ...           -22.272            53.329   \n",
              "\n",
              "                     Potencia_T_[VAR]  Corriente_N_[A]  Frecuencia_[Hz]  \\\n",
              "2020-12-29 01:58:00          -158.103             1.62           59.987   \n",
              "\n",
              "                     Potencia_3F_[VAR]  suma_potencias_W  suma_potencias_VA  \\\n",
              "2020-12-29 01:58:00           -127.046            706.21            816.122   \n",
              "\n",
              "                     factor_total_calculado  anomaly  \n",
              "2020-12-29 01:58:00                0.865324        1  \n",
              "\n",
              "[1 rows x 28 columns]"
            ],
            "text/html": [
              "\n",
              "  <div id=\"df-bac0b44b-fb42-4ac7-99b2-aa76b328d36f\" class=\"colab-df-container\">\n",
              "    <div>\n",
              "<style scoped>\n",
              "    .dataframe tbody tr th:only-of-type {\n",
              "        vertical-align: middle;\n",
              "    }\n",
              "\n",
              "    .dataframe tbody tr th {\n",
              "        vertical-align: top;\n",
              "    }\n",
              "\n",
              "    .dataframe thead th {\n",
              "        text-align: right;\n",
              "    }\n",
              "</style>\n",
              "<table border=\"1\" class=\"dataframe\">\n",
              "  <thead>\n",
              "    <tr style=\"text-align: right;\">\n",
              "      <th></th>\n",
              "      <th>Potencia_3F_[W]</th>\n",
              "      <th>Potencia_3F_[VA]</th>\n",
              "      <th>Factor de Potencia</th>\n",
              "      <th>Voltaje_(R)_[V]</th>\n",
              "      <th>Voltaje_(S)_[V]</th>\n",
              "      <th>Voltaje_(T)_[V]</th>\n",
              "      <th>Voltaje_(RS)_[V]</th>\n",
              "      <th>Voltaje_(ST)_[V]</th>\n",
              "      <th>Voltaje_(TR)_[V]</th>\n",
              "      <th>Corriente_R_[A]</th>\n",
              "      <th>...</th>\n",
              "      <th>Potencia_R_[VAR]</th>\n",
              "      <th>Potencia_S_[VAR]</th>\n",
              "      <th>Potencia_T_[VAR]</th>\n",
              "      <th>Corriente_N_[A]</th>\n",
              "      <th>Frecuencia_[Hz]</th>\n",
              "      <th>Potencia_3F_[VAR]</th>\n",
              "      <th>suma_potencias_W</th>\n",
              "      <th>suma_potencias_VA</th>\n",
              "      <th>factor_total_calculado</th>\n",
              "      <th>anomaly</th>\n",
              "    </tr>\n",
              "  </thead>\n",
              "  <tbody>\n",
              "    <tr>\n",
              "      <th>2020-12-29 01:58:00</th>\n",
              "      <td>706.209</td>\n",
              "      <td>816.121</td>\n",
              "      <td>0.865</td>\n",
              "      <td>128.061</td>\n",
              "      <td>127.643</td>\n",
              "      <td>129.006</td>\n",
              "      <td>220.783</td>\n",
              "      <td>222.887</td>\n",
              "      <td>222.623</td>\n",
              "      <td>1.04</td>\n",
              "      <td>...</td>\n",
              "      <td>-22.272</td>\n",
              "      <td>53.329</td>\n",
              "      <td>-158.103</td>\n",
              "      <td>1.62</td>\n",
              "      <td>59.987</td>\n",
              "      <td>-127.046</td>\n",
              "      <td>706.21</td>\n",
              "      <td>816.122</td>\n",
              "      <td>0.865324</td>\n",
              "      <td>1</td>\n",
              "    </tr>\n",
              "  </tbody>\n",
              "</table>\n",
              "<p>1 rows × 28 columns</p>\n",
              "</div>\n",
              "    <div class=\"colab-df-buttons\">\n",
              "\n",
              "  <div class=\"colab-df-container\">\n",
              "    <button class=\"colab-df-convert\" onclick=\"convertToInteractive('df-bac0b44b-fb42-4ac7-99b2-aa76b328d36f')\"\n",
              "            title=\"Convert this dataframe to an interactive table.\"\n",
              "            style=\"display:none;\">\n",
              "\n",
              "  <svg xmlns=\"http://www.w3.org/2000/svg\" height=\"24px\" viewBox=\"0 -960 960 960\">\n",
              "    <path d=\"M120-120v-720h720v720H120Zm60-500h600v-160H180v160Zm220 220h160v-160H400v160Zm0 220h160v-160H400v160ZM180-400h160v-160H180v160Zm440 0h160v-160H620v160ZM180-180h160v-160H180v160Zm440 0h160v-160H620v160Z\"/>\n",
              "  </svg>\n",
              "    </button>\n",
              "\n",
              "  <style>\n",
              "    .colab-df-container {\n",
              "      display:flex;\n",
              "      gap: 12px;\n",
              "    }\n",
              "\n",
              "    .colab-df-convert {\n",
              "      background-color: #E8F0FE;\n",
              "      border: none;\n",
              "      border-radius: 50%;\n",
              "      cursor: pointer;\n",
              "      display: none;\n",
              "      fill: #1967D2;\n",
              "      height: 32px;\n",
              "      padding: 0 0 0 0;\n",
              "      width: 32px;\n",
              "    }\n",
              "\n",
              "    .colab-df-convert:hover {\n",
              "      background-color: #E2EBFA;\n",
              "      box-shadow: 0px 1px 2px rgba(60, 64, 67, 0.3), 0px 1px 3px 1px rgba(60, 64, 67, 0.15);\n",
              "      fill: #174EA6;\n",
              "    }\n",
              "\n",
              "    .colab-df-buttons div {\n",
              "      margin-bottom: 4px;\n",
              "    }\n",
              "\n",
              "    [theme=dark] .colab-df-convert {\n",
              "      background-color: #3B4455;\n",
              "      fill: #D2E3FC;\n",
              "    }\n",
              "\n",
              "    [theme=dark] .colab-df-convert:hover {\n",
              "      background-color: #434B5C;\n",
              "      box-shadow: 0px 1px 3px 1px rgba(0, 0, 0, 0.15);\n",
              "      filter: drop-shadow(0px 1px 2px rgba(0, 0, 0, 0.3));\n",
              "      fill: #FFFFFF;\n",
              "    }\n",
              "  </style>\n",
              "\n",
              "    <script>\n",
              "      const buttonEl =\n",
              "        document.querySelector('#df-bac0b44b-fb42-4ac7-99b2-aa76b328d36f button.colab-df-convert');\n",
              "      buttonEl.style.display =\n",
              "        google.colab.kernel.accessAllowed ? 'block' : 'none';\n",
              "\n",
              "      async function convertToInteractive(key) {\n",
              "        const element = document.querySelector('#df-bac0b44b-fb42-4ac7-99b2-aa76b328d36f');\n",
              "        const dataTable =\n",
              "          await google.colab.kernel.invokeFunction('convertToInteractive',\n",
              "                                                    [key], {});\n",
              "        if (!dataTable) return;\n",
              "\n",
              "        const docLinkHtml = 'Like what you see? Visit the ' +\n",
              "          '<a target=\"_blank\" href=https://colab.research.google.com/notebooks/data_table.ipynb>data table notebook</a>'\n",
              "          + ' to learn more about interactive tables.';\n",
              "        element.innerHTML = '';\n",
              "        dataTable['output_type'] = 'display_data';\n",
              "        await google.colab.output.renderOutput(dataTable, element);\n",
              "        const docLink = document.createElement('div');\n",
              "        docLink.innerHTML = docLinkHtml;\n",
              "        element.appendChild(docLink);\n",
              "      }\n",
              "    </script>\n",
              "  </div>\n",
              "\n",
              "\n",
              "    </div>\n",
              "  </div>\n"
            ],
            "application/vnd.google.colaboratory.intrinsic+json": {
              "type": "dataframe"
            }
          },
          "metadata": {},
          "execution_count": 18
        }
      ],
      "source": [
        "df_val.tail(1)"
      ]
    },
    {
      "cell_type": "code",
      "execution_count": null,
      "metadata": {
        "colab": {
          "base_uri": "https://localhost:8080/",
          "height": 199
        },
        "id": "dz0fTo_XL_iv",
        "outputId": "22081148-1947-4245-8990-b470ac2ec79e"
      },
      "outputs": [
        {
          "output_type": "execute_result",
          "data": {
            "text/plain": [
              "                     Potencia_3F_[W]  Potencia_3F_[VA]  Factor de Potencia  \\\n",
              "2020-12-29 02:00:00          656.165           758.895               0.865   \n",
              "\n",
              "                     Voltaje_(R)_[V]  Voltaje_(S)_[V]  Voltaje_(T)_[V]  \\\n",
              "2020-12-29 02:00:00          128.043          127.538          128.959   \n",
              "\n",
              "                     Voltaje_(RS)_[V]  Voltaje_(ST)_[V]  Voltaje_(TR)_[V]  \\\n",
              "2020-12-29 02:00:00           220.663             222.8           222.536   \n",
              "\n",
              "                     Corriente_R_[A]  ...  Potencia_R_[VAR]  Potencia_S_[VAR]  \\\n",
              "2020-12-29 02:00:00            1.043  ...           -22.357            36.646   \n",
              "\n",
              "                     Potencia_T_[VAR]  Corriente_N_[A]  Frecuencia_[Hz]  \\\n",
              "2020-12-29 02:00:00           -147.48              1.6           59.985   \n",
              "\n",
              "                     Potencia_3F_[VAR]  suma_potencias_W  suma_potencias_VA  \\\n",
              "2020-12-29 02:00:00            -133.19           656.164            758.894   \n",
              "\n",
              "                     factor_total_calculado  anomaly  \n",
              "2020-12-29 02:00:00                0.864632        1  \n",
              "\n",
              "[1 rows x 28 columns]"
            ],
            "text/html": [
              "\n",
              "  <div id=\"df-80610da3-1b41-4f30-bfe7-f833d7512a0a\" class=\"colab-df-container\">\n",
              "    <div>\n",
              "<style scoped>\n",
              "    .dataframe tbody tr th:only-of-type {\n",
              "        vertical-align: middle;\n",
              "    }\n",
              "\n",
              "    .dataframe tbody tr th {\n",
              "        vertical-align: top;\n",
              "    }\n",
              "\n",
              "    .dataframe thead th {\n",
              "        text-align: right;\n",
              "    }\n",
              "</style>\n",
              "<table border=\"1\" class=\"dataframe\">\n",
              "  <thead>\n",
              "    <tr style=\"text-align: right;\">\n",
              "      <th></th>\n",
              "      <th>Potencia_3F_[W]</th>\n",
              "      <th>Potencia_3F_[VA]</th>\n",
              "      <th>Factor de Potencia</th>\n",
              "      <th>Voltaje_(R)_[V]</th>\n",
              "      <th>Voltaje_(S)_[V]</th>\n",
              "      <th>Voltaje_(T)_[V]</th>\n",
              "      <th>Voltaje_(RS)_[V]</th>\n",
              "      <th>Voltaje_(ST)_[V]</th>\n",
              "      <th>Voltaje_(TR)_[V]</th>\n",
              "      <th>Corriente_R_[A]</th>\n",
              "      <th>...</th>\n",
              "      <th>Potencia_R_[VAR]</th>\n",
              "      <th>Potencia_S_[VAR]</th>\n",
              "      <th>Potencia_T_[VAR]</th>\n",
              "      <th>Corriente_N_[A]</th>\n",
              "      <th>Frecuencia_[Hz]</th>\n",
              "      <th>Potencia_3F_[VAR]</th>\n",
              "      <th>suma_potencias_W</th>\n",
              "      <th>suma_potencias_VA</th>\n",
              "      <th>factor_total_calculado</th>\n",
              "      <th>anomaly</th>\n",
              "    </tr>\n",
              "  </thead>\n",
              "  <tbody>\n",
              "    <tr>\n",
              "      <th>2020-12-29 02:00:00</th>\n",
              "      <td>656.165</td>\n",
              "      <td>758.895</td>\n",
              "      <td>0.865</td>\n",
              "      <td>128.043</td>\n",
              "      <td>127.538</td>\n",
              "      <td>128.959</td>\n",
              "      <td>220.663</td>\n",
              "      <td>222.8</td>\n",
              "      <td>222.536</td>\n",
              "      <td>1.043</td>\n",
              "      <td>...</td>\n",
              "      <td>-22.357</td>\n",
              "      <td>36.646</td>\n",
              "      <td>-147.48</td>\n",
              "      <td>1.6</td>\n",
              "      <td>59.985</td>\n",
              "      <td>-133.19</td>\n",
              "      <td>656.164</td>\n",
              "      <td>758.894</td>\n",
              "      <td>0.864632</td>\n",
              "      <td>1</td>\n",
              "    </tr>\n",
              "  </tbody>\n",
              "</table>\n",
              "<p>1 rows × 28 columns</p>\n",
              "</div>\n",
              "    <div class=\"colab-df-buttons\">\n",
              "\n",
              "  <div class=\"colab-df-container\">\n",
              "    <button class=\"colab-df-convert\" onclick=\"convertToInteractive('df-80610da3-1b41-4f30-bfe7-f833d7512a0a')\"\n",
              "            title=\"Convert this dataframe to an interactive table.\"\n",
              "            style=\"display:none;\">\n",
              "\n",
              "  <svg xmlns=\"http://www.w3.org/2000/svg\" height=\"24px\" viewBox=\"0 -960 960 960\">\n",
              "    <path d=\"M120-120v-720h720v720H120Zm60-500h600v-160H180v160Zm220 220h160v-160H400v160Zm0 220h160v-160H400v160ZM180-400h160v-160H180v160Zm440 0h160v-160H620v160ZM180-180h160v-160H180v160Zm440 0h160v-160H620v160Z\"/>\n",
              "  </svg>\n",
              "    </button>\n",
              "\n",
              "  <style>\n",
              "    .colab-df-container {\n",
              "      display:flex;\n",
              "      gap: 12px;\n",
              "    }\n",
              "\n",
              "    .colab-df-convert {\n",
              "      background-color: #E8F0FE;\n",
              "      border: none;\n",
              "      border-radius: 50%;\n",
              "      cursor: pointer;\n",
              "      display: none;\n",
              "      fill: #1967D2;\n",
              "      height: 32px;\n",
              "      padding: 0 0 0 0;\n",
              "      width: 32px;\n",
              "    }\n",
              "\n",
              "    .colab-df-convert:hover {\n",
              "      background-color: #E2EBFA;\n",
              "      box-shadow: 0px 1px 2px rgba(60, 64, 67, 0.3), 0px 1px 3px 1px rgba(60, 64, 67, 0.15);\n",
              "      fill: #174EA6;\n",
              "    }\n",
              "\n",
              "    .colab-df-buttons div {\n",
              "      margin-bottom: 4px;\n",
              "    }\n",
              "\n",
              "    [theme=dark] .colab-df-convert {\n",
              "      background-color: #3B4455;\n",
              "      fill: #D2E3FC;\n",
              "    }\n",
              "\n",
              "    [theme=dark] .colab-df-convert:hover {\n",
              "      background-color: #434B5C;\n",
              "      box-shadow: 0px 1px 3px 1px rgba(0, 0, 0, 0.15);\n",
              "      filter: drop-shadow(0px 1px 2px rgba(0, 0, 0, 0.3));\n",
              "      fill: #FFFFFF;\n",
              "    }\n",
              "  </style>\n",
              "\n",
              "    <script>\n",
              "      const buttonEl =\n",
              "        document.querySelector('#df-80610da3-1b41-4f30-bfe7-f833d7512a0a button.colab-df-convert');\n",
              "      buttonEl.style.display =\n",
              "        google.colab.kernel.accessAllowed ? 'block' : 'none';\n",
              "\n",
              "      async function convertToInteractive(key) {\n",
              "        const element = document.querySelector('#df-80610da3-1b41-4f30-bfe7-f833d7512a0a');\n",
              "        const dataTable =\n",
              "          await google.colab.kernel.invokeFunction('convertToInteractive',\n",
              "                                                    [key], {});\n",
              "        if (!dataTable) return;\n",
              "\n",
              "        const docLinkHtml = 'Like what you see? Visit the ' +\n",
              "          '<a target=\"_blank\" href=https://colab.research.google.com/notebooks/data_table.ipynb>data table notebook</a>'\n",
              "          + ' to learn more about interactive tables.';\n",
              "        element.innerHTML = '';\n",
              "        dataTable['output_type'] = 'display_data';\n",
              "        await google.colab.output.renderOutput(dataTable, element);\n",
              "        const docLink = document.createElement('div');\n",
              "        docLink.innerHTML = docLinkHtml;\n",
              "        element.appendChild(docLink);\n",
              "      }\n",
              "    </script>\n",
              "  </div>\n",
              "\n",
              "\n",
              "    </div>\n",
              "  </div>\n"
            ],
            "application/vnd.google.colaboratory.intrinsic+json": {
              "type": "dataframe",
              "variable_name": "df_test"
            }
          },
          "metadata": {},
          "execution_count": 19
        }
      ],
      "source": [
        "df_test.head(1)"
      ]
    },
    {
      "cell_type": "code",
      "execution_count": null,
      "metadata": {
        "colab": {
          "base_uri": "https://localhost:8080/",
          "height": 199
        },
        "id": "2_KrfvM_MW5_",
        "outputId": "b3d58880-4ce3-4e5a-8637-67c06b9a0ae2"
      },
      "outputs": [
        {
          "output_type": "execute_result",
          "data": {
            "text/plain": [
              "                     Potencia_3F_[W]  Potencia_3F_[VA]  Factor de Potencia  \\\n",
              "2020-12-31 23:58:00          702.121           811.937               0.839   \n",
              "\n",
              "                     Voltaje_(R)_[V]  Voltaje_(S)_[V]  Voltaje_(T)_[V]  \\\n",
              "2020-12-31 23:58:00          127.734          128.241          129.285   \n",
              "\n",
              "                     Voltaje_(RS)_[V]  Voltaje_(ST)_[V]  Voltaje_(TR)_[V]  \\\n",
              "2020-12-31 23:58:00           220.938           223.671           222.634   \n",
              "\n",
              "                     Corriente_R_[A]  ...  Potencia_R_[VAR]  Potencia_S_[VAR]  \\\n",
              "2020-12-31 23:58:00             1.07  ...           -21.609            60.951   \n",
              "\n",
              "                     Potencia_T_[VAR]  Corriente_N_[A]  Frecuencia_[Hz]  \\\n",
              "2020-12-31 23:58:00          -154.166            1.584           58.249   \n",
              "\n",
              "                     Potencia_3F_[VAR]  suma_potencias_W  suma_potencias_VA  \\\n",
              "2020-12-31 23:58:00           -114.823           712.963            836.548   \n",
              "\n",
              "                     factor_total_calculado  anomaly  \n",
              "2020-12-31 23:58:00                0.852268        1  \n",
              "\n",
              "[1 rows x 28 columns]"
            ],
            "text/html": [
              "\n",
              "  <div id=\"df-a73081db-ded4-4ba3-aa03-bd3c80851901\" class=\"colab-df-container\">\n",
              "    <div>\n",
              "<style scoped>\n",
              "    .dataframe tbody tr th:only-of-type {\n",
              "        vertical-align: middle;\n",
              "    }\n",
              "\n",
              "    .dataframe tbody tr th {\n",
              "        vertical-align: top;\n",
              "    }\n",
              "\n",
              "    .dataframe thead th {\n",
              "        text-align: right;\n",
              "    }\n",
              "</style>\n",
              "<table border=\"1\" class=\"dataframe\">\n",
              "  <thead>\n",
              "    <tr style=\"text-align: right;\">\n",
              "      <th></th>\n",
              "      <th>Potencia_3F_[W]</th>\n",
              "      <th>Potencia_3F_[VA]</th>\n",
              "      <th>Factor de Potencia</th>\n",
              "      <th>Voltaje_(R)_[V]</th>\n",
              "      <th>Voltaje_(S)_[V]</th>\n",
              "      <th>Voltaje_(T)_[V]</th>\n",
              "      <th>Voltaje_(RS)_[V]</th>\n",
              "      <th>Voltaje_(ST)_[V]</th>\n",
              "      <th>Voltaje_(TR)_[V]</th>\n",
              "      <th>Corriente_R_[A]</th>\n",
              "      <th>...</th>\n",
              "      <th>Potencia_R_[VAR]</th>\n",
              "      <th>Potencia_S_[VAR]</th>\n",
              "      <th>Potencia_T_[VAR]</th>\n",
              "      <th>Corriente_N_[A]</th>\n",
              "      <th>Frecuencia_[Hz]</th>\n",
              "      <th>Potencia_3F_[VAR]</th>\n",
              "      <th>suma_potencias_W</th>\n",
              "      <th>suma_potencias_VA</th>\n",
              "      <th>factor_total_calculado</th>\n",
              "      <th>anomaly</th>\n",
              "    </tr>\n",
              "  </thead>\n",
              "  <tbody>\n",
              "    <tr>\n",
              "      <th>2020-12-31 23:58:00</th>\n",
              "      <td>702.121</td>\n",
              "      <td>811.937</td>\n",
              "      <td>0.839</td>\n",
              "      <td>127.734</td>\n",
              "      <td>128.241</td>\n",
              "      <td>129.285</td>\n",
              "      <td>220.938</td>\n",
              "      <td>223.671</td>\n",
              "      <td>222.634</td>\n",
              "      <td>1.07</td>\n",
              "      <td>...</td>\n",
              "      <td>-21.609</td>\n",
              "      <td>60.951</td>\n",
              "      <td>-154.166</td>\n",
              "      <td>1.584</td>\n",
              "      <td>58.249</td>\n",
              "      <td>-114.823</td>\n",
              "      <td>712.963</td>\n",
              "      <td>836.548</td>\n",
              "      <td>0.852268</td>\n",
              "      <td>1</td>\n",
              "    </tr>\n",
              "  </tbody>\n",
              "</table>\n",
              "<p>1 rows × 28 columns</p>\n",
              "</div>\n",
              "    <div class=\"colab-df-buttons\">\n",
              "\n",
              "  <div class=\"colab-df-container\">\n",
              "    <button class=\"colab-df-convert\" onclick=\"convertToInteractive('df-a73081db-ded4-4ba3-aa03-bd3c80851901')\"\n",
              "            title=\"Convert this dataframe to an interactive table.\"\n",
              "            style=\"display:none;\">\n",
              "\n",
              "  <svg xmlns=\"http://www.w3.org/2000/svg\" height=\"24px\" viewBox=\"0 -960 960 960\">\n",
              "    <path d=\"M120-120v-720h720v720H120Zm60-500h600v-160H180v160Zm220 220h160v-160H400v160Zm0 220h160v-160H400v160ZM180-400h160v-160H180v160Zm440 0h160v-160H620v160ZM180-180h160v-160H180v160Zm440 0h160v-160H620v160Z\"/>\n",
              "  </svg>\n",
              "    </button>\n",
              "\n",
              "  <style>\n",
              "    .colab-df-container {\n",
              "      display:flex;\n",
              "      gap: 12px;\n",
              "    }\n",
              "\n",
              "    .colab-df-convert {\n",
              "      background-color: #E8F0FE;\n",
              "      border: none;\n",
              "      border-radius: 50%;\n",
              "      cursor: pointer;\n",
              "      display: none;\n",
              "      fill: #1967D2;\n",
              "      height: 32px;\n",
              "      padding: 0 0 0 0;\n",
              "      width: 32px;\n",
              "    }\n",
              "\n",
              "    .colab-df-convert:hover {\n",
              "      background-color: #E2EBFA;\n",
              "      box-shadow: 0px 1px 2px rgba(60, 64, 67, 0.3), 0px 1px 3px 1px rgba(60, 64, 67, 0.15);\n",
              "      fill: #174EA6;\n",
              "    }\n",
              "\n",
              "    .colab-df-buttons div {\n",
              "      margin-bottom: 4px;\n",
              "    }\n",
              "\n",
              "    [theme=dark] .colab-df-convert {\n",
              "      background-color: #3B4455;\n",
              "      fill: #D2E3FC;\n",
              "    }\n",
              "\n",
              "    [theme=dark] .colab-df-convert:hover {\n",
              "      background-color: #434B5C;\n",
              "      box-shadow: 0px 1px 3px 1px rgba(0, 0, 0, 0.15);\n",
              "      filter: drop-shadow(0px 1px 2px rgba(0, 0, 0, 0.3));\n",
              "      fill: #FFFFFF;\n",
              "    }\n",
              "  </style>\n",
              "\n",
              "    <script>\n",
              "      const buttonEl =\n",
              "        document.querySelector('#df-a73081db-ded4-4ba3-aa03-bd3c80851901 button.colab-df-convert');\n",
              "      buttonEl.style.display =\n",
              "        google.colab.kernel.accessAllowed ? 'block' : 'none';\n",
              "\n",
              "      async function convertToInteractive(key) {\n",
              "        const element = document.querySelector('#df-a73081db-ded4-4ba3-aa03-bd3c80851901');\n",
              "        const dataTable =\n",
              "          await google.colab.kernel.invokeFunction('convertToInteractive',\n",
              "                                                    [key], {});\n",
              "        if (!dataTable) return;\n",
              "\n",
              "        const docLinkHtml = 'Like what you see? Visit the ' +\n",
              "          '<a target=\"_blank\" href=https://colab.research.google.com/notebooks/data_table.ipynb>data table notebook</a>'\n",
              "          + ' to learn more about interactive tables.';\n",
              "        element.innerHTML = '';\n",
              "        dataTable['output_type'] = 'display_data';\n",
              "        await google.colab.output.renderOutput(dataTable, element);\n",
              "        const docLink = document.createElement('div');\n",
              "        docLink.innerHTML = docLinkHtml;\n",
              "        element.appendChild(docLink);\n",
              "      }\n",
              "    </script>\n",
              "  </div>\n",
              "\n",
              "\n",
              "    </div>\n",
              "  </div>\n"
            ],
            "application/vnd.google.colaboratory.intrinsic+json": {
              "type": "dataframe"
            }
          },
          "metadata": {},
          "execution_count": 20
        }
      ],
      "source": [
        "df_test.tail(1)"
      ]
    },
    {
      "cell_type": "code",
      "execution_count": null,
      "metadata": {
        "id": "N8KFXm4t9FIu"
      },
      "outputs": [],
      "source": [
        "input_sets={\n",
        "    '3F_W':['Potencia_3F_[W]','Corriente_T_[A]','Potencia_T_[VA]'],\n",
        "    '3F_VA':['Potencia_3F_[VA]','Corriente_T_[A]','Potencia_T_[VA]'],\n",
        "    '3F_factor':['Factor de Potencia','Potencia_R_[W]']\n",
        "}"
      ]
    },
    {
      "cell_type": "code",
      "execution_count": null,
      "metadata": {
        "colab": {
          "base_uri": "https://localhost:8080/"
        },
        "id": "YKWekEGX-jdG",
        "outputId": "cef0f517-c725-42b3-b1d6-ec9876701ecd"
      },
      "outputs": [
        {
          "output_type": "execute_result",
          "data": {
            "text/plain": [
              "dict_keys(['3F_W', '3F_VA', '3F_factor'])"
            ]
          },
          "metadata": {},
          "execution_count": 22
        }
      ],
      "source": [
        "input_sets.keys()"
      ]
    },
    {
      "cell_type": "code",
      "execution_count": null,
      "metadata": {
        "id": "8k7dm9rYBJte"
      },
      "outputs": [],
      "source": [
        "ventana_prediccion = [30,15,1]\n",
        "factor_ventana_entrada = [0.5,1,2,4]\n",
        "num_neuronas_set = [50,100,150]\n",
        "batch_size_set = [50,100,150]\n",
        "num_layers_set = [1,2,3]"
      ]
    },
    {
      "cell_type": "code",
      "execution_count": null,
      "metadata": {
        "id": "iUpJEnKmDGSG"
      },
      "outputs": [],
      "source": [
        "from sklearn.preprocessing import MinMaxScaler\n",
        "scaler = MinMaxScaler()"
      ]
    },
    {
      "cell_type": "code",
      "execution_count": null,
      "metadata": {
        "id": "S6fnO_NcDVZX"
      },
      "outputs": [],
      "source": [
        "from keras.preprocessing.sequence import TimeseriesGenerator"
      ]
    },
    {
      "cell_type": "code",
      "execution_count": null,
      "metadata": {
        "id": "0hOL4Ep-EDvh"
      },
      "outputs": [],
      "source": [
        "from sklearn.preprocessing import MinMaxScaler\n",
        "from tensorflow.keras.models import Sequential\n",
        "from tensorflow.keras.layers import Dense,LSTM,Activation, GRU\n",
        "from tensorflow import keras\n",
        "import tensorflow as tf"
      ]
    },
    {
      "cell_type": "code",
      "execution_count": null,
      "metadata": {
        "id": "FH0mMiCsEAaG"
      },
      "outputs": [],
      "source": [
        "def create_Model(n_input, LSTM_neurons = 100, layers=3,n_features=0,n_output=1):\n",
        "  # define model\n",
        "  model = Sequential()\n",
        "  if(layers>1):\n",
        "    model.add(GRU(LSTM_neurons, activation='relu', input_shape=(n_input, n_features+1),return_sequences=True))\n",
        "    for i in range(layers-2):\n",
        "        model.add(GRU(LSTM_neurons, activation='relu',return_sequences=True))\n",
        "    model.add(GRU(LSTM_neurons, activation='relu'))\n",
        "  else:\n",
        "    model.add(GRU(LSTM_neurons, activation='relu', input_shape=(n_input, n_features+1)))\n",
        "  model.add(Dense(n_output))\n",
        "  model.compile(optimizer='adam', loss='mse')\n",
        "  return model"
      ]
    },
    {
      "cell_type": "code",
      "execution_count": null,
      "metadata": {
        "id": "uENL9WskNyWU"
      },
      "outputs": [],
      "source": [
        "def get_XY(scaled_data,past_hours,prediction_window):\n",
        "  # Prepare the dataset with lagged features\n",
        "  X, y = [], []\n",
        "  n = past_hours\n",
        "  pw = prediction_window\n",
        "  for i in range(n, len(scaled_data)-pw):\n",
        "      X.append(scaled_data[i-n:i, :])  # Use predictor variables for each timestep\n",
        "      y.append(scaled_data[i:i+pw, 0])  # X0 is the target variable\n",
        "  X_train = np.array(X)\n",
        "  y_train = np.array(y)\n",
        "  X_train_flattened = X_train#.reshape(X_train.shape[0], -1)\n",
        "  y_train_flattened = y_train.reshape(y_train.shape[0], -1)\n",
        "  return X_train_flattened, y_train_flattened"
      ]
    },
    {
      "cell_type": "code",
      "execution_count": null,
      "metadata": {
        "id": "fpe0CauRYpfE"
      },
      "outputs": [],
      "source": [
        "combinaciones_anteriores = []"
      ]
    },
    {
      "cell_type": "code",
      "execution_count": null,
      "metadata": {
        "id": "U8hFSIUipIlV"
      },
      "outputs": [],
      "source": [
        "gsearch_path = os.path.join(folder_path, f'investigacion/grid_search2/GS_GRU_m_3F_W.txt')\n",
        "with open(gsearch_path,'r') as fp:\n",
        "    for line in fp:\n",
        "      combinaciones_anteriores.append(json.loads(line))"
      ]
    },
    {
      "cell_type": "code",
      "execution_count": null,
      "metadata": {
        "id": "e0_HWNOYo5Rs"
      },
      "outputs": [],
      "source": [
        "gsearch_path = os.path.join(folder_path, f'investigacion/grid_search2/GS_GRU_m_3F_VA.txt')\n",
        "with open(gsearch_path,'r') as fp:\n",
        "    for line in fp:\n",
        "      combinaciones_anteriores.append(json.loads(line))"
      ]
    },
    {
      "cell_type": "code",
      "execution_count": null,
      "metadata": {
        "id": "WsKIGSjyTv7s"
      },
      "outputs": [],
      "source": [
        "gsearch_path = os.path.join(folder_path, f'investigacion/grid_search2/GS_GRU_m_3F_factor.txt')\n",
        "with open(gsearch_path,'r') as fp:\n",
        "    for line in fp:\n",
        "      combinaciones_anteriores.append(json.loads(line))"
      ]
    },
    {
      "cell_type": "code",
      "execution_count": null,
      "metadata": {
        "colab": {
          "base_uri": "https://localhost:8080/"
        },
        "id": "PPC4FiP8pWoR",
        "outputId": "871537ed-0333-4866-959b-d48324dfd4cd"
      },
      "outputs": [
        {
          "output_type": "execute_result",
          "data": {
            "text/plain": [
              "[{'Model': 'GRU',\n",
              "  'RMSE': 0.04342203911235628,\n",
              "  'Fuente': '3F_factor',\n",
              "  'n_input': 120,\n",
              "  'n_output': 30,\n",
              "  'num_neuronas': 100,\n",
              "  'batch_size': 50,\n",
              "  'num_layers': 3,\n",
              "  'MSE': 0.0018854734806749984},\n",
              " {'Model': 'GRU',\n",
              "  'RMSE': 0.04286039301911234,\n",
              "  'Fuente': '3F_factor',\n",
              "  'n_input': 120,\n",
              "  'n_output': 30,\n",
              "  'num_neuronas': 100,\n",
              "  'batch_size': 100,\n",
              "  'num_layers': 3,\n",
              "  'MSE': 0.0018370132897527736}]"
            ]
          },
          "metadata": {},
          "execution_count": 33
        }
      ],
      "source": [
        "combinaciones_anteriores[-2:]"
      ]
    },
    {
      "cell_type": "code",
      "execution_count": null,
      "metadata": {
        "id": "z9J_AWOvVs1k"
      },
      "outputs": [],
      "source": [
        "min_error = 1000000"
      ]
    },
    {
      "cell_type": "code",
      "execution_count": null,
      "metadata": {
        "id": "_DXPN-n-p_4u"
      },
      "outputs": [],
      "source": [
        "string_list = []"
      ]
    },
    {
      "cell_type": "code",
      "execution_count": null,
      "metadata": {
        "id": "nJu0xcgXCnUg"
      },
      "outputs": [],
      "source": [
        "last_result = combinaciones_anteriores[-1]"
      ]
    },
    {
      "cell_type": "code",
      "execution_count": null,
      "metadata": {
        "id": "fyjfMITEpiAe"
      },
      "outputs": [],
      "source": [
        "for result in combinaciones_anteriores:\n",
        "  current_string = ''\n",
        "  for key in result.keys():\n",
        "    if 'MSE' not in key:\n",
        "      current_string+=str(result[key])\n",
        "  string_list.append(current_string)\n",
        "  if (result['RMSE']<min_error and\n",
        "    result['n_output']==last_result['n_output'] and\n",
        "    result['Fuente']==last_result['Fuente']):\n",
        "    min_error = result['RMSE']"
      ]
    },
    {
      "cell_type": "code",
      "execution_count": null,
      "metadata": {
        "colab": {
          "base_uri": "https://localhost:8080/"
        },
        "id": "JlL05vPnp77K",
        "outputId": "822f0f98-6cba-44ed-b799-c65354712ea9"
      },
      "outputs": [
        {
          "output_type": "execute_result",
          "data": {
            "text/plain": [
              "['GRU3F_factor12030100502',\n",
              " 'GRU3F_factor120301001002',\n",
              " 'GRU3F_factor120301001502',\n",
              " 'GRU3F_factor12030100503',\n",
              " 'GRU3F_factor120301001003']"
            ]
          },
          "metadata": {},
          "execution_count": 38
        }
      ],
      "source": [
        "string_list[-5:]"
      ]
    },
    {
      "cell_type": "code",
      "execution_count": null,
      "metadata": {
        "colab": {
          "base_uri": "https://localhost:8080/"
        },
        "id": "RsLdXvgZr8Ym",
        "outputId": "32ba072a-afaa-4d2b-f45f-a4e10ba22bbc"
      },
      "outputs": [
        {
          "output_type": "execute_result",
          "data": {
            "text/plain": [
              "0.04078991100870553"
            ]
          },
          "metadata": {},
          "execution_count": 39
        }
      ],
      "source": [
        "min_error"
      ]
    },
    {
      "cell_type": "code",
      "execution_count": null,
      "metadata": {
        "colab": {
          "base_uri": "https://localhost:8080/"
        },
        "id": "3egaLrSzsANL",
        "outputId": "d358147e-1538-4145-efe6-9ff8c9f85b3d"
      },
      "outputs": [
        {
          "output_type": "execute_result",
          "data": {
            "text/plain": [
              "dict_keys(['Model', 'RMSE', 'Fuente', 'n_input', 'n_output', 'num_neuronas', 'batch_size', 'num_layers', 'MSE'])"
            ]
          },
          "metadata": {},
          "execution_count": 40
        }
      ],
      "source": [
        "result.keys()"
      ]
    },
    {
      "cell_type": "code",
      "execution_count": null,
      "metadata": {
        "id": "ezWtHDWmCcXb"
      },
      "outputs": [],
      "source": [
        "last_n_output=last_result['n_output']"
      ]
    },
    {
      "cell_type": "code",
      "execution_count": null,
      "metadata": {
        "id": "hEftBCFebnwI"
      },
      "outputs": [],
      "source": [
        "last_iset = last_result['Fuente']"
      ]
    },
    {
      "cell_type": "code",
      "execution_count": null,
      "metadata": {
        "id": "ERTDWxMtCjbw"
      },
      "outputs": [],
      "source": [
        "last_min_err = min_error"
      ]
    },
    {
      "cell_type": "code",
      "execution_count": null,
      "metadata": {
        "colab": {
          "base_uri": "https://localhost:8080/"
        },
        "id": "v9SwDb1HCpb4",
        "outputId": "fe183364-fdfd-4a72-c17b-5a420db42a2e"
      },
      "outputs": [
        {
          "output_type": "execute_result",
          "data": {
            "text/plain": [
              "0.04078991100870553"
            ]
          },
          "metadata": {},
          "execution_count": 44
        }
      ],
      "source": [
        "last_min_err"
      ]
    },
    {
      "cell_type": "code",
      "execution_count": null,
      "metadata": {
        "colab": {
          "base_uri": "https://localhost:8080/"
        },
        "id": "GaIo9eto-JLm",
        "outputId": "7fe08acf-2a6a-4f3c-907d-d94043969d39"
      },
      "outputs": [
        {
          "output_type": "stream",
          "name": "stdout",
          "text": [
            "Current options: 3F_factor/120/30/100/150/3/best:0.04078991100870553\n",
            "{'Model': 'GRU', 'RMSE': 0.05623257431653925, 'Fuente': '3F_factor', 'n_input': 120, 'n_output': 30, 'num_neuronas': 100, 'batch_size': 150, 'num_layers': 3, 'MSE': 0.003162102414265109}\n",
            "Current options: 3F_factor/120/30/150/50/1/best:0.04078991100870553\n",
            "{'Model': 'GRU', 'RMSE': 0.04259364940347359, 'Fuente': '3F_factor', 'n_input': 120, 'n_output': 30, 'num_neuronas': 150, 'batch_size': 50, 'num_layers': 1, 'MSE': 0.0018142189695060263}\n",
            "Current options: 3F_factor/120/30/150/100/1/best:0.04078991100870553\n",
            "{'Model': 'GRU', 'RMSE': 0.04289270770185432, 'Fuente': '3F_factor', 'n_input': 120, 'n_output': 30, 'num_neuronas': 150, 'batch_size': 100, 'num_layers': 1, 'MSE': 0.001839784373996713}\n",
            "Current options: 3F_factor/120/30/150/150/1/best:0.04078991100870553\n",
            "{'Model': 'GRU', 'RMSE': 0.041666644173799935, 'Fuente': '3F_factor', 'n_input': 120, 'n_output': 30, 'num_neuronas': 150, 'batch_size': 150, 'num_layers': 1, 'MSE': 0.001736109236706056}\n",
            "Current options: 3F_factor/120/30/150/50/2/best:0.04078991100870553\n",
            "{'Model': 'GRU', 'RMSE': 0.07292647893015766, 'Fuente': '3F_factor', 'n_input': 120, 'n_output': 30, 'num_neuronas': 150, 'batch_size': 50, 'num_layers': 2, 'MSE': 0.0053182713291507295}\n",
            "Current options: 3F_factor/120/30/150/100/2/best:0.04078991100870553\n",
            "{'Model': 'GRU', 'RMSE': 0.04684656147980195, 'Fuente': '3F_factor', 'n_input': 120, 'n_output': 30, 'num_neuronas': 150, 'batch_size': 100, 'num_layers': 2, 'MSE': 0.0021946003224808637}\n",
            "Current options: 3F_factor/120/30/150/150/2/best:0.04078991100870553\n",
            "{'Model': 'GRU', 'RMSE': 0.04155839900354356, 'Fuente': '3F_factor', 'n_input': 120, 'n_output': 30, 'num_neuronas': 150, 'batch_size': 150, 'num_layers': 2, 'MSE': 0.0017271005277377301}\n",
            "Current options: 3F_factor/120/30/150/50/3/best:0.04078991100870553\n",
            "{'Model': 'GRU', 'RMSE': 4.999553561940463, 'Fuente': '3F_factor', 'n_input': 120, 'n_output': 30, 'num_neuronas': 150, 'batch_size': 50, 'num_layers': 3, 'MSE': 24.995535818711566}\n",
            "Current options: 3F_factor/120/30/150/100/3/best:0.04078991100870553\n",
            "{'Model': 'GRU', 'RMSE': 0.08353971159137981, 'Fuente': '3F_factor', 'n_input': 120, 'n_output': 30, 'num_neuronas': 150, 'batch_size': 100, 'num_layers': 3, 'MSE': 0.006978883412770917}\n",
            "Current options: 3F_factor/120/30/150/150/3/best:0.04078991100870553\n",
            "{'Model': 'GRU', 'RMSE': 0.042117667474699104, 'Fuente': '3F_factor', 'n_input': 120, 'n_output': 30, 'num_neuronas': 150, 'batch_size': 150, 'num_layers': 3, 'MSE': 0.001773897913509327}\n",
            "Current options: 3F_factor/7/15/50/50/1/best:100000\n",
            "BEST\n",
            "{'Model': 'GRU', 'RMSE': 0.03656731450258035, 'Fuente': '3F_factor', 'n_input': 7, 'n_output': 15, 'num_neuronas': 50, 'batch_size': 50, 'num_layers': 1, 'MSE': 0.001337168489930623}\n",
            "Current options: 3F_factor/7/15/50/100/1/best:0.03656731450258035\n"
          ]
        },
        {
          "output_type": "stream",
          "name": "stderr",
          "text": [
            "/usr/local/lib/python3.10/dist-packages/keras/src/engine/training.py:3103: UserWarning: You are saving your model as an HDF5 file via `model.save()`. This file format is considered legacy. We recommend using instead the native Keras format, e.g. `model.save('my_model.keras')`.\n",
            "  saving_api.save_model(\n"
          ]
        },
        {
          "output_type": "stream",
          "name": "stdout",
          "text": [
            "BEST\n",
            "{'Model': 'GRU', 'RMSE': 0.036423599380658984, 'Fuente': '3F_factor', 'n_input': 7, 'n_output': 15, 'num_neuronas': 50, 'batch_size': 100, 'num_layers': 1, 'MSE': 0.0013266785918427415}\n",
            "Current options: 3F_factor/7/15/50/150/1/best:0.036423599380658984\n"
          ]
        },
        {
          "output_type": "stream",
          "name": "stderr",
          "text": [
            "/usr/local/lib/python3.10/dist-packages/keras/src/engine/training.py:3103: UserWarning: You are saving your model as an HDF5 file via `model.save()`. This file format is considered legacy. We recommend using instead the native Keras format, e.g. `model.save('my_model.keras')`.\n",
            "  saving_api.save_model(\n"
          ]
        },
        {
          "output_type": "stream",
          "name": "stdout",
          "text": [
            "{'Model': 'GRU', 'RMSE': 0.03867489005047885, 'Fuente': '3F_factor', 'n_input': 7, 'n_output': 15, 'num_neuronas': 50, 'batch_size': 150, 'num_layers': 1, 'MSE': 0.0014957471204166278}\n",
            "Current options: 3F_factor/7/15/50/50/2/best:0.036423599380658984\n",
            "BEST\n"
          ]
        },
        {
          "output_type": "stream",
          "name": "stderr",
          "text": [
            "/usr/local/lib/python3.10/dist-packages/keras/src/engine/training.py:3103: UserWarning: You are saving your model as an HDF5 file via `model.save()`. This file format is considered legacy. We recommend using instead the native Keras format, e.g. `model.save('my_model.keras')`.\n",
            "  saving_api.save_model(\n"
          ]
        },
        {
          "output_type": "stream",
          "name": "stdout",
          "text": [
            "{'Model': 'GRU', 'RMSE': 0.0356572810819174, 'Fuente': '3F_factor', 'n_input': 7, 'n_output': 15, 'num_neuronas': 50, 'batch_size': 50, 'num_layers': 2, 'MSE': 0.0012714416941548646}\n",
            "Current options: 3F_factor/7/15/50/100/2/best:0.0356572810819174\n",
            "{'Model': 'GRU', 'RMSE': 0.038590620276448835, 'Fuente': '3F_factor', 'n_input': 7, 'n_output': 15, 'num_neuronas': 50, 'batch_size': 100, 'num_layers': 2, 'MSE': 0.001489235973321064}\n",
            "Current options: 3F_factor/7/15/50/150/2/best:0.0356572810819174\n",
            "{'Model': 'GRU', 'RMSE': 0.039889051643788295, 'Fuente': '3F_factor', 'n_input': 7, 'n_output': 15, 'num_neuronas': 50, 'batch_size': 150, 'num_layers': 2, 'MSE': 0.0015911364410408095}\n",
            "Current options: 3F_factor/7/15/50/50/3/best:0.0356572810819174\n",
            "{'Model': 'GRU', 'RMSE': 0.0393089824730138, 'Fuente': '3F_factor', 'n_input': 7, 'n_output': 15, 'num_neuronas': 50, 'batch_size': 50, 'num_layers': 3, 'MSE': 0.001545196103063706}\n",
            "Current options: 3F_factor/7/15/50/100/3/best:0.0356572810819174\n",
            "{'Model': 'GRU', 'RMSE': 0.03589090057718496, 'Fuente': '3F_factor', 'n_input': 7, 'n_output': 15, 'num_neuronas': 50, 'batch_size': 100, 'num_layers': 3, 'MSE': 0.0012881567442413761}\n",
            "Current options: 3F_factor/7/15/50/150/3/best:0.0356572810819174\n",
            "{'Model': 'GRU', 'RMSE': 0.03747055516692552, 'Fuente': '3F_factor', 'n_input': 7, 'n_output': 15, 'num_neuronas': 50, 'batch_size': 150, 'num_layers': 3, 'MSE': 0.0014040425045176086}\n",
            "Current options: 3F_factor/7/15/100/50/1/best:0.0356572810819174\n",
            "{'Model': 'GRU', 'RMSE': 0.0376863738012636, 'Fuente': '3F_factor', 'n_input': 7, 'n_output': 15, 'num_neuronas': 100, 'batch_size': 50, 'num_layers': 1, 'MSE': 0.0014202627702885671}\n",
            "Current options: 3F_factor/7/15/100/100/1/best:0.0356572810819174\n",
            "{'Model': 'GRU', 'RMSE': 0.038832517753586586, 'Fuente': '3F_factor', 'n_input': 7, 'n_output': 15, 'num_neuronas': 100, 'batch_size': 100, 'num_layers': 1, 'MSE': 0.0015079644350826176}\n",
            "Current options: 3F_factor/7/15/100/150/1/best:0.0356572810819174\n",
            "{'Model': 'GRU', 'RMSE': 0.036100687176738026, 'Fuente': '3F_factor', 'n_input': 7, 'n_output': 15, 'num_neuronas': 100, 'batch_size': 150, 'num_layers': 1, 'MSE': 0.0013032596146326976}\n",
            "Current options: 3F_factor/7/15/100/50/2/best:0.0356572810819174\n",
            "BEST\n"
          ]
        },
        {
          "output_type": "stream",
          "name": "stderr",
          "text": [
            "/usr/local/lib/python3.10/dist-packages/keras/src/engine/training.py:3103: UserWarning: You are saving your model as an HDF5 file via `model.save()`. This file format is considered legacy. We recommend using instead the native Keras format, e.g. `model.save('my_model.keras')`.\n",
            "  saving_api.save_model(\n"
          ]
        },
        {
          "output_type": "stream",
          "name": "stdout",
          "text": [
            "{'Model': 'GRU', 'RMSE': 0.03553295160057684, 'Fuente': '3F_factor', 'n_input': 7, 'n_output': 15, 'num_neuronas': 100, 'batch_size': 50, 'num_layers': 2, 'MSE': 0.0012625906494489363}\n",
            "Current options: 3F_factor/7/15/100/100/2/best:0.03553295160057684\n",
            "BEST\n"
          ]
        },
        {
          "output_type": "stream",
          "name": "stderr",
          "text": [
            "/usr/local/lib/python3.10/dist-packages/keras/src/engine/training.py:3103: UserWarning: You are saving your model as an HDF5 file via `model.save()`. This file format is considered legacy. We recommend using instead the native Keras format, e.g. `model.save('my_model.keras')`.\n",
            "  saving_api.save_model(\n"
          ]
        },
        {
          "output_type": "stream",
          "name": "stdout",
          "text": [
            "{'Model': 'GRU', 'RMSE': 0.03518110190496202, 'Fuente': '3F_factor', 'n_input': 7, 'n_output': 15, 'num_neuronas': 100, 'batch_size': 100, 'num_layers': 2, 'MSE': 0.0012377099312473226}\n",
            "Current options: 3F_factor/7/15/100/150/2/best:0.03518110190496202\n",
            "{'Model': 'GRU', 'RMSE': 0.03690167096404548, 'Fuente': '3F_factor', 'n_input': 7, 'n_output': 15, 'num_neuronas': 100, 'batch_size': 150, 'num_layers': 2, 'MSE': 0.0013617333199386775}\n",
            "Current options: 3F_factor/7/15/100/50/3/best:0.03518110190496202\n",
            "{'Model': 'GRU', 'RMSE': 0.03630322936439987, 'Fuente': '3F_factor', 'n_input': 7, 'n_output': 15, 'num_neuronas': 100, 'batch_size': 50, 'num_layers': 3, 'MSE': 0.001317924462284225}\n",
            "Current options: 3F_factor/7/15/100/100/3/best:0.03518110190496202\n",
            "{'Model': 'GRU', 'RMSE': 0.03757439694104999, 'Fuente': '3F_factor', 'n_input': 7, 'n_output': 15, 'num_neuronas': 100, 'batch_size': 100, 'num_layers': 3, 'MSE': 0.0014118353054835867}\n",
            "Current options: 3F_factor/7/15/100/150/3/best:0.03518110190496202\n",
            "{'Model': 'GRU', 'RMSE': 0.03936017781885902, 'Fuente': '3F_factor', 'n_input': 7, 'n_output': 15, 'num_neuronas': 100, 'batch_size': 150, 'num_layers': 3, 'MSE': 0.0015492235979322015}\n",
            "Current options: 3F_factor/7/15/150/50/1/best:0.03518110190496202\n",
            "{'Model': 'GRU', 'RMSE': 0.03561719659645517, 'Fuente': '3F_factor', 'n_input': 7, 'n_output': 15, 'num_neuronas': 150, 'batch_size': 50, 'num_layers': 1, 'MSE': 0.0012685846933905376}\n",
            "Current options: 3F_factor/7/15/150/100/1/best:0.03518110190496202\n",
            "{'Model': 'GRU', 'RMSE': 0.036024864048854265, 'Fuente': '3F_factor', 'n_input': 7, 'n_output': 15, 'num_neuronas': 150, 'batch_size': 100, 'num_layers': 1, 'MSE': 0.0012977908297384325}\n",
            "Current options: 3F_factor/7/15/150/150/1/best:0.03518110190496202\n",
            "{'Model': 'GRU', 'RMSE': 0.035486149527906595, 'Fuente': '3F_factor', 'n_input': 7, 'n_output': 15, 'num_neuronas': 150, 'batch_size': 150, 'num_layers': 1, 'MSE': 0.0012592668083169453}\n",
            "Current options: 3F_factor/7/15/150/50/2/best:0.03518110190496202\n",
            "{'Model': 'GRU', 'RMSE': 0.03580516437385714, 'Fuente': '3F_factor', 'n_input': 7, 'n_output': 15, 'num_neuronas': 150, 'batch_size': 50, 'num_layers': 2, 'MSE': 0.0012820097958389286}\n",
            "Current options: 3F_factor/7/15/150/100/2/best:0.03518110190496202\n",
            "{'Model': 'GRU', 'RMSE': 0.03971435673362954, 'Fuente': '3F_factor', 'n_input': 7, 'n_output': 15, 'num_neuronas': 150, 'batch_size': 100, 'num_layers': 2, 'MSE': 0.001577230130765986}\n",
            "Current options: 3F_factor/7/15/150/150/2/best:0.03518110190496202\n",
            "{'Model': 'GRU', 'RMSE': 0.03855144416310021, 'Fuente': '3F_factor', 'n_input': 7, 'n_output': 15, 'num_neuronas': 150, 'batch_size': 150, 'num_layers': 2, 'MSE': 0.0014862138470606331}\n",
            "Current options: 3F_factor/7/15/150/50/3/best:0.03518110190496202\n",
            "{'Model': 'GRU', 'RMSE': 0.04137033749602381, 'Fuente': '3F_factor', 'n_input': 7, 'n_output': 15, 'num_neuronas': 150, 'batch_size': 50, 'num_layers': 3, 'MSE': 0.001711504824534914}\n",
            "Current options: 3F_factor/7/15/150/100/3/best:0.03518110190496202\n",
            "{'Model': 'GRU', 'RMSE': 0.04303580600777474, 'Fuente': '3F_factor', 'n_input': 7, 'n_output': 15, 'num_neuronas': 150, 'batch_size': 100, 'num_layers': 3, 'MSE': 0.0018520805987388205}\n",
            "Current options: 3F_factor/7/15/150/150/3/best:0.03518110190496202\n",
            "{'Model': 'GRU', 'RMSE': 0.04173133500894407, 'Fuente': '3F_factor', 'n_input': 7, 'n_output': 15, 'num_neuronas': 150, 'batch_size': 150, 'num_layers': 3, 'MSE': 0.001741504321628721}\n",
            "Current options: 3F_factor/15/15/50/50/1/best:0.03518110190496202\n",
            "BEST\n",
            "{'Model': 'GRU', 'RMSE': 0.03506594472682023, 'Fuente': '3F_factor', 'n_input': 15, 'n_output': 15, 'num_neuronas': 50, 'batch_size': 50, 'num_layers': 1, 'MSE': 0.0012296204795844117}\n",
            "Current options: 3F_factor/15/15/50/100/1/best:0.03506594472682023\n"
          ]
        },
        {
          "output_type": "stream",
          "name": "stderr",
          "text": [
            "/usr/local/lib/python3.10/dist-packages/keras/src/engine/training.py:3103: UserWarning: You are saving your model as an HDF5 file via `model.save()`. This file format is considered legacy. We recommend using instead the native Keras format, e.g. `model.save('my_model.keras')`.\n",
            "  saving_api.save_model(\n"
          ]
        },
        {
          "output_type": "stream",
          "name": "stdout",
          "text": [
            "{'Model': 'GRU', 'RMSE': 0.03747843714340791, 'Fuente': '3F_factor', 'n_input': 15, 'n_output': 15, 'num_neuronas': 50, 'batch_size': 100, 'num_layers': 1, 'MSE': 0.0014046332507123777}\n",
            "Current options: 3F_factor/15/15/50/150/1/best:0.03506594472682023\n",
            "{'Model': 'GRU', 'RMSE': 0.036750088147118, 'Fuente': '3F_factor', 'n_input': 15, 'n_output': 15, 'num_neuronas': 50, 'batch_size': 150, 'num_layers': 1, 'MSE': 0.0013505689788209426}\n",
            "Current options: 3F_factor/15/15/50/50/2/best:0.03506594472682023\n",
            "BEST\n"
          ]
        },
        {
          "output_type": "stream",
          "name": "stderr",
          "text": [
            "/usr/local/lib/python3.10/dist-packages/keras/src/engine/training.py:3103: UserWarning: You are saving your model as an HDF5 file via `model.save()`. This file format is considered legacy. We recommend using instead the native Keras format, e.g. `model.save('my_model.keras')`.\n",
            "  saving_api.save_model(\n"
          ]
        },
        {
          "output_type": "stream",
          "name": "stdout",
          "text": [
            "{'Model': 'GRU', 'RMSE': 0.03336749551322319, 'Fuente': '3F_factor', 'n_input': 15, 'n_output': 15, 'num_neuronas': 50, 'batch_size': 50, 'num_layers': 2, 'MSE': 0.0011133897568249697}\n",
            "Current options: 3F_factor/15/15/50/100/2/best:0.03336749551322319\n",
            "{'Model': 'GRU', 'RMSE': 0.03651327652020207, 'Fuente': '3F_factor', 'n_input': 15, 'n_output': 15, 'num_neuronas': 50, 'batch_size': 100, 'num_layers': 2, 'MSE': 0.0013332193622407399}\n",
            "Current options: 3F_factor/15/15/50/150/2/best:0.03336749551322319\n",
            "{'Model': 'GRU', 'RMSE': 0.03771522152107729, 'Fuente': '3F_factor', 'n_input': 15, 'n_output': 15, 'num_neuronas': 50, 'batch_size': 150, 'num_layers': 2, 'MSE': 0.001422437934383932}\n",
            "Current options: 3F_factor/15/15/50/50/3/best:0.03336749551322319\n",
            "{'Model': 'GRU', 'RMSE': 0.034501109097329, 'Fuente': '3F_factor', 'n_input': 15, 'n_output': 15, 'num_neuronas': 50, 'batch_size': 50, 'num_layers': 3, 'MSE': 0.0011903265289457978}\n",
            "Current options: 3F_factor/15/15/50/100/3/best:0.03336749551322319\n",
            "{'Model': 'GRU', 'RMSE': 0.036076165123102376, 'Fuente': '3F_factor', 'n_input': 15, 'n_output': 15, 'num_neuronas': 50, 'batch_size': 100, 'num_layers': 3, 'MSE': 0.0013014896899893485}\n",
            "Current options: 3F_factor/15/15/50/150/3/best:0.03336749551322319\n",
            "{'Model': 'GRU', 'RMSE': 0.037499150420841385, 'Fuente': '3F_factor', 'n_input': 15, 'n_output': 15, 'num_neuronas': 50, 'batch_size': 150, 'num_layers': 3, 'MSE': 0.0014061862822848884}\n",
            "Current options: 3F_factor/15/15/100/50/1/best:0.03336749551322319\n",
            "{'Model': 'GRU', 'RMSE': 0.03903318801155167, 'Fuente': '3F_factor', 'n_input': 15, 'n_output': 15, 'num_neuronas': 100, 'batch_size': 50, 'num_layers': 1, 'MSE': 0.001523589766345141}\n",
            "Current options: 3F_factor/15/15/100/100/1/best:0.03336749551322319\n",
            "{'Model': 'GRU', 'RMSE': 0.036372597479878824, 'Fuente': '3F_factor', 'n_input': 15, 'n_output': 15, 'num_neuronas': 100, 'batch_size': 100, 'num_layers': 1, 'MSE': 0.0013229658474332876}\n",
            "Current options: 3F_factor/15/15/100/150/1/best:0.03336749551322319\n",
            "{'Model': 'GRU', 'RMSE': 0.037454078408221465, 'Fuente': '3F_factor', 'n_input': 15, 'n_output': 15, 'num_neuronas': 100, 'batch_size': 150, 'num_layers': 1, 'MSE': 0.0014028079894092015}\n",
            "Current options: 3F_factor/15/15/100/50/2/best:0.03336749551322319\n",
            "{'Model': 'GRU', 'RMSE': 0.038368752403163786, 'Fuente': '3F_factor', 'n_input': 15, 'n_output': 15, 'num_neuronas': 100, 'batch_size': 50, 'num_layers': 2, 'MSE': 0.0014721611609752867}\n",
            "Current options: 3F_factor/15/15/100/100/2/best:0.03336749551322319\n",
            "{'Model': 'GRU', 'RMSE': 0.03641731571565445, 'Fuente': '3F_factor', 'n_input': 15, 'n_output': 15, 'num_neuronas': 100, 'batch_size': 100, 'num_layers': 2, 'MSE': 0.0013262208839336525}\n",
            "Current options: 3F_factor/15/15/100/150/2/best:0.03336749551322319\n",
            "{'Model': 'GRU', 'RMSE': 0.03505950691738541, 'Fuente': '3F_factor', 'n_input': 15, 'n_output': 15, 'num_neuronas': 100, 'batch_size': 150, 'num_layers': 2, 'MSE': 0.0012291690252901955}\n",
            "Current options: 3F_factor/15/15/100/50/3/best:0.03336749551322319\n",
            "{'Model': 'GRU', 'RMSE': 0.04359008344262524, 'Fuente': '3F_factor', 'n_input': 15, 'n_output': 15, 'num_neuronas': 100, 'batch_size': 50, 'num_layers': 3, 'MSE': 0.0019000953745350311}\n",
            "Current options: 3F_factor/15/15/100/100/3/best:0.03336749551322319\n",
            "{'Model': 'GRU', 'RMSE': 0.049071731774604894, 'Fuente': '3F_factor', 'n_input': 15, 'n_output': 15, 'num_neuronas': 100, 'batch_size': 100, 'num_layers': 3, 'MSE': 0.0024080348593587676}\n",
            "Current options: 3F_factor/15/15/100/150/3/best:0.03336749551322319\n",
            "{'Model': 'GRU', 'RMSE': 0.042126832195608005, 'Fuente': '3F_factor', 'n_input': 15, 'n_output': 15, 'num_neuronas': 100, 'batch_size': 150, 'num_layers': 3, 'MSE': 0.0017746699908369153}\n",
            "Current options: 3F_factor/15/15/150/50/1/best:0.03336749551322319\n",
            "{'Model': 'GRU', 'RMSE': 0.03419744395464805, 'Fuente': '3F_factor', 'n_input': 15, 'n_output': 15, 'num_neuronas': 150, 'batch_size': 50, 'num_layers': 1, 'MSE': 0.0011694651730312945}\n",
            "Current options: 3F_factor/15/15/150/100/1/best:0.03336749551322319\n",
            "{'Model': 'GRU', 'RMSE': 0.037642720494830056, 'Fuente': '3F_factor', 'n_input': 15, 'n_output': 15, 'num_neuronas': 150, 'batch_size': 100, 'num_layers': 1, 'MSE': 0.0014169744062518988}\n",
            "Current options: 3F_factor/15/15/150/150/1/best:0.03336749551322319\n",
            "{'Model': 'GRU', 'RMSE': 0.03602262860292984, 'Fuente': '3F_factor', 'n_input': 15, 'n_output': 15, 'num_neuronas': 150, 'batch_size': 150, 'num_layers': 1, 'MSE': 0.0012976297714646188}\n",
            "Current options: 3F_factor/15/15/150/50/2/best:0.03336749551322319\n",
            "{'Model': 'GRU', 'RMSE': 0.04602455562428559, 'Fuente': '3F_factor', 'n_input': 15, 'n_output': 15, 'num_neuronas': 150, 'batch_size': 50, 'num_layers': 2, 'MSE': 0.0021182597204129584}\n",
            "Current options: 3F_factor/15/15/150/100/2/best:0.03336749551322319\n",
            "{'Model': 'GRU', 'RMSE': 0.03894674835630825, 'Fuente': '3F_factor', 'n_input': 15, 'n_output': 15, 'num_neuronas': 150, 'batch_size': 100, 'num_layers': 2, 'MSE': 0.0015168492075295996}\n",
            "Current options: 3F_factor/15/15/150/150/2/best:0.03336749551322319\n",
            "{'Model': 'GRU', 'RMSE': 0.03606919270765829, 'Fuente': '3F_factor', 'n_input': 15, 'n_output': 15, 'num_neuronas': 150, 'batch_size': 150, 'num_layers': 2, 'MSE': 0.0013009866625821901}\n",
            "Current options: 3F_factor/15/15/150/50/3/best:0.03336749551322319\n",
            "{'Model': 'GRU', 'RMSE': 0.03807851009519904, 'Fuente': '3F_factor', 'n_input': 15, 'n_output': 15, 'num_neuronas': 150, 'batch_size': 50, 'num_layers': 3, 'MSE': 0.001449972931070175}\n",
            "Current options: 3F_factor/15/15/150/100/3/best:0.03336749551322319\n",
            "{'Model': 'GRU', 'RMSE': 0.04049355732695231, 'Fuente': '3F_factor', 'n_input': 15, 'n_output': 15, 'num_neuronas': 150, 'batch_size': 100, 'num_layers': 3, 'MSE': 0.001639728184991173}\n",
            "Current options: 3F_factor/15/15/150/150/3/best:0.03336749551322319\n",
            "{'Model': 'GRU', 'RMSE': 0.0350471819400807, 'Fuente': '3F_factor', 'n_input': 15, 'n_output': 15, 'num_neuronas': 150, 'batch_size': 150, 'num_layers': 3, 'MSE': 0.0012283049619411185}\n",
            "Current options: 3F_factor/30/15/50/50/1/best:0.03336749551322319\n",
            "{'Model': 'GRU', 'RMSE': 0.03715894391753081, 'Fuente': '3F_factor', 'n_input': 30, 'n_output': 15, 'num_neuronas': 50, 'batch_size': 50, 'num_layers': 1, 'MSE': 0.0013807871130662}\n",
            "Current options: 3F_factor/30/15/50/100/1/best:0.03336749551322319\n",
            "{'Model': 'GRU', 'RMSE': 0.03719768677005245, 'Fuente': '3F_factor', 'n_input': 30, 'n_output': 15, 'num_neuronas': 50, 'batch_size': 100, 'num_layers': 1, 'MSE': 0.0013836679010429352}\n",
            "Current options: 3F_factor/30/15/50/150/1/best:0.03336749551322319\n",
            "{'Model': 'GRU', 'RMSE': 0.036753864794715964, 'Fuente': '3F_factor', 'n_input': 30, 'n_output': 15, 'num_neuronas': 50, 'batch_size': 150, 'num_layers': 1, 'MSE': 0.0013508465773482614}\n",
            "Current options: 3F_factor/30/15/50/50/2/best:0.03336749551322319\n",
            "{'Model': 'GRU', 'RMSE': 0.03359452297972804, 'Fuente': '3F_factor', 'n_input': 30, 'n_output': 15, 'num_neuronas': 50, 'batch_size': 50, 'num_layers': 2, 'MSE': 0.0011285919742354755}\n",
            "Current options: 3F_factor/30/15/50/100/2/best:0.03336749551322319\n",
            "{'Model': 'GRU', 'RMSE': 0.03471332169252724, 'Fuente': '3F_factor', 'n_input': 30, 'n_output': 15, 'num_neuronas': 50, 'batch_size': 100, 'num_layers': 2, 'MSE': 0.0012050147029288823}\n",
            "Current options: 3F_factor/30/15/50/150/2/best:0.03336749551322319\n",
            "{'Model': 'GRU', 'RMSE': 0.03665128183263161, 'Fuente': '3F_factor', 'n_input': 30, 'n_output': 15, 'num_neuronas': 50, 'batch_size': 150, 'num_layers': 2, 'MSE': 0.0013433164599749917}\n",
            "Current options: 3F_factor/30/15/50/50/3/best:0.03336749551322319\n",
            "{'Model': 'GRU', 'RMSE': 0.03387323779910621, 'Fuente': '3F_factor', 'n_input': 30, 'n_output': 15, 'num_neuronas': 50, 'batch_size': 50, 'num_layers': 3, 'MSE': 0.001147396238994798}\n",
            "Current options: 3F_factor/30/15/50/100/3/best:0.03336749551322319\n",
            "{'Model': 'GRU', 'RMSE': 0.03551468940451445, 'Fuente': '3F_factor', 'n_input': 30, 'n_output': 15, 'num_neuronas': 50, 'batch_size': 100, 'num_layers': 3, 'MSE': 0.001261293163499131}\n",
            "Current options: 3F_factor/30/15/50/150/3/best:0.03336749551322319\n",
            "{'Model': 'GRU', 'RMSE': 0.036999307511324825, 'Fuente': '3F_factor', 'n_input': 30, 'n_output': 15, 'num_neuronas': 50, 'batch_size': 150, 'num_layers': 3, 'MSE': 0.0013689487563175776}\n",
            "Current options: 3F_factor/30/15/100/50/1/best:0.03336749551322319\n",
            "BEST\n",
            "{'Model': 'GRU', 'RMSE': 0.03318706919462044, 'Fuente': '3F_factor', 'n_input': 30, 'n_output': 15, 'num_neuronas': 100, 'batch_size': 50, 'num_layers': 1, 'MSE': 0.0011013815617285246}\n",
            "Current options: 3F_factor/30/15/100/100/1/best:0.03318706919462044\n"
          ]
        },
        {
          "output_type": "stream",
          "name": "stderr",
          "text": [
            "/usr/local/lib/python3.10/dist-packages/keras/src/engine/training.py:3103: UserWarning: You are saving your model as an HDF5 file via `model.save()`. This file format is considered legacy. We recommend using instead the native Keras format, e.g. `model.save('my_model.keras')`.\n",
            "  saving_api.save_model(\n"
          ]
        },
        {
          "output_type": "stream",
          "name": "stdout",
          "text": [
            "{'Model': 'GRU', 'RMSE': 0.03498293090299579, 'Fuente': '3F_factor', 'n_input': 30, 'n_output': 15, 'num_neuronas': 100, 'batch_size': 100, 'num_layers': 1, 'MSE': 0.0012238054545637778}\n",
            "Current options: 3F_factor/30/15/100/150/1/best:0.03318706919462044\n",
            "{'Model': 'GRU', 'RMSE': 0.03565492835843168, 'Fuente': '3F_factor', 'n_input': 30, 'n_output': 15, 'num_neuronas': 100, 'batch_size': 150, 'num_layers': 1, 'MSE': 0.001271273916244896}\n",
            "Current options: 3F_factor/30/15/100/50/2/best:0.03318706919462044\n",
            "BEST\n"
          ]
        },
        {
          "output_type": "stream",
          "name": "stderr",
          "text": [
            "/usr/local/lib/python3.10/dist-packages/keras/src/engine/training.py:3103: UserWarning: You are saving your model as an HDF5 file via `model.save()`. This file format is considered legacy. We recommend using instead the native Keras format, e.g. `model.save('my_model.keras')`.\n",
            "  saving_api.save_model(\n"
          ]
        },
        {
          "output_type": "stream",
          "name": "stdout",
          "text": [
            "{'Model': 'GRU', 'RMSE': 0.033145849334136605, 'Fuente': '3F_factor', 'n_input': 30, 'n_output': 15, 'num_neuronas': 100, 'batch_size': 50, 'num_layers': 2, 'MSE': 0.0010986473280812843}\n",
            "Current options: 3F_factor/30/15/100/100/2/best:0.033145849334136605\n",
            "{'Model': 'GRU', 'RMSE': 0.0386514231924342, 'Fuente': '3F_factor', 'n_input': 30, 'n_output': 15, 'num_neuronas': 100, 'batch_size': 100, 'num_layers': 2, 'MSE': 0.0014939325148006402}\n",
            "Current options: 3F_factor/30/15/100/150/2/best:0.033145849334136605\n",
            "{'Model': 'GRU', 'RMSE': 0.03525781675449862, 'Fuente': '3F_factor', 'n_input': 30, 'n_output': 15, 'num_neuronas': 100, 'batch_size': 150, 'num_layers': 2, 'MSE': 0.0012431136422938038}\n",
            "Current options: 3F_factor/30/15/100/50/3/best:0.033145849334136605\n",
            "{'Model': 'GRU', 'RMSE': 0.04103737688288595, 'Fuente': '3F_factor', 'n_input': 30, 'n_output': 15, 'num_neuronas': 100, 'batch_size': 50, 'num_layers': 3, 'MSE': 0.0016840663014280222}\n",
            "Current options: 3F_factor/30/15/100/100/3/best:0.033145849334136605\n",
            "{'Model': 'GRU', 'RMSE': 0.03487327504960925, 'Fuente': '3F_factor', 'n_input': 30, 'n_output': 15, 'num_neuronas': 100, 'batch_size': 100, 'num_layers': 3, 'MSE': 0.0012161453126856992}\n",
            "Current options: 3F_factor/30/15/100/150/3/best:0.033145849334136605\n",
            "{'Model': 'GRU', 'RMSE': 0.03791952351979361, 'Fuente': '3F_factor', 'n_input': 30, 'n_output': 15, 'num_neuronas': 100, 'batch_size': 150, 'num_layers': 3, 'MSE': 0.0014378902639681807}\n",
            "Current options: 3F_factor/30/15/150/50/1/best:0.033145849334136605\n",
            "BEST\n"
          ]
        },
        {
          "output_type": "stream",
          "name": "stderr",
          "text": [
            "/usr/local/lib/python3.10/dist-packages/keras/src/engine/training.py:3103: UserWarning: You are saving your model as an HDF5 file via `model.save()`. This file format is considered legacy. We recommend using instead the native Keras format, e.g. `model.save('my_model.keras')`.\n",
            "  saving_api.save_model(\n"
          ]
        },
        {
          "output_type": "stream",
          "name": "stdout",
          "text": [
            "{'Model': 'GRU', 'RMSE': 0.03269391188461512, 'Fuente': '3F_factor', 'n_input': 30, 'n_output': 15, 'num_neuronas': 150, 'batch_size': 50, 'num_layers': 1, 'MSE': 0.0010688918743189779}\n",
            "Current options: 3F_factor/30/15/150/100/1/best:0.03269391188461512\n",
            "{'Model': 'GRU', 'RMSE': 0.035144763997580035, 'Fuente': '3F_factor', 'n_input': 30, 'n_output': 15, 'num_neuronas': 150, 'batch_size': 100, 'num_layers': 1, 'MSE': 0.001235154436445598}\n",
            "Current options: 3F_factor/30/15/150/150/1/best:0.03269391188461512\n",
            "{'Model': 'GRU', 'RMSE': 0.03616391326058601, 'Fuente': '3F_factor', 'n_input': 30, 'n_output': 15, 'num_neuronas': 150, 'batch_size': 150, 'num_layers': 1, 'MSE': 0.0013078286223191888}\n",
            "Current options: 3F_factor/30/15/150/50/2/best:0.03269391188461512\n",
            "{'Model': 'GRU', 'RMSE': 0.036294968397447426, 'Fuente': '3F_factor', 'n_input': 30, 'n_output': 15, 'num_neuronas': 150, 'batch_size': 50, 'num_layers': 2, 'MSE': 0.0013173247309717074}\n",
            "Current options: 3F_factor/30/15/150/100/2/best:0.03269391188461512\n",
            "{'Model': 'GRU', 'RMSE': 0.03466344181947604, 'Fuente': '3F_factor', 'n_input': 30, 'n_output': 15, 'num_neuronas': 150, 'batch_size': 100, 'num_layers': 2, 'MSE': 0.0012015541987722004}\n",
            "Current options: 3F_factor/30/15/150/150/2/best:0.03269391188461512\n",
            "{'Model': 'GRU', 'RMSE': 0.03696187982390058, 'Fuente': '3F_factor', 'n_input': 30, 'n_output': 15, 'num_neuronas': 150, 'batch_size': 150, 'num_layers': 2, 'MSE': 0.0013661805601164689}\n",
            "Current options: 3F_factor/30/15/150/50/3/best:0.03269391188461512\n",
            "{'Model': 'GRU', 'RMSE': 0.03693322082605293, 'Fuente': '3F_factor', 'n_input': 30, 'n_output': 15, 'num_neuronas': 150, 'batch_size': 50, 'num_layers': 3, 'MSE': 0.00136406280058599}\n",
            "Current options: 3F_factor/30/15/150/100/3/best:0.03269391188461512\n",
            "{'Model': 'GRU', 'RMSE': 0.06308268178863578, 'Fuente': '3F_factor', 'n_input': 30, 'n_output': 15, 'num_neuronas': 150, 'batch_size': 100, 'num_layers': 3, 'MSE': 0.0039794247416462805}\n",
            "Current options: 3F_factor/30/15/150/150/3/best:0.03269391188461512\n",
            "{'Model': 'GRU', 'RMSE': 0.035924637677208875, 'Fuente': '3F_factor', 'n_input': 30, 'n_output': 15, 'num_neuronas': 150, 'batch_size': 150, 'num_layers': 3, 'MSE': 0.0012905795922387355}\n",
            "Current options: 3F_factor/60/15/50/50/1/best:0.03269391188461512\n",
            "{'Model': 'GRU', 'RMSE': 0.036526502144404206, 'Fuente': '3F_factor', 'n_input': 60, 'n_output': 15, 'num_neuronas': 50, 'batch_size': 50, 'num_layers': 1, 'MSE': 0.0013341853589051652}\n",
            "Current options: 3F_factor/60/15/50/100/1/best:0.03269391188461512\n",
            "{'Model': 'GRU', 'RMSE': 0.03691575226884881, 'Fuente': '3F_factor', 'n_input': 60, 'n_output': 15, 'num_neuronas': 50, 'batch_size': 100, 'num_layers': 1, 'MSE': 0.001362772765575016}\n",
            "Current options: 3F_factor/60/15/50/150/1/best:0.03269391188461512\n",
            "{'Model': 'GRU', 'RMSE': 0.03848958439043944, 'Fuente': '3F_factor', 'n_input': 60, 'n_output': 15, 'num_neuronas': 50, 'batch_size': 150, 'num_layers': 1, 'MSE': 0.0014814481065487592}\n",
            "Current options: 3F_factor/60/15/50/50/2/best:0.03269391188461512\n",
            "{'Model': 'GRU', 'RMSE': 0.03453670737146685, 'Fuente': '3F_factor', 'n_input': 60, 'n_output': 15, 'num_neuronas': 50, 'batch_size': 50, 'num_layers': 2, 'MSE': 0.0011927841560623324}\n",
            "Current options: 3F_factor/60/15/50/100/2/best:0.03269391188461512\n",
            "{'Model': 'GRU', 'RMSE': 0.03624920461230139, 'Fuente': '3F_factor', 'n_input': 60, 'n_output': 15, 'num_neuronas': 50, 'batch_size': 100, 'num_layers': 2, 'MSE': 0.0013140048350244924}\n",
            "Current options: 3F_factor/60/15/50/150/2/best:0.03269391188461512\n",
            "{'Model': 'GRU', 'RMSE': 0.03517297817924413, 'Fuente': '3F_factor', 'n_input': 60, 'n_output': 15, 'num_neuronas': 50, 'batch_size': 150, 'num_layers': 2, 'MSE': 0.0012371383939975835}\n",
            "Current options: 3F_factor/60/15/50/50/3/best:0.03269391188461512\n",
            "{'Model': 'GRU', 'RMSE': 0.03356351427138114, 'Fuente': '3F_factor', 'n_input': 60, 'n_output': 15, 'num_neuronas': 50, 'batch_size': 50, 'num_layers': 3, 'MSE': 0.0011265094902452057}\n",
            "Current options: 3F_factor/60/15/50/100/3/best:0.03269391188461512\n",
            "{'Model': 'GRU', 'RMSE': 0.03700764176967769, 'Fuente': '3F_factor', 'n_input': 60, 'n_output': 15, 'num_neuronas': 50, 'batch_size': 100, 'num_layers': 3, 'MSE': 0.0013695655493527927}\n",
            "Current options: 3F_factor/60/15/50/150/3/best:0.03269391188461512\n",
            "{'Model': 'GRU', 'RMSE': 0.037136247469367965, 'Fuente': '3F_factor', 'n_input': 60, 'n_output': 15, 'num_neuronas': 50, 'batch_size': 150, 'num_layers': 3, 'MSE': 0.0013791008761061387}\n",
            "Current options: 3F_factor/60/15/100/50/1/best:0.03269391188461512\n",
            "BEST\n",
            "{'Model': 'GRU', 'RMSE': 0.03146198957718579, 'Fuente': '3F_factor', 'n_input': 60, 'n_output': 15, 'num_neuronas': 100, 'batch_size': 50, 'num_layers': 1, 'MSE': 0.0009898567881549472}\n",
            "Current options: 3F_factor/60/15/100/100/1/best:0.03146198957718579\n"
          ]
        },
        {
          "output_type": "stream",
          "name": "stderr",
          "text": [
            "/usr/local/lib/python3.10/dist-packages/keras/src/engine/training.py:3103: UserWarning: You are saving your model as an HDF5 file via `model.save()`. This file format is considered legacy. We recommend using instead the native Keras format, e.g. `model.save('my_model.keras')`.\n",
            "  saving_api.save_model(\n"
          ]
        },
        {
          "output_type": "stream",
          "name": "stdout",
          "text": [
            "{'Model': 'GRU', 'RMSE': 0.03526090667376426, 'Fuente': '3F_factor', 'n_input': 60, 'n_output': 15, 'num_neuronas': 100, 'batch_size': 100, 'num_layers': 1, 'MSE': 0.001243331539455913}\n",
            "Current options: 3F_factor/60/15/100/150/1/best:0.03146198957718579\n",
            "{'Model': 'GRU', 'RMSE': 0.036756401897791, 'Fuente': '3F_factor', 'n_input': 60, 'n_output': 15, 'num_neuronas': 100, 'batch_size': 150, 'num_layers': 1, 'MSE': 0.001351033080471934}\n",
            "Current options: 3F_factor/60/15/100/50/2/best:0.03146198957718579\n",
            "BEST\n"
          ]
        },
        {
          "output_type": "stream",
          "name": "stderr",
          "text": [
            "/usr/local/lib/python3.10/dist-packages/keras/src/engine/training.py:3103: UserWarning: You are saving your model as an HDF5 file via `model.save()`. This file format is considered legacy. We recommend using instead the native Keras format, e.g. `model.save('my_model.keras')`.\n",
            "  saving_api.save_model(\n"
          ]
        },
        {
          "output_type": "stream",
          "name": "stdout",
          "text": [
            "{'Model': 'GRU', 'RMSE': 0.03111367549584354, 'Fuente': '3F_factor', 'n_input': 60, 'n_output': 15, 'num_neuronas': 100, 'batch_size': 50, 'num_layers': 2, 'MSE': 0.0009680608028606547}\n",
            "Current options: 3F_factor/60/15/100/100/2/best:0.03111367549584354\n",
            "{'Model': 'GRU', 'RMSE': 0.033607816582953066, 'Fuente': '3F_factor', 'n_input': 60, 'n_output': 15, 'num_neuronas': 100, 'batch_size': 100, 'num_layers': 2, 'MSE': 0.001129485335473415}\n",
            "Current options: 3F_factor/60/15/100/150/2/best:0.03111367549584354\n",
            "{'Model': 'GRU', 'RMSE': 0.03592764877656761, 'Fuente': '3F_factor', 'n_input': 60, 'n_output': 15, 'num_neuronas': 100, 'batch_size': 150, 'num_layers': 2, 'MSE': 0.0012907959466124}\n",
            "Current options: 3F_factor/60/15/100/50/3/best:0.03111367549584354\n",
            "{'Model': 'GRU', 'RMSE': 0.03499861791265013, 'Fuente': '3F_factor', 'n_input': 60, 'n_output': 15, 'num_neuronas': 100, 'batch_size': 50, 'num_layers': 3, 'MSE': 0.0012249032557956746}\n",
            "Current options: 3F_factor/60/15/100/100/3/best:0.03111367549584354\n",
            "{'Model': 'GRU', 'RMSE': 0.036363168255242016, 'Fuente': '3F_factor', 'n_input': 60, 'n_output': 15, 'num_neuronas': 100, 'batch_size': 100, 'num_layers': 3, 'MSE': 0.0013222800055590405}\n",
            "Current options: 3F_factor/60/15/100/150/3/best:0.03111367549584354\n",
            "{'Model': 'GRU', 'RMSE': 0.0341964239116349, 'Fuente': '3F_factor', 'n_input': 60, 'n_output': 15, 'num_neuronas': 100, 'batch_size': 150, 'num_layers': 3, 'MSE': 0.0011693954083442353}\n",
            "Current options: 3F_factor/60/15/150/50/1/best:0.03111367549584354\n",
            "{'Model': 'GRU', 'RMSE': 0.03368327932813202, 'Fuente': '3F_factor', 'n_input': 60, 'n_output': 15, 'num_neuronas': 150, 'batch_size': 50, 'num_layers': 1, 'MSE': 0.0011345633062969658}\n",
            "Current options: 3F_factor/60/15/150/100/1/best:0.03111367549584354\n",
            "{'Model': 'GRU', 'RMSE': 0.0335723513974777, 'Fuente': '3F_factor', 'n_input': 60, 'n_output': 15, 'num_neuronas': 150, 'batch_size': 100, 'num_layers': 1, 'MSE': 0.0011271027783557228}\n",
            "Current options: 3F_factor/60/15/150/150/1/best:0.03111367549584354\n",
            "{'Model': 'GRU', 'RMSE': 0.033970527040480925, 'Fuente': '3F_factor', 'n_input': 60, 'n_output': 15, 'num_neuronas': 150, 'batch_size': 150, 'num_layers': 1, 'MSE': 0.0011539967074080456}\n",
            "Current options: 3F_factor/60/15/150/50/2/best:0.03111367549584354\n",
            "{'Model': 'GRU', 'RMSE': 0.04357702034842703, 'Fuente': '3F_factor', 'n_input': 60, 'n_output': 15, 'num_neuronas': 150, 'batch_size': 50, 'num_layers': 2, 'MSE': 0.0018989567024472235}\n",
            "Current options: 3F_factor/60/15/150/100/2/best:0.03111367549584354\n",
            "{'Model': 'GRU', 'RMSE': 0.03695586225437929, 'Fuente': '3F_factor', 'n_input': 60, 'n_output': 15, 'num_neuronas': 150, 'batch_size': 100, 'num_layers': 2, 'MSE': 0.0013657357549646558}\n",
            "Current options: 3F_factor/60/15/150/150/2/best:0.03111367549584354\n",
            "{'Model': 'GRU', 'RMSE': 0.03566828019337927, 'Fuente': '3F_factor', 'n_input': 60, 'n_output': 15, 'num_neuronas': 150, 'batch_size': 150, 'num_layers': 2, 'MSE': 0.0012722262119534116}\n",
            "Current options: 3F_factor/60/15/150/50/3/best:0.03111367549584354\n",
            "{'Model': 'GRU', 'RMSE': 0.048614231804337604, 'Fuente': '3F_factor', 'n_input': 60, 'n_output': 15, 'num_neuronas': 150, 'batch_size': 50, 'num_layers': 3, 'MSE': 0.0023633435339258696}\n",
            "Current options: 3F_factor/60/15/150/100/3/best:0.03111367549584354\n",
            "{'Model': 'GRU', 'RMSE': 0.04189207557299448, 'Fuente': '3F_factor', 'n_input': 60, 'n_output': 15, 'num_neuronas': 150, 'batch_size': 100, 'num_layers': 3, 'MSE': 0.0017549459958134804}\n",
            "Current options: 3F_factor/60/15/150/150/3/best:0.03111367549584354\n",
            "{'Model': 'GRU', 'RMSE': 0.06025217476940355, 'Fuente': '3F_factor', 'n_input': 60, 'n_output': 15, 'num_neuronas': 150, 'batch_size': 150, 'num_layers': 3, 'MSE': 0.0036303245644427502}\n",
            "Current options: 3F_factor/1/1/50/50/1/best:100000\n",
            "BEST\n",
            "{'Model': 'GRU', 'RMSE': 0.01587429183391848, 'Fuente': '3F_factor', 'n_input': 1, 'n_output': 1, 'num_neuronas': 50, 'batch_size': 50, 'num_layers': 1, 'MSE': 0.000251993141228411}\n",
            "Current options: 3F_factor/1/1/50/100/1/best:0.01587429183391848\n"
          ]
        },
        {
          "output_type": "stream",
          "name": "stderr",
          "text": [
            "/usr/local/lib/python3.10/dist-packages/keras/src/engine/training.py:3103: UserWarning: You are saving your model as an HDF5 file via `model.save()`. This file format is considered legacy. We recommend using instead the native Keras format, e.g. `model.save('my_model.keras')`.\n",
            "  saving_api.save_model(\n"
          ]
        },
        {
          "output_type": "stream",
          "name": "stdout",
          "text": [
            "{'Model': 'GRU', 'RMSE': 0.028037808544368836, 'Fuente': '3F_factor', 'n_input': 1, 'n_output': 1, 'num_neuronas': 50, 'batch_size': 100, 'num_layers': 1, 'MSE': 0.0007861187079706821}\n",
            "Current options: 3F_factor/1/1/50/150/1/best:0.01587429183391848\n",
            "{'Model': 'GRU', 'RMSE': 0.02573490364728663, 'Fuente': '3F_factor', 'n_input': 1, 'n_output': 1, 'num_neuronas': 50, 'batch_size': 150, 'num_layers': 1, 'MSE': 0.0006622852657351267}\n",
            "Current options: 3F_factor/1/1/50/50/2/best:0.01587429183391848\n",
            "{'Model': 'GRU', 'RMSE': 0.017442576533021777, 'Fuente': '3F_factor', 'n_input': 1, 'n_output': 1, 'num_neuronas': 50, 'batch_size': 50, 'num_layers': 2, 'MSE': 0.00030424347611032206}\n",
            "Current options: 3F_factor/1/1/50/100/2/best:0.01587429183391848\n",
            "{'Model': 'GRU', 'RMSE': 0.016021699807362656, 'Fuente': '3F_factor', 'n_input': 1, 'n_output': 1, 'num_neuronas': 50, 'batch_size': 100, 'num_layers': 2, 'MSE': 0.0002566948647172446}\n",
            "Current options: 3F_factor/1/1/50/150/2/best:0.01587429183391848\n",
            "{'Model': 'GRU', 'RMSE': 0.02661359824634204, 'Fuente': '3F_factor', 'n_input': 1, 'n_output': 1, 'num_neuronas': 50, 'batch_size': 150, 'num_layers': 2, 'MSE': 0.0007082836116177002}\n",
            "Current options: 3F_factor/1/1/50/50/3/best:0.01587429183391848\n",
            "BEST\n"
          ]
        },
        {
          "output_type": "stream",
          "name": "stderr",
          "text": [
            "/usr/local/lib/python3.10/dist-packages/keras/src/engine/training.py:3103: UserWarning: You are saving your model as an HDF5 file via `model.save()`. This file format is considered legacy. We recommend using instead the native Keras format, e.g. `model.save('my_model.keras')`.\n",
            "  saving_api.save_model(\n"
          ]
        },
        {
          "output_type": "stream",
          "name": "stdout",
          "text": [
            "{'Model': 'GRU', 'RMSE': 0.0152695398131947, 'Fuente': '3F_factor', 'n_input': 1, 'n_output': 1, 'num_neuronas': 50, 'batch_size': 50, 'num_layers': 3, 'MSE': 0.00023315884610673802}\n",
            "Current options: 3F_factor/1/1/50/100/3/best:0.0152695398131947\n",
            "BEST\n"
          ]
        },
        {
          "output_type": "stream",
          "name": "stderr",
          "text": [
            "/usr/local/lib/python3.10/dist-packages/keras/src/engine/training.py:3103: UserWarning: You are saving your model as an HDF5 file via `model.save()`. This file format is considered legacy. We recommend using instead the native Keras format, e.g. `model.save('my_model.keras')`.\n",
            "  saving_api.save_model(\n"
          ]
        },
        {
          "output_type": "stream",
          "name": "stdout",
          "text": [
            "{'Model': 'GRU', 'RMSE': 0.01522575018286462, 'Fuente': '3F_factor', 'n_input': 1, 'n_output': 1, 'num_neuronas': 50, 'batch_size': 100, 'num_layers': 3, 'MSE': 0.000231823468631002}\n",
            "Current options: 3F_factor/1/1/50/150/3/best:0.01522575018286462\n",
            "{'Model': 'GRU', 'RMSE': 0.016333171828233035, 'Fuente': '3F_factor', 'n_input': 1, 'n_output': 1, 'num_neuronas': 50, 'batch_size': 150, 'num_layers': 3, 'MSE': 0.00026677250197058524}\n",
            "Current options: 3F_factor/1/1/100/50/1/best:0.01522575018286462\n",
            "{'Model': 'GRU', 'RMSE': 0.016486393340446468, 'Fuente': '3F_factor', 'n_input': 1, 'n_output': 1, 'num_neuronas': 100, 'batch_size': 50, 'num_layers': 1, 'MSE': 0.00027180116537591767}\n",
            "Current options: 3F_factor/1/1/100/100/1/best:0.01522575018286462\n",
            "{'Model': 'GRU', 'RMSE': 0.016250131659770628, 'Fuente': '3F_factor', 'n_input': 1, 'n_output': 1, 'num_neuronas': 100, 'batch_size': 100, 'num_layers': 1, 'MSE': 0.00026406677895987976}\n",
            "Current options: 3F_factor/1/1/100/150/1/best:0.01522575018286462\n",
            "{'Model': 'GRU', 'RMSE': 0.018396936403775883, 'Fuente': '3F_factor', 'n_input': 1, 'n_output': 1, 'num_neuronas': 100, 'batch_size': 150, 'num_layers': 1, 'MSE': 0.0003384472690445743}\n",
            "Current options: 3F_factor/1/1/100/50/2/best:0.01522575018286462\n",
            "BEST\n"
          ]
        },
        {
          "output_type": "stream",
          "name": "stderr",
          "text": [
            "/usr/local/lib/python3.10/dist-packages/keras/src/engine/training.py:3103: UserWarning: You are saving your model as an HDF5 file via `model.save()`. This file format is considered legacy. We recommend using instead the native Keras format, e.g. `model.save('my_model.keras')`.\n",
            "  saving_api.save_model(\n"
          ]
        },
        {
          "output_type": "stream",
          "name": "stdout",
          "text": [
            "{'Model': 'GRU', 'RMSE': 0.015222242325971507, 'Fuente': '3F_factor', 'n_input': 1, 'n_output': 1, 'num_neuronas': 100, 'batch_size': 50, 'num_layers': 2, 'MSE': 0.00023171666143059845}\n",
            "Current options: 3F_factor/1/1/100/100/2/best:0.015222242325971507\n",
            "{'Model': 'GRU', 'RMSE': 0.01615798291210429, 'Fuente': '3F_factor', 'n_input': 1, 'n_output': 1, 'num_neuronas': 100, 'batch_size': 100, 'num_layers': 2, 'MSE': 0.00026108041178785416}\n",
            "Current options: 3F_factor/1/1/100/150/2/best:0.015222242325971507\n",
            "{'Model': 'GRU', 'RMSE': 0.017074369597030653, 'Fuente': '3F_factor', 'n_input': 1, 'n_output': 1, 'num_neuronas': 100, 'batch_size': 150, 'num_layers': 2, 'MSE': 0.0002915340971360047}\n",
            "Current options: 3F_factor/1/1/100/50/3/best:0.015222242325971507\n",
            "BEST\n"
          ]
        },
        {
          "output_type": "stream",
          "name": "stderr",
          "text": [
            "/usr/local/lib/python3.10/dist-packages/keras/src/engine/training.py:3103: UserWarning: You are saving your model as an HDF5 file via `model.save()`. This file format is considered legacy. We recommend using instead the native Keras format, e.g. `model.save('my_model.keras')`.\n",
            "  saving_api.save_model(\n"
          ]
        },
        {
          "output_type": "stream",
          "name": "stdout",
          "text": [
            "{'Model': 'GRU', 'RMSE': 0.014779222749908213, 'Fuente': '3F_factor', 'n_input': 1, 'n_output': 1, 'num_neuronas': 100, 'batch_size': 50, 'num_layers': 3, 'MSE': 0.0002184254250914045}\n",
            "Current options: 3F_factor/1/1/100/100/3/best:0.014779222749908213\n",
            "{'Model': 'GRU', 'RMSE': 0.01538275371479455, 'Fuente': '3F_factor', 'n_input': 1, 'n_output': 1, 'num_neuronas': 100, 'batch_size': 100, 'num_layers': 3, 'MSE': 0.00023662911185002553}\n",
            "Current options: 3F_factor/1/1/100/150/3/best:0.014779222749908213\n",
            "{'Model': 'GRU', 'RMSE': 0.016885908924591946, 'Fuente': '3F_factor', 'n_input': 1, 'n_output': 1, 'num_neuronas': 100, 'batch_size': 150, 'num_layers': 3, 'MSE': 0.000285133920209614}\n",
            "Current options: 3F_factor/1/1/150/50/1/best:0.014779222749908213\n",
            "{'Model': 'GRU', 'RMSE': 0.016126600522228196, 'Fuente': '3F_factor', 'n_input': 1, 'n_output': 1, 'num_neuronas': 150, 'batch_size': 50, 'num_layers': 1, 'MSE': 0.00026006724440353073}\n",
            "Current options: 3F_factor/1/1/150/100/1/best:0.014779222749908213\n",
            "{'Model': 'GRU', 'RMSE': 0.016144201171242295, 'Fuente': '3F_factor', 'n_input': 1, 'n_output': 1, 'num_neuronas': 150, 'batch_size': 100, 'num_layers': 1, 'MSE': 0.0002606352314575411}\n",
            "Current options: 3F_factor/1/1/150/150/1/best:0.014779222749908213\n",
            "{'Model': 'GRU', 'RMSE': 0.027932122451673796, 'Fuente': '3F_factor', 'n_input': 1, 'n_output': 1, 'num_neuronas': 150, 'batch_size': 150, 'num_layers': 1, 'MSE': 0.0007802034646552993}\n",
            "Current options: 3F_factor/1/1/150/50/2/best:0.014779222749908213\n",
            "{'Model': 'GRU', 'RMSE': 0.016970315982074, 'Fuente': '3F_factor', 'n_input': 1, 'n_output': 1, 'num_neuronas': 150, 'batch_size': 50, 'num_layers': 2, 'MSE': 0.0002879916245314363}\n",
            "Current options: 3F_factor/1/1/150/100/2/best:0.014779222749908213\n",
            "{'Model': 'GRU', 'RMSE': 0.01794767596192482, 'Fuente': '3F_factor', 'n_input': 1, 'n_output': 1, 'num_neuronas': 150, 'batch_size': 100, 'num_layers': 2, 'MSE': 0.000322119072434254}\n",
            "Current options: 3F_factor/1/1/150/150/2/best:0.014779222749908213\n",
            "{'Model': 'GRU', 'RMSE': 0.016376469246803013, 'Fuente': '3F_factor', 'n_input': 1, 'n_output': 1, 'num_neuronas': 150, 'batch_size': 150, 'num_layers': 2, 'MSE': 0.00026818874499148483}\n",
            "Current options: 3F_factor/1/1/150/50/3/best:0.014779222749908213\n",
            "{'Model': 'GRU', 'RMSE': 0.015364728565066928, 'Fuente': '3F_factor', 'n_input': 1, 'n_output': 1, 'num_neuronas': 150, 'batch_size': 50, 'num_layers': 3, 'MSE': 0.0002360748838781836}\n",
            "Current options: 3F_factor/1/1/150/100/3/best:0.014779222749908213\n",
            "{'Model': 'GRU', 'RMSE': 0.015786465701921017, 'Fuente': '3F_factor', 'n_input': 1, 'n_output': 1, 'num_neuronas': 150, 'batch_size': 100, 'num_layers': 3, 'MSE': 0.0002492124993579286}\n",
            "Current options: 3F_factor/1/1/150/150/3/best:0.014779222749908213\n",
            "{'Model': 'GRU', 'RMSE': 0.01581511553957183, 'Fuente': '3F_factor', 'n_input': 1, 'n_output': 1, 'num_neuronas': 150, 'batch_size': 150, 'num_layers': 3, 'MSE': 0.00025011787953000634}\n",
            "Current options: 3F_factor/2/1/50/50/1/best:0.014779222749908213\n",
            "{'Model': 'GRU', 'RMSE': 0.015565577277584793, 'Fuente': '3F_factor', 'n_input': 2, 'n_output': 1, 'num_neuronas': 50, 'batch_size': 50, 'num_layers': 1, 'MSE': 0.000242287195984464}\n",
            "Current options: 3F_factor/2/1/50/100/1/best:0.014779222749908213\n",
            "{'Model': 'GRU', 'RMSE': 0.016152702815168743, 'Fuente': '3F_factor', 'n_input': 2, 'n_output': 1, 'num_neuronas': 50, 'batch_size': 100, 'num_layers': 1, 'MSE': 0.00026090980823516025}\n",
            "Current options: 3F_factor/2/1/50/150/1/best:0.014779222749908213\n",
            "{'Model': 'GRU', 'RMSE': 0.0161490954857947, 'Fuente': '3F_factor', 'n_input': 2, 'n_output': 1, 'num_neuronas': 50, 'batch_size': 150, 'num_layers': 1, 'MSE': 0.00026079328500931475}\n",
            "Current options: 3F_factor/2/1/50/50/2/best:0.014779222749908213\n",
            "{'Model': 'GRU', 'RMSE': 0.015074015829648162, 'Fuente': '3F_factor', 'n_input': 2, 'n_output': 1, 'num_neuronas': 50, 'batch_size': 50, 'num_layers': 2, 'MSE': 0.00022722595323248338}\n",
            "Current options: 3F_factor/2/1/50/100/2/best:0.014779222749908213\n",
            "{'Model': 'GRU', 'RMSE': 0.01537283094833365, 'Fuente': '3F_factor', 'n_input': 2, 'n_output': 1, 'num_neuronas': 50, 'batch_size': 100, 'num_layers': 2, 'MSE': 0.00023632393136604484}\n",
            "Current options: 3F_factor/2/1/50/150/2/best:0.014779222749908213\n",
            "{'Model': 'GRU', 'RMSE': 0.01592901214403947, 'Fuente': '3F_factor', 'n_input': 2, 'n_output': 1, 'num_neuronas': 50, 'batch_size': 150, 'num_layers': 2, 'MSE': 0.000253733427884957}\n",
            "Current options: 3F_factor/2/1/50/50/3/best:0.014779222749908213\n",
            "{'Model': 'GRU', 'RMSE': 0.01552013262237285, 'Fuente': '3F_factor', 'n_input': 2, 'n_output': 1, 'num_neuronas': 50, 'batch_size': 50, 'num_layers': 3, 'MSE': 0.00024087451661604194}\n",
            "Current options: 3F_factor/2/1/50/100/3/best:0.014779222749908213\n",
            "{'Model': 'GRU', 'RMSE': 0.015687294286150864, 'Fuente': '3F_factor', 'n_input': 2, 'n_output': 1, 'num_neuronas': 50, 'batch_size': 100, 'num_layers': 3, 'MSE': 0.0002460912020203015}\n",
            "Current options: 3F_factor/2/1/50/150/3/best:0.014779222749908213\n",
            "{'Model': 'GRU', 'RMSE': 0.015863016019190834, 'Fuente': '3F_factor', 'n_input': 2, 'n_output': 1, 'num_neuronas': 50, 'batch_size': 150, 'num_layers': 3, 'MSE': 0.00025163527722510496}\n",
            "Current options: 3F_factor/2/1/100/50/1/best:0.014779222749908213\n",
            "{'Model': 'GRU', 'RMSE': 0.015680167354348833, 'Fuente': '3F_factor', 'n_input': 2, 'n_output': 1, 'num_neuronas': 100, 'batch_size': 50, 'num_layers': 1, 'MSE': 0.00024586764826038687}\n",
            "Current options: 3F_factor/2/1/100/100/1/best:0.014779222749908213\n",
            "{'Model': 'GRU', 'RMSE': 0.01642335053422377, 'Fuente': '3F_factor', 'n_input': 2, 'n_output': 1, 'num_neuronas': 100, 'batch_size': 100, 'num_layers': 1, 'MSE': 0.0002697264427699881}\n",
            "Current options: 3F_factor/2/1/100/150/1/best:0.014779222749908213\n",
            "{'Model': 'GRU', 'RMSE': 0.016625937590306252, 'Fuente': '3F_factor', 'n_input': 2, 'n_output': 1, 'num_neuronas': 100, 'batch_size': 150, 'num_layers': 1, 'MSE': 0.00027642180075675843}\n",
            "Current options: 3F_factor/2/1/100/50/2/best:0.014779222749908213\n",
            "{'Model': 'GRU', 'RMSE': 0.015504919187701777, 'Fuente': '3F_factor', 'n_input': 2, 'n_output': 1, 'num_neuronas': 100, 'batch_size': 50, 'num_layers': 2, 'MSE': 0.0002404025190171627}\n",
            "Current options: 3F_factor/2/1/100/100/2/best:0.014779222749908213\n",
            "{'Model': 'GRU', 'RMSE': 0.015491423521082114, 'Fuente': '3F_factor', 'n_input': 2, 'n_output': 1, 'num_neuronas': 100, 'batch_size': 100, 'num_layers': 2, 'MSE': 0.00023998420270953617}\n",
            "Current options: 3F_factor/2/1/100/150/2/best:0.014779222749908213\n",
            "{'Model': 'GRU', 'RMSE': 0.015660431181988232, 'Fuente': '3F_factor', 'n_input': 2, 'n_output': 1, 'num_neuronas': 100, 'batch_size': 150, 'num_layers': 2, 'MSE': 0.00024524910480578933}\n",
            "Current options: 3F_factor/2/1/100/50/3/best:0.014779222749908213\n",
            "{'Model': 'GRU', 'RMSE': 0.014989619267855326, 'Fuente': '3F_factor', 'n_input': 2, 'n_output': 1, 'num_neuronas': 100, 'batch_size': 50, 'num_layers': 3, 'MSE': 0.00022468868579525965}\n",
            "Current options: 3F_factor/2/1/100/100/3/best:0.014779222749908213\n",
            "{'Model': 'GRU', 'RMSE': 0.015438740819469275, 'Fuente': '3F_factor', 'n_input': 2, 'n_output': 1, 'num_neuronas': 100, 'batch_size': 100, 'num_layers': 3, 'MSE': 0.0002383547180907468}\n",
            "Current options: 3F_factor/2/1/100/150/3/best:0.014779222749908213\n",
            "{'Model': 'GRU', 'RMSE': 0.015621827996563592, 'Fuente': '3F_factor', 'n_input': 2, 'n_output': 1, 'num_neuronas': 100, 'batch_size': 150, 'num_layers': 3, 'MSE': 0.00024404150995421803}\n",
            "Current options: 3F_factor/2/1/150/50/1/best:0.014779222749908213\n",
            "{'Model': 'GRU', 'RMSE': 0.015318926690459029, 'Fuente': '3F_factor', 'n_input': 2, 'n_output': 1, 'num_neuronas': 150, 'batch_size': 50, 'num_layers': 1, 'MSE': 0.000234669514947658}\n",
            "Current options: 3F_factor/2/1/150/100/1/best:0.014779222749908213\n",
            "{'Model': 'GRU', 'RMSE': 0.015608252095457813, 'Fuente': '3F_factor', 'n_input': 2, 'n_output': 1, 'num_neuronas': 150, 'batch_size': 100, 'num_layers': 1, 'MSE': 0.00024361753347536323}\n",
            "Current options: 3F_factor/2/1/150/150/1/best:0.014779222749908213\n",
            "{'Model': 'GRU', 'RMSE': 0.015912688782851674, 'Fuente': '3F_factor', 'n_input': 2, 'n_output': 1, 'num_neuronas': 150, 'batch_size': 150, 'num_layers': 1, 'MSE': 0.00025321366429989343}\n",
            "Current options: 3F_factor/2/1/150/50/2/best:0.014779222749908213\n",
            "{'Model': 'GRU', 'RMSE': 0.015483626321010434, 'Fuente': '3F_factor', 'n_input': 2, 'n_output': 1, 'num_neuronas': 150, 'batch_size': 50, 'num_layers': 2, 'MSE': 0.00023974268404868712}\n",
            "Current options: 3F_factor/2/1/150/100/2/best:0.014779222749908213\n",
            "{'Model': 'GRU', 'RMSE': 0.015220895537231195, 'Fuente': '3F_factor', 'n_input': 2, 'n_output': 1, 'num_neuronas': 150, 'batch_size': 100, 'num_layers': 2, 'MSE': 0.00023167566095530452}\n",
            "Current options: 3F_factor/2/1/150/150/2/best:0.014779222749908213\n",
            "{'Model': 'GRU', 'RMSE': 0.01609094431799681, 'Fuente': '3F_factor', 'n_input': 2, 'n_output': 1, 'num_neuronas': 150, 'batch_size': 150, 'num_layers': 2, 'MSE': 0.00025891848904487384}\n",
            "Current options: 3F_factor/2/1/150/50/3/best:0.014779222749908213\n",
            "{'Model': 'GRU', 'RMSE': 0.015383998710630913, 'Fuente': '3F_factor', 'n_input': 2, 'n_output': 1, 'num_neuronas': 150, 'batch_size': 50, 'num_layers': 3, 'MSE': 0.00023666741632869358}\n",
            "Current options: 3F_factor/2/1/150/100/3/best:0.014779222749908213\n",
            "{'Model': 'GRU', 'RMSE': 0.01567341255209672, 'Fuente': '3F_factor', 'n_input': 2, 'n_output': 1, 'num_neuronas': 150, 'batch_size': 100, 'num_layers': 3, 'MSE': 0.00024565586102822306}\n",
            "Current options: 3F_factor/2/1/150/150/3/best:0.014779222749908213\n",
            "{'Model': 'GRU', 'RMSE': 0.015172732008539021, 'Fuente': '3F_factor', 'n_input': 2, 'n_output': 1, 'num_neuronas': 150, 'batch_size': 150, 'num_layers': 3, 'MSE': 0.00023021179660294457}\n",
            "Current options: 3F_factor/4/1/50/50/1/best:0.014779222749908213\n",
            "{'Model': 'GRU', 'RMSE': 0.01674776437767963, 'Fuente': '3F_factor', 'n_input': 4, 'n_output': 1, 'num_neuronas': 50, 'batch_size': 50, 'num_layers': 1, 'MSE': 0.0002804876116502747}\n",
            "Current options: 3F_factor/4/1/50/100/1/best:0.014779222749908213\n",
            "{'Model': 'GRU', 'RMSE': 0.016390887885883335, 'Fuente': '3F_factor', 'n_input': 4, 'n_output': 1, 'num_neuronas': 50, 'batch_size': 100, 'num_layers': 1, 'MSE': 0.0002686612056875971}\n",
            "Current options: 3F_factor/4/1/50/150/1/best:0.014779222749908213\n",
            "{'Model': 'GRU', 'RMSE': 0.016556280580886457, 'Fuente': '3F_factor', 'n_input': 4, 'n_output': 1, 'num_neuronas': 50, 'batch_size': 150, 'num_layers': 1, 'MSE': 0.000274110426673038}\n",
            "Current options: 3F_factor/4/1/50/50/2/best:0.014779222749908213\n",
            "{'Model': 'GRU', 'RMSE': 0.015310647332864736, 'Fuente': '3F_factor', 'n_input': 4, 'n_output': 1, 'num_neuronas': 50, 'batch_size': 50, 'num_layers': 2, 'MSE': 0.00023441592175135805}\n",
            "Current options: 3F_factor/4/1/50/100/2/best:0.014779222749908213\n",
            "{'Model': 'GRU', 'RMSE': 0.016712095297595195, 'Fuente': '3F_factor', 'n_input': 4, 'n_output': 1, 'num_neuronas': 50, 'batch_size': 100, 'num_layers': 2, 'MSE': 0.0002792941292359034}\n",
            "Current options: 3F_factor/4/1/50/150/2/best:0.014779222749908213\n",
            "{'Model': 'GRU', 'RMSE': 0.016251206975916203, 'Fuente': '3F_factor', 'n_input': 4, 'n_output': 1, 'num_neuronas': 50, 'batch_size': 150, 'num_layers': 2, 'MSE': 0.00026410172817406747}\n",
            "Current options: 3F_factor/4/1/50/50/3/best:0.014779222749908213\n",
            "{'Model': 'GRU', 'RMSE': 0.015210774620522565, 'Fuente': '3F_factor', 'n_input': 4, 'n_output': 1, 'num_neuronas': 50, 'batch_size': 50, 'num_layers': 3, 'MSE': 0.0002313676645563334}\n",
            "Current options: 3F_factor/4/1/50/100/3/best:0.014779222749908213\n",
            "{'Model': 'GRU', 'RMSE': 0.017314320465123465, 'Fuente': '3F_factor', 'n_input': 4, 'n_output': 1, 'num_neuronas': 50, 'batch_size': 100, 'num_layers': 3, 'MSE': 0.0002997856931689933}\n",
            "Current options: 3F_factor/4/1/50/150/3/best:0.014779222749908213\n",
            "{'Model': 'GRU', 'RMSE': 0.017918326779271743, 'Fuente': '3F_factor', 'n_input': 4, 'n_output': 1, 'num_neuronas': 50, 'batch_size': 150, 'num_layers': 3, 'MSE': 0.00032106643456876683}\n",
            "Current options: 3F_factor/4/1/100/50/1/best:0.014779222749908213\n",
            "{'Model': 'GRU', 'RMSE': 0.01537548186499573, 'Fuente': '3F_factor', 'n_input': 4, 'n_output': 1, 'num_neuronas': 100, 'batch_size': 50, 'num_layers': 1, 'MSE': 0.00023640544258081257}\n",
            "Current options: 3F_factor/4/1/100/100/1/best:0.014779222749908213\n",
            "{'Model': 'GRU', 'RMSE': 0.016296992825842394, 'Fuente': '3F_factor', 'n_input': 4, 'n_output': 1, 'num_neuronas': 100, 'batch_size': 100, 'num_layers': 1, 'MSE': 0.0002655919751655584}\n",
            "Current options: 3F_factor/4/1/100/150/1/best:0.014779222749908213\n",
            "{'Model': 'GRU', 'RMSE': 0.016598622556854674, 'Fuente': '3F_factor', 'n_input': 4, 'n_output': 1, 'num_neuronas': 100, 'batch_size': 150, 'num_layers': 1, 'MSE': 0.00027551427078492473}\n",
            "Current options: 3F_factor/4/1/100/50/2/best:0.014779222749908213\n",
            "{'Model': 'GRU', 'RMSE': 0.016022049713370134, 'Fuente': '3F_factor', 'n_input': 4, 'n_output': 1, 'num_neuronas': 100, 'batch_size': 50, 'num_layers': 2, 'MSE': 0.000256706077017704}\n",
            "Current options: 3F_factor/4/1/100/100/2/best:0.014779222749908213\n",
            "{'Model': 'GRU', 'RMSE': 0.016728772934120652, 'Fuente': '3F_factor', 'n_input': 4, 'n_output': 1, 'num_neuronas': 100, 'batch_size': 100, 'num_layers': 2, 'MSE': 0.0002798518438813677}\n",
            "Current options: 3F_factor/4/1/100/150/2/best:0.014779222749908213\n",
            "{'Model': 'GRU', 'RMSE': 0.01641174735534538, 'Fuente': '3F_factor', 'n_input': 4, 'n_output': 1, 'num_neuronas': 100, 'batch_size': 150, 'num_layers': 2, 'MSE': 0.000269345451255686}\n",
            "Current options: 3F_factor/4/1/100/50/3/best:0.014779222749908213\n",
            "{'Model': 'GRU', 'RMSE': 0.015530691762761013, 'Fuente': '3F_factor', 'n_input': 4, 'n_output': 1, 'num_neuronas': 100, 'batch_size': 50, 'num_layers': 3, 'MSE': 0.00024120238662989277}\n",
            "Current options: 3F_factor/4/1/100/100/3/best:0.014779222749908213\n",
            "{'Model': 'GRU', 'RMSE': 0.016103528582055493, 'Fuente': '3F_factor', 'n_input': 4, 'n_output': 1, 'num_neuronas': 100, 'batch_size': 100, 'num_layers': 3, 'MSE': 0.0002593236327930782}\n",
            "Current options: 3F_factor/4/1/100/150/3/best:0.014779222749908213\n",
            "{'Model': 'GRU', 'RMSE': 0.017003778465858144, 'Fuente': '3F_factor', 'n_input': 4, 'n_output': 1, 'num_neuronas': 100, 'batch_size': 150, 'num_layers': 3, 'MSE': 0.0002891284821159812}\n",
            "Current options: 3F_factor/4/1/150/50/1/best:0.014779222749908213\n",
            "{'Model': 'GRU', 'RMSE': 0.015857873125238377, 'Fuente': '3F_factor', 'n_input': 4, 'n_output': 1, 'num_neuronas': 150, 'batch_size': 50, 'num_layers': 1, 'MSE': 0.0002514721400561575}\n",
            "Current options: 3F_factor/4/1/150/100/1/best:0.014779222749908213\n",
            "{'Model': 'GRU', 'RMSE': 0.01571354094980157, 'Fuente': '3F_factor', 'n_input': 4, 'n_output': 1, 'num_neuronas': 150, 'batch_size': 100, 'num_layers': 1, 'MSE': 0.00024691536918109076}\n",
            "Current options: 3F_factor/4/1/150/150/1/best:0.014779222749908213\n",
            "{'Model': 'GRU', 'RMSE': 0.01644165213986394, 'Fuente': '3F_factor', 'n_input': 4, 'n_output': 1, 'num_neuronas': 150, 'batch_size': 150, 'num_layers': 1, 'MSE': 0.00027032792508829254}\n",
            "Current options: 3F_factor/4/1/150/50/2/best:0.014779222749908213\n",
            "{'Model': 'GRU', 'RMSE': 0.015715020076089617, 'Fuente': '3F_factor', 'n_input': 4, 'n_output': 1, 'num_neuronas': 150, 'batch_size': 50, 'num_layers': 2, 'MSE': 0.00024696185599189967}\n",
            "Current options: 3F_factor/4/1/150/100/2/best:0.014779222749908213\n",
            "{'Model': 'GRU', 'RMSE': 0.01558878780461798, 'Fuente': '3F_factor', 'n_input': 4, 'n_output': 1, 'num_neuronas': 150, 'batch_size': 100, 'num_layers': 2, 'MSE': 0.00024301030521740627}\n",
            "Current options: 3F_factor/4/1/150/150/2/best:0.014779222749908213\n",
            "{'Model': 'GRU', 'RMSE': 0.016989069943302165, 'Fuente': '3F_factor', 'n_input': 4, 'n_output': 1, 'num_neuronas': 150, 'batch_size': 150, 'num_layers': 2, 'MSE': 0.000288628497538413}\n",
            "Current options: 3F_factor/4/1/150/50/3/best:0.014779222749908213\n",
            "BEST\n",
            "{'Model': 'GRU', 'RMSE': 0.01453638629367971, 'Fuente': '3F_factor', 'n_input': 4, 'n_output': 1, 'num_neuronas': 150, 'batch_size': 50, 'num_layers': 3, 'MSE': 0.00021130652647907935}\n",
            "Current options: 3F_factor/4/1/150/100/3/best:0.01453638629367971\n"
          ]
        },
        {
          "output_type": "stream",
          "name": "stderr",
          "text": [
            "/usr/local/lib/python3.10/dist-packages/keras/src/engine/training.py:3103: UserWarning: You are saving your model as an HDF5 file via `model.save()`. This file format is considered legacy. We recommend using instead the native Keras format, e.g. `model.save('my_model.keras')`.\n",
            "  saving_api.save_model(\n"
          ]
        },
        {
          "output_type": "stream",
          "name": "stdout",
          "text": [
            "{'Model': 'GRU', 'RMSE': 0.016044953207702255, 'Fuente': '3F_factor', 'n_input': 4, 'n_output': 1, 'num_neuronas': 150, 'batch_size': 100, 'num_layers': 3, 'MSE': 0.0002574405234373549}\n",
            "Current options: 3F_factor/4/1/150/150/3/best:0.01453638629367971\n",
            "{'Model': 'GRU', 'RMSE': 0.01624565286779505, 'Fuente': '3F_factor', 'n_input': 4, 'n_output': 1, 'num_neuronas': 150, 'batch_size': 150, 'num_layers': 3, 'MSE': 0.00026392123710089753}\n"
          ]
        }
      ],
      "source": [
        "for input_set in input_sets.keys():\n",
        "  df_train_i = df_train[input_sets[input_set]].copy()\n",
        "  df_val_i = df_val[input_sets[input_set]].copy()\n",
        "  # scaled data\n",
        "  scaler.fit(df_train_i)\n",
        "  scaled_train = scaler.transform(df_train_i)\n",
        "  scaled_val = scaler.transform(df_val_i)\n",
        "  # prediction window\n",
        "  for pw in ventana_prediccion:\n",
        "    n_output = pw\n",
        "    if(last_n_output != n_output or input_set != last_iset):\n",
        "      min_error = 100000 # hay que mejorar\n",
        "    else:\n",
        "      min_error = last_min_err\n",
        "\n",
        "    for fi in factor_ventana_entrada:\n",
        "      n_input = int(fi*pw)\n",
        "      if(n_input<1):\n",
        "        continue\n",
        "      n_features = len(df_train_i.columns)-1\n",
        "      for num_neuronas in num_neuronas_set:\n",
        "        for num_layers in num_layers_set:\n",
        "          for batch_size in batch_size_set:\n",
        "            if('GRU'+str(input_set)+str(n_input)+str(n_output)+str(num_neuronas)+str(batch_size)+str(num_layers)\n",
        "               in string_list):\n",
        "              continue\n",
        "            print(f'Current options: {input_set}/{n_input}/{n_output}/{num_neuronas}/{batch_size}/{num_layers}/best:{min_error}')\n",
        "            X_train, y_train = get_XY(scaled_train,past_hours=n_input,prediction_window=n_output)\n",
        "            model = create_Model(n_input,LSTM_neurons=num_neuronas,layers=num_layers,n_features=n_features,n_output=n_output)\n",
        "            model.fit(X_train,y_train,epochs=10,verbose=False,batch_size=batch_size)\n",
        "\n",
        "            X_val, y_val = get_XY(scaled_val,past_hours=n_input,prediction_window=n_output)\n",
        "            predictions = model.predict(X_val,verbose=False)\n",
        "\n",
        "            flatten_y = y_val.flatten()\n",
        "            flatten_pred = predictions.flatten()\n",
        "\n",
        "            true_y = np.zeros(shape=(len(flatten_pred), 1+n_features))\n",
        "            true_y[:,0] = flatten_y\n",
        "            true_y = scaler.inverse_transform(true_y)\n",
        "            true_pred = np.zeros(shape=(len(flatten_pred), 1+n_features))\n",
        "            true_pred[:,0] = flatten_pred\n",
        "            true_pred = scaler.inverse_transform(true_pred)\n",
        "            errorMSE = mean_squared_error(true_y[:,0],true_pred[:,0])\n",
        "            errorRMSE = np.sqrt(errorMSE)\n",
        "            if (errorRMSE < min_error):\n",
        "              min_error = errorRMSE\n",
        "              last_min_err = min_error\n",
        "              print('BEST')\n",
        "              model_path = os.path.join(folder_path, f'investigacion/grid_search2/GRU_m_model_{input_set}_pw{n_output}_iw{n_input}.h5')\n",
        "              model.save(model_path)\n",
        "            resultado = {\n",
        "                'Model':'GRU',\n",
        "                'RMSE':errorRMSE,\n",
        "                'Fuente':input_set,\n",
        "                'n_input':n_input,\n",
        "                'n_output':n_output,\n",
        "                'num_neuronas':num_neuronas,\n",
        "                'batch_size':batch_size,\n",
        "                'num_layers': num_layers,\n",
        "                'MSE':errorMSE,\n",
        "            }\n",
        "            print(resultado)\n",
        "            gsearch_path = os.path.join(folder_path, f'investigacion/grid_search2/GS_GRU_m_{input_set}.txt')\n",
        "            with open(gsearch_path,\"a\") as file:\n",
        "              resultado = json.dumps(resultado)\n",
        "              file.write(resultado)\n",
        "              file.write('\\n')\n"
      ]
    },
    {
      "cell_type": "code",
      "execution_count": null,
      "metadata": {
        "id": "dUqiuccdxqAo"
      },
      "outputs": [],
      "source": []
    }
  ],
  "metadata": {
    "colab": {
      "provenance": []
    },
    "kernelspec": {
      "display_name": "Python 3",
      "name": "python3"
    },
    "language_info": {
      "name": "python"
    }
  },
  "nbformat": 4,
  "nbformat_minor": 0
}